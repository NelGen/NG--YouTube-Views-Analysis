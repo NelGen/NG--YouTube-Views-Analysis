{
 "cells": [
  {
   "cell_type": "markdown",
   "metadata": {},
   "source": [
    "# Data Preparation for EDA and Modeling"
   ]
  },
  {
   "cell_type": "markdown",
   "metadata": {},
   "source": [
    "During the data preparation, I've made a few cleaning decisions:\n",
    "\n",
    "1. In the player data, I want to capture data for popular pro players such as DRG and Vanya who have changed their names\n",
    "2. I added the popular player Florencio to the players list and removed players who have names too similar to other words commonly used such as \"has\",\"zero\", and \"ready\"\n",
    "3. There are several numbers I want to keep which involves computer parts, years, matchups (1 vs 1, 2 vs 2) or numbers\n",
    "found in certain video games such as Cyberpunk 2077\n",
    "4. I refined the stop words list to exclude words I believe would help grab a viewers attention, particularly words used when asking questions\n",
    "5. I decided to keep words that are fully capitalized which I believe also help grab a viewers attention"
   ]
  },
  {
   "cell_type": "code",
   "execution_count": 1,
   "metadata": {},
   "outputs": [],
   "source": [
    "# Imports\n",
    "import pickle\n",
    "import pandas as pd\n",
    "import numpy as np\n",
    "import matplotlib.pyplot as plt\n",
    "%matplotlib inline\n",
    "import matplotlib.ticker as ticker\n",
    "import matplotlib.image as mpimg\n",
    "import seaborn as sns\n",
    "import nltk\n",
    "from nltk.corpus import stopwords\n",
    "import string\n",
    "import re\n",
    "from nltk import word_tokenize, FreqDist\n",
    "from sklearn.feature_extraction.text import CountVectorizer\n",
    "\n",
    "import tensorflow as tf\n",
    "from tensorflow import keras\n",
    "from tensorflow.keras.preprocessing.text import Tokenizer\n",
    "from tensorflow.keras.preprocessing.sequence import pad_sequences\n",
    "\n",
    "import warnings\n",
    "warnings.filterwarnings(\"ignore\")\n",
    "\n",
    "from Functions import *"
   ]
  },
  {
   "cell_type": "markdown",
   "metadata": {},
   "source": [
    "## Importing data pulled from APIs"
   ]
  },
  {
   "cell_type": "code",
   "execution_count": 8,
   "metadata": {},
   "outputs": [],
   "source": [
    "all_stats = pickle.load(open(r\"Data/all_stats.p\",\"rb\"))\n",
    "players = pickle.load(open(r\"Data/players_df.pickle\",\"rb\"))"
   ]
  },
  {
   "cell_type": "code",
   "execution_count": 9,
   "metadata": {
    "scrolled": true
   },
   "outputs": [],
   "source": [
    "# converting all_stats info a dataframe\n",
    "main_df = pd.DataFrame.from_dict(all_stats).apply(lambda x: get_stats(x), axis=1).apply(pd.Series)"
   ]
  },
  {
   "cell_type": "code",
   "execution_count": 10,
   "metadata": {},
   "outputs": [],
   "source": [
    "main_df['views'] = main_df['views'].astype(int)\n",
    "main_df['likes'] = main_df['likes'].astype(int)\n",
    "main_df['minutes'] = main_df['duration'].apply(lambda x: dur_to_min(x))"
   ]
  },
  {
   "cell_type": "code",
   "execution_count": 12,
   "metadata": {},
   "outputs": [],
   "source": [
    "# Only keeping the last 3 years of YouTube video data\n",
    "current_df = main_df.loc[main_df['date']>='2018']"
   ]
  },
  {
   "cell_type": "markdown",
   "metadata": {},
   "source": [
    "## Cleaning the Player Data"
   ]
  },
  {
   "cell_type": "code",
   "execution_count": 14,
   "metadata": {},
   "outputs": [],
   "source": [
    "# Converting string data to lowercase\n",
    "players['country'] = players['country'].apply(lambda x: str(x).lower())\n",
    "players['race'] = players['race'].apply(lambda x: str(x).lower())\n",
    "players['tag'] = players['tag'].apply(lambda x: str(x).lower())"
   ]
  },
  {
   "cell_type": "code",
   "execution_count": 15,
   "metadata": {},
   "outputs": [],
   "source": [
    "# Removing player names too similar to other commonly used words in titles\n",
    "remove = ['jim','punk','thor','hyperion','probe','control','alpha','fenix','golden','fear','flood','strange',\n",
    "          'terran','zerg','scv','nexus','reaper','meat','blink','chance','mechanics','wave','next','nice','zero',\n",
    "          'shadow','raise','job','doctor','time','has','phoenix','raise','sortof','dns','keen',\n",
    "          'cham','prototype','academy','ranger','blacksmith','faith','eternity','chase','crimson',\n",
    "          'albion','fate','tears','coffee','monster','ready','hunter','ling','turn','master','risky']"
   ]
  },
  {
   "cell_type": "code",
   "execution_count": 16,
   "metadata": {},
   "outputs": [],
   "source": [
    "dropped_players = players.loc[~players['tag'].isin(remove)]"
   ]
  },
  {
   "cell_type": "code",
   "execution_count": 17,
   "metadata": {},
   "outputs": [
    {
     "data": {
      "text/html": [
       "<div>\n",
       "<style scoped>\n",
       "    .dataframe tbody tr th:only-of-type {\n",
       "        vertical-align: middle;\n",
       "    }\n",
       "\n",
       "    .dataframe tbody tr th {\n",
       "        vertical-align: top;\n",
       "    }\n",
       "\n",
       "    .dataframe thead th {\n",
       "        text-align: right;\n",
       "    }\n",
       "</style>\n",
       "<table border=\"1\" class=\"dataframe\">\n",
       "  <thead>\n",
       "    <tr style=\"text-align: right;\">\n",
       "      <th></th>\n",
       "      <th>country</th>\n",
       "      <th>id</th>\n",
       "      <th>race</th>\n",
       "      <th>resource_uri</th>\n",
       "      <th>tag</th>\n",
       "    </tr>\n",
       "  </thead>\n",
       "  <tbody>\n",
       "    <tr>\n",
       "      <th>0</th>\n",
       "      <td>fi</td>\n",
       "      <td>485</td>\n",
       "      <td>z</td>\n",
       "      <td>/api/v1/player/485/</td>\n",
       "      <td>serral</td>\n",
       "    </tr>\n",
       "    <tr>\n",
       "      <th>1</th>\n",
       "      <td>kr</td>\n",
       "      <td>49</td>\n",
       "      <td>t</td>\n",
       "      <td>/api/v1/player/49/</td>\n",
       "      <td>maru</td>\n",
       "    </tr>\n",
       "    <tr>\n",
       "      <th>2</th>\n",
       "      <td>fr</td>\n",
       "      <td>5878</td>\n",
       "      <td>t</td>\n",
       "      <td>/api/v1/player/5878/</td>\n",
       "      <td>clem</td>\n",
       "    </tr>\n",
       "    <tr>\n",
       "      <th>3</th>\n",
       "      <td>it</td>\n",
       "      <td>5414</td>\n",
       "      <td>z</td>\n",
       "      <td>/api/v1/player/5414/</td>\n",
       "      <td>reynor</td>\n",
       "    </tr>\n",
       "    <tr>\n",
       "      <th>4</th>\n",
       "      <td>kr</td>\n",
       "      <td>76</td>\n",
       "      <td>z</td>\n",
       "      <td>/api/v1/player/76/</td>\n",
       "      <td>dark</td>\n",
       "    </tr>\n",
       "  </tbody>\n",
       "</table>\n",
       "</div>"
      ],
      "text/plain": [
       "  country    id race          resource_uri     tag\n",
       "0      fi   485    z   /api/v1/player/485/  serral\n",
       "1      kr    49    t    /api/v1/player/49/    maru\n",
       "2      fr  5878    t  /api/v1/player/5878/    clem\n",
       "3      it  5414    z  /api/v1/player/5414/  reynor\n",
       "4      kr    76    z    /api/v1/player/76/    dark"
      ]
     },
     "execution_count": 17,
     "metadata": {},
     "output_type": "execute_result"
    }
   ],
   "source": [
    "dropped_players.head()"
   ]
  },
  {
   "cell_type": "code",
   "execution_count": 18,
   "metadata": {},
   "outputs": [],
   "source": [
    "player_cleaning_df = current_df.copy()"
   ]
  },
  {
   "cell_type": "markdown",
   "metadata": {},
   "source": [
    "### Adding labels for players in title"
   ]
  },
  {
   "cell_type": "code",
   "execution_count": 20,
   "metadata": {},
   "outputs": [],
   "source": [
    "player_list = dropped_players.tag.values"
   ]
  },
  {
   "cell_type": "code",
   "execution_count": 21,
   "metadata": {},
   "outputs": [],
   "source": [
    "# Creates a column with a list of players found in title\n",
    "player_cleaning_df['players'] = player_cleaning_df['title'].apply(lambda x: get_from_list(x,player_list))"
   ]
  },
  {
   "cell_type": "code",
   "execution_count": 22,
   "metadata": {},
   "outputs": [],
   "source": [
    "# Creates a column for each player and add 1 if player is in title\n",
    "for i in range(len(player_list)):\n",
    "    for player in player_cleaning_df.iloc[i].players:\n",
    "        player_cleaning_df.at[i,player]=1"
   ]
  },
  {
   "cell_type": "markdown",
   "metadata": {},
   "source": [
    "### Finding average views and number of videos for each player"
   ]
  },
  {
   "cell_type": "code",
   "execution_count": 23,
   "metadata": {},
   "outputs": [],
   "source": [
    "avg_views = []\n",
    "count_views = []\n",
    "\n",
    "# Find average views and number of videos, 0 if none\n",
    "for player in player_list:\n",
    "    try:\n",
    "        avg_views.append(player_cleaning_df.loc[player_cleaning_df[player]==True].views.mean())\n",
    "        count_views.append(player_cleaning_df.loc[player_cleaning_df[player]==True].views.count())\n",
    "    except:\n",
    "        avg_views.append(0)\n",
    "        count_views.append(0)"
   ]
  },
  {
   "cell_type": "code",
   "execution_count": 24,
   "metadata": {},
   "outputs": [],
   "source": [
    "# Add these values to the player info data frame\n",
    "dropped_players['avg_views'] = avg_views\n",
    "dropped_players['num_videos'] = count_views"
   ]
  },
  {
   "cell_type": "code",
   "execution_count": 25,
   "metadata": {
    "scrolled": true
   },
   "outputs": [
    {
     "data": {
      "text/html": [
       "<div>\n",
       "<style scoped>\n",
       "    .dataframe tbody tr th:only-of-type {\n",
       "        vertical-align: middle;\n",
       "    }\n",
       "\n",
       "    .dataframe tbody tr th {\n",
       "        vertical-align: top;\n",
       "    }\n",
       "\n",
       "    .dataframe thead th {\n",
       "        text-align: right;\n",
       "    }\n",
       "</style>\n",
       "<table border=\"1\" class=\"dataframe\">\n",
       "  <thead>\n",
       "    <tr style=\"text-align: right;\">\n",
       "      <th></th>\n",
       "      <th>country</th>\n",
       "      <th>id</th>\n",
       "      <th>race</th>\n",
       "      <th>resource_uri</th>\n",
       "      <th>tag</th>\n",
       "      <th>avg_views</th>\n",
       "      <th>num_videos</th>\n",
       "    </tr>\n",
       "  </thead>\n",
       "  <tbody>\n",
       "    <tr>\n",
       "      <th>0</th>\n",
       "      <td>fi</td>\n",
       "      <td>485</td>\n",
       "      <td>z</td>\n",
       "      <td>/api/v1/player/485/</td>\n",
       "      <td>serral</td>\n",
       "      <td>160802.518519</td>\n",
       "      <td>54</td>\n",
       "    </tr>\n",
       "    <tr>\n",
       "      <th>1</th>\n",
       "      <td>kr</td>\n",
       "      <td>49</td>\n",
       "      <td>t</td>\n",
       "      <td>/api/v1/player/49/</td>\n",
       "      <td>maru</td>\n",
       "      <td>145652.972973</td>\n",
       "      <td>37</td>\n",
       "    </tr>\n",
       "    <tr>\n",
       "      <th>2</th>\n",
       "      <td>fr</td>\n",
       "      <td>5878</td>\n",
       "      <td>t</td>\n",
       "      <td>/api/v1/player/5878/</td>\n",
       "      <td>clem</td>\n",
       "      <td>146513.170213</td>\n",
       "      <td>47</td>\n",
       "    </tr>\n",
       "    <tr>\n",
       "      <th>3</th>\n",
       "      <td>it</td>\n",
       "      <td>5414</td>\n",
       "      <td>z</td>\n",
       "      <td>/api/v1/player/5414/</td>\n",
       "      <td>reynor</td>\n",
       "      <td>144567.088889</td>\n",
       "      <td>45</td>\n",
       "    </tr>\n",
       "    <tr>\n",
       "      <th>4</th>\n",
       "      <td>kr</td>\n",
       "      <td>76</td>\n",
       "      <td>z</td>\n",
       "      <td>/api/v1/player/76/</td>\n",
       "      <td>dark</td>\n",
       "      <td>129995.939394</td>\n",
       "      <td>33</td>\n",
       "    </tr>\n",
       "  </tbody>\n",
       "</table>\n",
       "</div>"
      ],
      "text/plain": [
       "  country    id race          resource_uri     tag      avg_views  num_videos\n",
       "0      fi   485    z   /api/v1/player/485/  serral  160802.518519          54\n",
       "1      kr    49    t    /api/v1/player/49/    maru  145652.972973          37\n",
       "2      fr  5878    t  /api/v1/player/5878/    clem  146513.170213          47\n",
       "3      it  5414    z  /api/v1/player/5414/  reynor  144567.088889          45\n",
       "4      kr    76    z    /api/v1/player/76/    dark  129995.939394          33"
      ]
     },
     "execution_count": 25,
     "metadata": {},
     "output_type": "execute_result"
    }
   ],
   "source": [
    "dropped_players.head()"
   ]
  },
  {
   "cell_type": "markdown",
   "metadata": {},
   "source": [
    "## Getting Country Data"
   ]
  },
  {
   "cell_type": "code",
   "execution_count": 26,
   "metadata": {},
   "outputs": [],
   "source": [
    "countries_list = np.array(list(set(dropped_players.country)))"
   ]
  },
  {
   "cell_type": "code",
   "execution_count": 28,
   "metadata": {
    "scrolled": true
   },
   "outputs": [
    {
     "data": {
      "text/plain": [
       "array(['kr', 'vn', 'si', 'id', 'lv', 'tr', 'au', 'cu', 'jp', 'lu', 'ua',\n",
       "       'nl', 'dz', 'gt', 'us', 'be', 'ie', 'ee', 'pe', 'bo', 've', 'co',\n",
       "       'cr', 'uz', 'ba', 'ca', 'cz', 'cn', 'at', 'tw', 'ph', 'nz', 'ch',\n",
       "       'il', 'br', 'ro', 'es', 'hr', 'no', 'bg', 'se', 'mx', 'hk', 'uk',\n",
       "       'hu', 'sg', 'dk', 'it', 'none', 'fi', 'sk', 'za', 'my', 'eg', 'ar',\n",
       "       'mm', 'bd', 'de', 'lt', 'ru', 'pl', 'fr', 'in', 'is', 'cl', 'by'],\n",
       "      dtype='<U4')"
      ]
     },
     "execution_count": 28,
     "metadata": {},
     "output_type": "execute_result"
    }
   ],
   "source": [
    "countries_list.astype(str)"
   ]
  },
  {
   "cell_type": "code",
   "execution_count": 29,
   "metadata": {},
   "outputs": [],
   "source": [
    "# Adds list of countries associated with the player names found in titles\n",
    "player_cleaning_df['country'] = player_cleaning_df['title'].apply(\n",
    "                                lambda x: get_player_info(x,player_list,dropped_players,info='country'))"
   ]
  },
  {
   "cell_type": "code",
   "execution_count": 30,
   "metadata": {},
   "outputs": [],
   "source": [
    "for i in range(len(player_cleaning_df)):\n",
    "    for country in player_cleaning_df.iloc[i].country:\n",
    "        player_cleaning_df.at[i,country]=1\n",
    "player_cleaning_df.fillna(0,inplace=True)"
   ]
  },
  {
   "cell_type": "code",
   "execution_count": 31,
   "metadata": {},
   "outputs": [],
   "source": [
    "avg_views_country = []\n",
    "count_views_country = []\n",
    "\n",
    "# Find average views and number of videos for countries\n",
    "for country in countries_list:\n",
    "    try:\n",
    "        avg_views_country.append(player_cleaning_df.loc[player_cleaning_df[country]==1].views.mean())\n",
    "        count_views_country.append(player_cleaning_df.loc[player_cleaning_df[country]==1].views.count())\n",
    "    except:\n",
    "        avg_views_country.append(0)\n",
    "        count_views_country.append(0)"
   ]
  },
  {
   "cell_type": "code",
   "execution_count": 32,
   "metadata": {},
   "outputs": [],
   "source": [
    "countries_df = pd.DataFrame(data=[countries_list])"
   ]
  },
  {
   "cell_type": "code",
   "execution_count": 33,
   "metadata": {},
   "outputs": [],
   "source": [
    "countries_df = countries_df.T"
   ]
  },
  {
   "cell_type": "code",
   "execution_count": 34,
   "metadata": {},
   "outputs": [],
   "source": [
    "countries_df['avg_views'] = avg_views_country\n",
    "countries_df['num_videos'] = count_views_country"
   ]
  },
  {
   "cell_type": "code",
   "execution_count": 35,
   "metadata": {},
   "outputs": [],
   "source": [
    "countries_df.columns = ['country_code','avg_views','num_videos']"
   ]
  },
  {
   "cell_type": "code",
   "execution_count": 37,
   "metadata": {},
   "outputs": [],
   "source": [
    "# imports csv with country codes and names\n",
    "ccodes = pd.read_csv(r'Data\\country_codes.csv',encoding='latin-1')\n",
    "ccodes['Code'] = ccodes['Code'].apply(lambda x: str(x).lower().strip())"
   ]
  },
  {
   "cell_type": "code",
   "execution_count": 38,
   "metadata": {},
   "outputs": [],
   "source": [
    "country_zip = countries_df['country_code']"
   ]
  },
  {
   "cell_type": "code",
   "execution_count": 39,
   "metadata": {
    "scrolled": true
   },
   "outputs": [],
   "source": [
    "country_container = []\n",
    "for country in country_zip:\n",
    "    try:\n",
    "        country_container.append(ccodes.loc[ccodes['Code']==country,'Country'].values[0])\n",
    "    except:\n",
    "        country_container.append(\"None\")"
   ]
  },
  {
   "cell_type": "code",
   "execution_count": 40,
   "metadata": {},
   "outputs": [],
   "source": [
    "countries_df['country'] = country_container"
   ]
  },
  {
   "cell_type": "code",
   "execution_count": 41,
   "metadata": {},
   "outputs": [
    {
     "data": {
      "text/html": [
       "<div>\n",
       "<style scoped>\n",
       "    .dataframe tbody tr th:only-of-type {\n",
       "        vertical-align: middle;\n",
       "    }\n",
       "\n",
       "    .dataframe tbody tr th {\n",
       "        vertical-align: top;\n",
       "    }\n",
       "\n",
       "    .dataframe thead th {\n",
       "        text-align: right;\n",
       "    }\n",
       "</style>\n",
       "<table border=\"1\" class=\"dataframe\">\n",
       "  <thead>\n",
       "    <tr style=\"text-align: right;\">\n",
       "      <th></th>\n",
       "      <th>country_code</th>\n",
       "      <th>avg_views</th>\n",
       "      <th>num_videos</th>\n",
       "      <th>country</th>\n",
       "    </tr>\n",
       "  </thead>\n",
       "  <tbody>\n",
       "    <tr>\n",
       "      <th>0</th>\n",
       "      <td>kr</td>\n",
       "      <td>118722.110619</td>\n",
       "      <td>226</td>\n",
       "      <td>Korea, Republic of</td>\n",
       "    </tr>\n",
       "    <tr>\n",
       "      <th>1</th>\n",
       "      <td>vn</td>\n",
       "      <td>0.000000</td>\n",
       "      <td>0</td>\n",
       "      <td>Viet Nam</td>\n",
       "    </tr>\n",
       "    <tr>\n",
       "      <th>2</th>\n",
       "      <td>si</td>\n",
       "      <td>0.000000</td>\n",
       "      <td>0</td>\n",
       "      <td>Slovenia</td>\n",
       "    </tr>\n",
       "    <tr>\n",
       "      <th>3</th>\n",
       "      <td>id</td>\n",
       "      <td>0.000000</td>\n",
       "      <td>0</td>\n",
       "      <td>Indonesia</td>\n",
       "    </tr>\n",
       "    <tr>\n",
       "      <th>4</th>\n",
       "      <td>lv</td>\n",
       "      <td>0.000000</td>\n",
       "      <td>0</td>\n",
       "      <td>Latvia</td>\n",
       "    </tr>\n",
       "  </tbody>\n",
       "</table>\n",
       "</div>"
      ],
      "text/plain": [
       "  country_code      avg_views  num_videos             country\n",
       "0           kr  118722.110619         226  Korea, Republic of\n",
       "1           vn       0.000000           0            Viet Nam\n",
       "2           si       0.000000           0            Slovenia\n",
       "3           id       0.000000           0           Indonesia\n",
       "4           lv       0.000000           0              Latvia"
      ]
     },
     "execution_count": 41,
     "metadata": {},
     "output_type": "execute_result"
    }
   ],
   "source": [
    "countries_df.head()"
   ]
  },
  {
   "cell_type": "markdown",
   "metadata": {},
   "source": [
    "## Getting SC2 Race Data"
   ]
  },
  {
   "cell_type": "code",
   "execution_count": 42,
   "metadata": {},
   "outputs": [],
   "source": [
    "# Following similar logic to the countries, except the totals will have number of races instead of just a label"
   ]
  },
  {
   "cell_type": "code",
   "execution_count": 43,
   "metadata": {},
   "outputs": [],
   "source": [
    "# Starcraft 2 races = Zerg, Protoss, Terran\n",
    "sc2races = ['z','p','t']"
   ]
  },
  {
   "cell_type": "code",
   "execution_count": 44,
   "metadata": {},
   "outputs": [],
   "source": [
    "# Adds list of countries associated with the player names found in titles\n",
    "player_cleaning_df['sc2race'] = player_cleaning_df['title'].apply(\n",
    "                                lambda x: get_player_info(x,player_list,dropped_players,info='race'))\n",
    "player_cleaning_df['z'] = 0\n",
    "player_cleaning_df['t'] = 0\n",
    "player_cleaning_df['p'] = 0"
   ]
  },
  {
   "cell_type": "code",
   "execution_count": 46,
   "metadata": {},
   "outputs": [],
   "source": [
    "for i in range(len(player_cleaning_df)):\n",
    "    for race in player_cleaning_df.iloc[i].sc2race:\n",
    "        try:\n",
    "            player_cleaning_df.at[i,race]+=1\n",
    "        except:\n",
    "            player_cleaning_df.at[i,race]=1"
   ]
  },
  {
   "cell_type": "code",
   "execution_count": 47,
   "metadata": {},
   "outputs": [],
   "source": [
    "avg_views_race = []\n",
    "count_views_race = []\n",
    "\n",
    "# Find average views and number of videos for sc2 races\n",
    "for race in sc2races:\n",
    "    try:\n",
    "        avg_views_race.append(player_cleaning_df.loc[player_cleaning_df[race]>0].views.mean())\n",
    "        count_views_race.append(player_cleaning_df.loc[player_cleaning_df[race]>0].views.count())\n",
    "    except:\n",
    "        avg_views_race.append(0)\n",
    "        count_views_race.append(0)"
   ]
  },
  {
   "cell_type": "code",
   "execution_count": 48,
   "metadata": {},
   "outputs": [],
   "source": [
    "sc2races_df = pd.DataFrame(data=[sc2races])\n",
    "sc2races_df = sc2races_df.T"
   ]
  },
  {
   "cell_type": "code",
   "execution_count": 49,
   "metadata": {},
   "outputs": [],
   "source": [
    "sc2races_df['avg_views'] = avg_views_race\n",
    "sc2races_df['num_videos'] = count_views_race\n",
    "sc2races_df.columns = ['race','avg_views','num_videos']"
   ]
  },
  {
   "cell_type": "code",
   "execution_count": 50,
   "metadata": {},
   "outputs": [
    {
     "data": {
      "text/html": [
       "<div>\n",
       "<style scoped>\n",
       "    .dataframe tbody tr th:only-of-type {\n",
       "        vertical-align: middle;\n",
       "    }\n",
       "\n",
       "    .dataframe tbody tr th {\n",
       "        vertical-align: top;\n",
       "    }\n",
       "\n",
       "    .dataframe thead th {\n",
       "        text-align: right;\n",
       "    }\n",
       "</style>\n",
       "<table border=\"1\" class=\"dataframe\">\n",
       "  <thead>\n",
       "    <tr style=\"text-align: right;\">\n",
       "      <th></th>\n",
       "      <th>race</th>\n",
       "      <th>avg_views</th>\n",
       "      <th>num_videos</th>\n",
       "    </tr>\n",
       "  </thead>\n",
       "  <tbody>\n",
       "    <tr>\n",
       "      <th>0</th>\n",
       "      <td>z</td>\n",
       "      <td>133687.225941</td>\n",
       "      <td>239</td>\n",
       "    </tr>\n",
       "    <tr>\n",
       "      <th>1</th>\n",
       "      <td>p</td>\n",
       "      <td>119526.383333</td>\n",
       "      <td>180</td>\n",
       "    </tr>\n",
       "    <tr>\n",
       "      <th>2</th>\n",
       "      <td>t</td>\n",
       "      <td>129004.323077</td>\n",
       "      <td>195</td>\n",
       "    </tr>\n",
       "  </tbody>\n",
       "</table>\n",
       "</div>"
      ],
      "text/plain": [
       "  race      avg_views  num_videos\n",
       "0    z  133687.225941         239\n",
       "1    p  119526.383333         180\n",
       "2    t  129004.323077         195"
      ]
     },
     "execution_count": 50,
     "metadata": {},
     "output_type": "execute_result"
    }
   ],
   "source": [
    "sc2races_df"
   ]
  },
  {
   "cell_type": "markdown",
   "metadata": {},
   "source": [
    "## Getting Matchup Data\n",
    "- Focusing on just the 1 vs 1 matchups for this EDA, which is the most popular in this channel"
   ]
  },
  {
   "cell_type": "code",
   "execution_count": 51,
   "metadata": {},
   "outputs": [],
   "source": [
    "# 6 combinations of matchups for 3 races\n",
    "sc2matchups = ['ZvZ','ZvP','ZvT','TvT','TvP','PvP']"
   ]
  },
  {
   "cell_type": "code",
   "execution_count": 52,
   "metadata": {},
   "outputs": [],
   "source": [
    "for matchup in sc2matchups:\n",
    "    player_cleaning_df[matchup] = 0"
   ]
  },
  {
   "cell_type": "code",
   "execution_count": 53,
   "metadata": {},
   "outputs": [],
   "source": [
    "# Assigns a label for each combination of matchup\n",
    "for i in range(len(player_cleaning_df)):\n",
    "    race = player_cleaning_df.iloc[i].sc2race\n",
    "    if len(race) == 2:\n",
    "        if (\"z\" in race) & (\"t\" in race):\n",
    "            player_cleaning_df.at[i,'ZvT']=1\n",
    "        elif (\"z\" in race) & (\"p\" in race):\n",
    "            player_cleaning_df.at[i,'ZvP']=1\n",
    "        elif (\"t\" in race) & (\"p\" in race):\n",
    "            player_cleaning_df.at[i,'TvP']=1\n",
    "        elif (\"z\" in race):\n",
    "            player_cleaning_df.at[i,'ZvZ']=1\n",
    "        elif (\"t\" in race):\n",
    "            player_cleaning_df.at[i,'TvT']=1\n",
    "        elif (\"p\" in race):\n",
    "            player_cleaning_df.at[i,'PvP']=1"
   ]
  },
  {
   "cell_type": "code",
   "execution_count": 54,
   "metadata": {},
   "outputs": [],
   "source": [
    "matchup_df = pd.DataFrame(data=[sc2matchups])\n",
    "matchup_df = matchup_df.T"
   ]
  },
  {
   "cell_type": "code",
   "execution_count": 55,
   "metadata": {},
   "outputs": [],
   "source": [
    "avg_views_matchup = []\n",
    "count_views_matchup = []\n",
    "\n",
    "# Find average views and number of videos for sc2 races\n",
    "for matchup in sc2matchups:\n",
    "    try:\n",
    "        avg_views_matchup.append(player_cleaning_df.loc[player_cleaning_df[matchup]>0].views.mean())\n",
    "        count_views_matchup.append(player_cleaning_df.loc[player_cleaning_df[matchup]>0].views.count())\n",
    "    except:\n",
    "        avg_views_matchup.append(0)\n",
    "        count_views_matchup.append(0)"
   ]
  },
  {
   "cell_type": "code",
   "execution_count": 56,
   "metadata": {},
   "outputs": [],
   "source": [
    "matchup_df['avg_views'] = avg_views_matchup\n",
    "matchup_df['num_videos'] = count_views_matchup\n",
    "matchup_df.columns = ['matchup','avg_views','num_videos']"
   ]
  },
  {
   "cell_type": "code",
   "execution_count": 57,
   "metadata": {},
   "outputs": [
    {
     "data": {
      "text/html": [
       "<div>\n",
       "<style scoped>\n",
       "    .dataframe tbody tr th:only-of-type {\n",
       "        vertical-align: middle;\n",
       "    }\n",
       "\n",
       "    .dataframe tbody tr th {\n",
       "        vertical-align: top;\n",
       "    }\n",
       "\n",
       "    .dataframe thead th {\n",
       "        text-align: right;\n",
       "    }\n",
       "</style>\n",
       "<table border=\"1\" class=\"dataframe\">\n",
       "  <thead>\n",
       "    <tr style=\"text-align: right;\">\n",
       "      <th></th>\n",
       "      <th>matchup</th>\n",
       "      <th>avg_views</th>\n",
       "      <th>num_videos</th>\n",
       "    </tr>\n",
       "  </thead>\n",
       "  <tbody>\n",
       "    <tr>\n",
       "      <th>0</th>\n",
       "      <td>ZvZ</td>\n",
       "      <td>119969.833333</td>\n",
       "      <td>24</td>\n",
       "    </tr>\n",
       "    <tr>\n",
       "      <th>1</th>\n",
       "      <td>ZvP</td>\n",
       "      <td>138716.631579</td>\n",
       "      <td>57</td>\n",
       "    </tr>\n",
       "    <tr>\n",
       "      <th>2</th>\n",
       "      <td>ZvT</td>\n",
       "      <td>148570.689655</td>\n",
       "      <td>87</td>\n",
       "    </tr>\n",
       "    <tr>\n",
       "      <th>3</th>\n",
       "      <td>TvT</td>\n",
       "      <td>93882.444444</td>\n",
       "      <td>18</td>\n",
       "    </tr>\n",
       "    <tr>\n",
       "      <th>4</th>\n",
       "      <td>TvP</td>\n",
       "      <td>115359.255319</td>\n",
       "      <td>47</td>\n",
       "    </tr>\n",
       "    <tr>\n",
       "      <th>5</th>\n",
       "      <td>PvP</td>\n",
       "      <td>71545.333333</td>\n",
       "      <td>18</td>\n",
       "    </tr>\n",
       "  </tbody>\n",
       "</table>\n",
       "</div>"
      ],
      "text/plain": [
       "  matchup      avg_views  num_videos\n",
       "0     ZvZ  119969.833333          24\n",
       "1     ZvP  138716.631579          57\n",
       "2     ZvT  148570.689655          87\n",
       "3     TvT   93882.444444          18\n",
       "4     TvP  115359.255319          47\n",
       "5     PvP   71545.333333          18"
      ]
     },
     "execution_count": 57,
     "metadata": {},
     "output_type": "execute_result"
    }
   ],
   "source": [
    "matchup_df"
   ]
  },
  {
   "cell_type": "markdown",
   "metadata": {},
   "source": [
    "## Getting Game Data\n",
    "- Game titles are usually before the \":\" in the titles"
   ]
  },
  {
   "cell_type": "code",
   "execution_count": 58,
   "metadata": {},
   "outputs": [],
   "source": [
    "def game_split(message):\n",
    "    if \":\" in message:\n",
    "        return (game_cleaner(\"\".join((message.lower().split(\":\")[0].split()))))"
   ]
  },
  {
   "cell_type": "code",
   "execution_count": 59,
   "metadata": {},
   "outputs": [],
   "source": [
    "player_cleaning_df['game'] = player_cleaning_df['title'].apply(lambda x:game_split(x))\n",
    "player_cleaning_df['game'].fillna(\"none\",inplace=True)"
   ]
  },
  {
   "cell_type": "code",
   "execution_count": 61,
   "metadata": {
    "scrolled": true
   },
   "outputs": [
    {
     "data": {
      "text/plain": [
       "starcraft2                978\n",
       "none                      119\n",
       "warcraft3                  49\n",
       "frostpunk                  40\n",
       "zelda                      11\n",
       "ageofempires4              11\n",
       "starcraft                  11\n",
       "sekiro                      8\n",
       "underlords                  4\n",
       "theyarebillions             4\n",
       "worldofwarcraft             3\n",
       "hearthstone                 2\n",
       "tropico6                    1\n",
       "sabzu                       1\n",
       "arise                       1\n",
       "aplaguetale                 1\n",
       "fortnite                    1\n",
       "thestanleyparable           1\n",
       "farcry5                     1\n",
       "darksouls3                  1\n",
       "ironharvest                 1\n",
       "diablo4announcement         1\n",
       "mutantyearzero              1\n",
       "worldofwarcraftclassic      1\n",
       "Name: game, dtype: int64"
      ]
     },
     "execution_count": 61,
     "metadata": {},
     "output_type": "execute_result"
    }
   ],
   "source": [
    "player_cleaning_df['game'].value_counts()"
   ]
  },
  {
   "cell_type": "code",
   "execution_count": 62,
   "metadata": {},
   "outputs": [
    {
     "data": {
      "text/plain": [
       "starcraft2                978\n",
       "none                      119\n",
       "warcraft3                  49\n",
       "frostpunk                  40\n",
       "zelda                      11\n",
       "ageofempires4              11\n",
       "starcraft                  11\n",
       "sekiro                      8\n",
       "underlords                  4\n",
       "theyarebillions             4\n",
       "worldofwarcraft             3\n",
       "hearthstone                 2\n",
       "tropico6                    1\n",
       "sabzu                       1\n",
       "arise                       1\n",
       "aplaguetale                 1\n",
       "fortnite                    1\n",
       "thestanleyparable           1\n",
       "farcry5                     1\n",
       "darksouls3                  1\n",
       "ironharvest                 1\n",
       "diablo4announcement         1\n",
       "mutantyearzero              1\n",
       "worldofwarcraftclassic      1\n",
       "Name: game, dtype: int64"
      ]
     },
     "execution_count": 62,
     "metadata": {},
     "output_type": "execute_result"
    }
   ],
   "source": [
    "player_cleaning_df['game'].value_counts()"
   ]
  },
  {
   "cell_type": "code",
   "execution_count": 63,
   "metadata": {},
   "outputs": [],
   "source": [
    "game_df = player_cleaning_df[['game','views']].groupby('game').agg(['mean','count']).reset_index()\n",
    "game_df.columns = ['game_title','avg_views','num_videos']"
   ]
  },
  {
   "cell_type": "markdown",
   "metadata": {},
   "source": [
    "# Word Count Tokenizer"
   ]
  },
  {
   "cell_type": "code",
   "execution_count": 65,
   "metadata": {},
   "outputs": [],
   "source": [
    "# These stop words don't add much to the analysis.  Kept other common stop words\n",
    "special_stops = ['of','OF','is','the','THE','by','BY','it','in','on','and','but','being','an','for','to','they','any','from',\n",
    "                'then','some','you','your','their','as','about','out','with','his','hers','he','she','at','go']"
   ]
  },
  {
   "cell_type": "markdown",
   "metadata": {},
   "source": [
    "## One Word Tokenizer"
   ]
  },
  {
   "cell_type": "code",
   "execution_count": 66,
   "metadata": {},
   "outputs": [],
   "source": [
    "one_words = CountVectorizer(preprocessor=splitter,stop_words=special_stops)\n",
    "one_words_counter = one_words.fit_transform(player_cleaning_df['title'])"
   ]
  },
  {
   "cell_type": "markdown",
   "metadata": {},
   "source": [
    "## Bi/Tri gram Tokenizer"
   ]
  },
  {
   "cell_type": "code",
   "execution_count": 69,
   "metadata": {},
   "outputs": [],
   "source": [
    "# Using a CountVectorizer with the predefined splitter function and special stop words for processing\n",
    "# Also tokenizing for tri-grams to catch matchups X vs Y\n",
    "grammed = CountVectorizer(preprocessor=splitter,stop_words=special_stops,ngram_range=(1,3))\n",
    "grammedcounter = grammed.fit_transform(player_cleaning_df['title'])"
   ]
  },
  {
   "cell_type": "code",
   "execution_count": 71,
   "metadata": {},
   "outputs": [
    {
     "data": {
      "text/plain": [
       "9805"
      ]
     },
     "execution_count": 71,
     "metadata": {},
     "output_type": "execute_result"
    }
   ],
   "source": [
    "len(grammed.vocabulary_)"
   ]
  },
  {
   "cell_type": "code",
   "execution_count": 72,
   "metadata": {},
   "outputs": [],
   "source": [
    "grammed_df = pd.DataFrame(data=grammedcounter.toarray(),columns=grammed.get_feature_names())\n",
    "grammed_df['views'] = player_cleaning_df['views']"
   ]
  },
  {
   "cell_type": "code",
   "execution_count": 76,
   "metadata": {},
   "outputs": [],
   "source": [
    "highest_mean = []\n",
    "for col in grammed_df.columns:\n",
    "    highest_mean.append([col,grammed_df['views'].loc[grammed_df[col]==1].mean()])"
   ]
  },
  {
   "cell_type": "markdown",
   "metadata": {},
   "source": [
    "# Data Exports"
   ]
  },
  {
   "cell_type": "code",
   "execution_count": 78,
   "metadata": {},
   "outputs": [],
   "source": [
    "# # Players_cleaning_df for use with visualizations\n",
    "# with open(r'Data\\players_cleaned_df.pickle', 'wb') as f:\n",
    "#     pickle.dump(player_cleaning_df, f)\n",
    "\n",
    "# # 1gram - Trigram Tokenizers  grammed, one_words\n",
    "# with open(r'Data\\one_words.pickle','wb') as f2:\n",
    "#     pickle.dump(one_words,f2)\n",
    "# with open(r'Data\\grammed.pickle','wb') as f3:\n",
    "#     pickle.dump(grammed,f3)\n",
    "# with open(r'Data\\grammed_df.pickle','wb') as f3_2:\n",
    "#     pickle.dump(grammed_df,f3_2)\n",
    "\n",
    "# # Matchups\n",
    "# with open(r'Data\\matchup_df.pickle','wb') as f4:\n",
    "#     pickle.dump(matchup_df,f4)\n",
    "\n",
    "# # Games\n",
    "# with open(r'Data\\game_df.pickle','wb') as f5:\n",
    "#     pickle.dump(game_df,f5)\n",
    "\n",
    "# # StarCraft 2 races\n",
    "# with open(r'Data\\sc2races_df.pickle','wb') as f6:\n",
    "#     pickle.dump(sc2races_df,f6)\n",
    "\n",
    "# # Countries\n",
    "# with open(r'Data\\countries_df.pickle','wb') as f7:\n",
    "#     pickle.dump(countries_df,f7)\n",
    "\n",
    "# # Players\n",
    "# with open(r'Data\\player_df.pickle','wb') as f8:\n",
    "#     pickle.dump(dropped_players,f8)"
   ]
  }
 ],
 "metadata": {
  "kernelspec": {
   "display_name": "learn-env",
   "language": "python",
   "name": "learn-env"
  },
  "language_info": {
   "codemirror_mode": {
    "name": "ipython",
    "version": 3
   },
   "file_extension": ".py",
   "mimetype": "text/x-python",
   "name": "python",
   "nbconvert_exporter": "python",
   "pygments_lexer": "ipython3",
   "version": "3.8.5"
  },
  "toc": {
   "base_numbering": 1,
   "nav_menu": {},
   "number_sections": true,
   "sideBar": true,
   "skip_h1_title": false,
   "title_cell": "Table of Contents",
   "title_sidebar": "Contents",
   "toc_cell": false,
   "toc_position": {
    "height": "calc(100% - 180px)",
    "left": "10px",
    "top": "150px",
    "width": "355.837px"
   },
   "toc_section_display": true,
   "toc_window_display": true
  }
 },
 "nbformat": 4,
 "nbformat_minor": 4
}
