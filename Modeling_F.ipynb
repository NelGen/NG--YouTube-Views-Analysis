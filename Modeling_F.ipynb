{
 "cells": [
  {
   "cell_type": "markdown",
   "metadata": {},
   "source": [
    "# Imports and Data Load"
   ]
  },
  {
   "cell_type": "code",
   "execution_count": 1,
   "metadata": {},
   "outputs": [],
   "source": [
    "import pickle\n",
    "import pandas as pd\n",
    "import matplotlib.pyplot as plt\n",
    "%matplotlib inline\n",
    "import numpy as np\n",
    "\n",
    "from sklearn.model_selection import train_test_split\n",
    "from sklearn.metrics import mean_absolute_error\n",
    "from sklearn.metrics import mean_squared_error\n",
    "from keras import models\n",
    "from keras import layers\n",
    "from keras import optimizers\n",
    "from keras import regularizers\n",
    "from keras.models import load_model\n",
    "from keras.callbacks import ModelCheckpoint"
   ]
  },
  {
   "cell_type": "code",
   "execution_count": 2,
   "metadata": {},
   "outputs": [],
   "source": [
    "# Printing Errors\n",
    "def errors(model,error_func,X_tr,X_te,y_tr,y_te,squared=False):\n",
    "    train_error = error_func(y_tr,model.predict(np.array(X_tr)))\n",
    "    test_error = error_func(y_te,model.predict(np.array(X_te)))\n",
    "    if squared:\n",
    "        train_error = train_error**.5\n",
    "        test_error = test_error**.5\n",
    "    print(\"Train Error:\",round(train_error))\n",
    "    print(\"Test Error:\",round(test_error))"
   ]
  },
  {
   "cell_type": "code",
   "execution_count": 3,
   "metadata": {},
   "outputs": [],
   "source": [
    "tf_df = pickle.load(open(r\"Data\\tf_df.pickle\",\"rb\"))"
   ]
  },
  {
   "cell_type": "markdown",
   "metadata": {},
   "source": [
    "# Base Model"
   ]
  },
  {
   "cell_type": "markdown",
   "metadata": {},
   "source": [
    "## Train Test Validation Split\n",
    "- Using 80% of the data to train"
   ]
  },
  {
   "cell_type": "code",
   "execution_count": 4,
   "metadata": {},
   "outputs": [],
   "source": [
    "X_tf = np.array(tf_df.drop('views',axis=1))\n",
    "y_tf = tf_df['views']\n",
    "X_train, X_test, y_train, y_test = train_test_split(X_tf,y_tf,test_size=150,random_state=4521)\n",
    "X_train_f,X_val,y_train_f,y_val = train_test_split(X_train,y_train,test_size=100,random_state=4521)"
   ]
  },
  {
   "cell_type": "markdown",
   "metadata": {},
   "source": [
    "## Modeling"
   ]
  },
  {
   "cell_type": "markdown",
   "metadata": {},
   "source": [
    "### Loss on RMSE"
   ]
  },
  {
   "cell_type": "code",
   "execution_count": 5,
   "metadata": {},
   "outputs": [],
   "source": [
    "# Building Model\n",
    "model_mse = models.Sequential()\n",
    "model_mse.add(layers.Dense(units=100,activation='relu',input_shape=(1813,)))\n",
    "model_mse.add(layers.Dense(units=50,activation='relu'))\n",
    "model_mse.add(layers.Dropout(rate=0.3))\n",
    "model_mse.add(layers.Dense(units=50,activation='relu'))\n",
    "model_mse.add(layers.Dropout(rate=0.3))\n",
    "model_mse.add(layers.Dense(units=1,activation='linear'))\n",
    "\n",
    "# Compilation Step\n",
    "model_mse.compile(optimizer='adam',\n",
    "             loss='mse',\n",
    "             metrics=['mse'])"
   ]
  },
  {
   "cell_type": "code",
   "execution_count": 6,
   "metadata": {},
   "outputs": [],
   "source": [
    "# Callbacks to save best model and weights\n",
    "mse_callback = ModelCheckpoint(r'Data/model_mse.h5',monitor='val_mse',mode='min',save_best_only=True)"
   ]
  },
  {
   "cell_type": "code",
   "execution_count": 7,
   "metadata": {},
   "outputs": [
    {
     "name": "stdout",
     "output_type": "stream",
     "text": [
      "Epoch 1/50\n",
      "201/201 [==============================] - 0s 2ms/step - loss: 22867703808.0000 - mse: 22867703808.0000 - val_loss: 22609612800.0000 - val_mse: 22609612800.0000\n",
      "Epoch 2/50\n",
      "201/201 [==============================] - 0s 1ms/step - loss: 20874024960.0000 - mse: 20874024960.0000 - val_loss: 17416962048.0000 - val_mse: 17416962048.0000\n",
      "Epoch 3/50\n",
      "201/201 [==============================] - 0s 1ms/step - loss: 13806081024.0000 - mse: 13806081024.0000 - val_loss: 11038659584.0000 - val_mse: 11038659584.0000\n",
      "Epoch 4/50\n",
      "201/201 [==============================] - 0s 1ms/step - loss: 11134323712.0000 - mse: 11134323712.0000 - val_loss: 10367960064.0000 - val_mse: 10367960064.0000\n",
      "Epoch 5/50\n",
      "201/201 [==============================] - 0s 1ms/step - loss: 10727207936.0000 - mse: 10727207936.0000 - val_loss: 10233564160.0000 - val_mse: 10233564160.0000\n",
      "Epoch 6/50\n",
      "201/201 [==============================] - 0s 2ms/step - loss: 10579743744.0000 - mse: 10579742720.0000 - val_loss: 10139537408.0000 - val_mse: 10139537408.0000\n",
      "Epoch 7/50\n",
      "201/201 [==============================] - 0s 1ms/step - loss: 10489006080.0000 - mse: 10489007104.0000 - val_loss: 10023163904.0000 - val_mse: 10023163904.0000\n",
      "Epoch 8/50\n",
      "201/201 [==============================] - 0s 1ms/step - loss: 10010208256.0000 - mse: 10010206208.0000 - val_loss: 9929753600.0000 - val_mse: 9929753600.0000\n",
      "Epoch 9/50\n",
      "201/201 [==============================] - 0s 1ms/step - loss: 9904964608.0000 - mse: 9904964608.0000 - val_loss: 9869741056.0000 - val_mse: 9869741056.0000\n",
      "Epoch 10/50\n",
      "201/201 [==============================] - 0s 1ms/step - loss: 9441360896.0000 - mse: 9441361920.0000 - val_loss: 9814028288.0000 - val_mse: 9814028288.0000\n",
      "Epoch 11/50\n",
      "201/201 [==============================] - 0s 1ms/step - loss: 9385680896.0000 - mse: 9385679872.0000 - val_loss: 9755640832.0000 - val_mse: 9755640832.0000\n",
      "Epoch 12/50\n",
      "201/201 [==============================] - 0s 1ms/step - loss: 9298365440.0000 - mse: 9298365440.0000 - val_loss: 9720627200.0000 - val_mse: 9720627200.0000\n",
      "Epoch 13/50\n",
      "201/201 [==============================] - 0s 1ms/step - loss: 9177329664.0000 - mse: 9177329664.0000 - val_loss: 9681610752.0000 - val_mse: 9681610752.0000\n",
      "Epoch 14/50\n",
      "201/201 [==============================] - 0s 1ms/step - loss: 8842810368.0000 - mse: 8842810368.0000 - val_loss: 9672087552.0000 - val_mse: 9672087552.0000\n",
      "Epoch 15/50\n",
      "201/201 [==============================] - 0s 868us/step - loss: 8605772800.0000 - mse: 8605772800.0000 - val_loss: 9686518784.0000 - val_mse: 9686518784.0000\n",
      "Epoch 16/50\n",
      "201/201 [==============================] - 0s 784us/step - loss: 8327183872.0000 - mse: 8327183872.0000 - val_loss: 9686010880.0000 - val_mse: 9686010880.0000\n",
      "Epoch 17/50\n",
      "201/201 [==============================] - 0s 2ms/step - loss: 8349135872.0000 - mse: 8349135872.0000 - val_loss: 9646457856.0000 - val_mse: 9646457856.0000\n",
      "Epoch 18/50\n",
      "201/201 [==============================] - 0s 986us/step - loss: 8013008384.0000 - mse: 8013008384.0000 - val_loss: 9698479104.0000 - val_mse: 9698479104.0000\n",
      "Epoch 19/50\n",
      "201/201 [==============================] - 0s 965us/step - loss: 7566445056.0000 - mse: 7566445568.0000 - val_loss: 9701354496.0000 - val_mse: 9701355520.0000\n",
      "Epoch 20/50\n",
      "201/201 [==============================] - 0s 935us/step - loss: 7709398528.0000 - mse: 7709398528.0000 - val_loss: 9734092800.0000 - val_mse: 9734092800.0000\n",
      "Epoch 21/50\n",
      "201/201 [==============================] - 0s 918us/step - loss: 7720292864.0000 - mse: 7720292352.0000 - val_loss: 9745443840.0000 - val_mse: 9745443840.0000\n",
      "Epoch 22/50\n",
      "201/201 [==============================] - 0s 920us/step - loss: 7359543808.0000 - mse: 7359543808.0000 - val_loss: 9789285376.0000 - val_mse: 9789285376.0000\n",
      "Epoch 23/50\n",
      "201/201 [==============================] - 0s 910us/step - loss: 7138391552.0000 - mse: 7138391552.0000 - val_loss: 9894722560.0000 - val_mse: 9894722560.0000\n",
      "Epoch 24/50\n",
      "201/201 [==============================] - 0s 1ms/step - loss: 7060651008.0000 - mse: 7060650496.0000 - val_loss: 9919656960.0000 - val_mse: 9919656960.0000\n",
      "Epoch 25/50\n",
      "201/201 [==============================] - 0s 1ms/step - loss: 6991314432.0000 - mse: 6991314432.0000 - val_loss: 9989850112.0000 - val_mse: 9989850112.0000\n",
      "Epoch 26/50\n",
      "201/201 [==============================] - 0s 1ms/step - loss: 6628949504.0000 - mse: 6628949504.0000 - val_loss: 10100371456.0000 - val_mse: 10100371456.0000\n",
      "Epoch 27/50\n",
      "201/201 [==============================] - 0s 1ms/step - loss: 6491934208.0000 - mse: 6491934208.0000 - val_loss: 10104794112.0000 - val_mse: 10104794112.0000\n",
      "Epoch 28/50\n",
      "201/201 [==============================] - 0s 910us/step - loss: 6355614720.0000 - mse: 6355614720.0000 - val_loss: 10284027904.0000 - val_mse: 10284027904.0000\n",
      "Epoch 29/50\n",
      "201/201 [==============================] - 0s 930us/step - loss: 6459076096.0000 - mse: 6459076096.0000 - val_loss: 10423976960.0000 - val_mse: 10423976960.0000\n",
      "Epoch 30/50\n",
      "201/201 [==============================] - 0s 1ms/step - loss: 5818272768.0000 - mse: 5818272768.0000 - val_loss: 10560641024.0000 - val_mse: 10560641024.0000\n",
      "Epoch 31/50\n",
      "201/201 [==============================] - 0s 1ms/step - loss: 5838297088.0000 - mse: 5838297088.0000 - val_loss: 10656010240.0000 - val_mse: 10656010240.0000\n",
      "Epoch 32/50\n",
      "201/201 [==============================] - 0s 958us/step - loss: 5710546432.0000 - mse: 5710546432.0000 - val_loss: 10701960192.0000 - val_mse: 10701960192.0000\n",
      "Epoch 33/50\n",
      "201/201 [==============================] - 0s 968us/step - loss: 5439535104.0000 - mse: 5439535104.0000 - val_loss: 10837815296.0000 - val_mse: 10837815296.0000\n",
      "Epoch 34/50\n",
      "201/201 [==============================] - 0s 915us/step - loss: 5506577920.0000 - mse: 5506577920.0000 - val_loss: 10983915520.0000 - val_mse: 10983915520.0000\n",
      "Epoch 35/50\n",
      "201/201 [==============================] - 0s 900us/step - loss: 5618078720.0000 - mse: 5618078720.0000 - val_loss: 11237371904.0000 - val_mse: 11237371904.0000\n",
      "Epoch 36/50\n",
      "201/201 [==============================] - 0s 903us/step - loss: 4671754240.0000 - mse: 4671754240.0000 - val_loss: 11442936832.0000 - val_mse: 11442936832.0000\n",
      "Epoch 37/50\n",
      "201/201 [==============================] - 0s 908us/step - loss: 5351050752.0000 - mse: 5351050752.0000 - val_loss: 11520906240.0000 - val_mse: 11520906240.0000\n",
      "Epoch 38/50\n",
      "201/201 [==============================] - 0s 958us/step - loss: 5045432320.0000 - mse: 5045432320.0000 - val_loss: 11822609408.0000 - val_mse: 11822609408.0000\n",
      "Epoch 39/50\n",
      "201/201 [==============================] - 0s 945us/step - loss: 4169594624.0000 - mse: 4169594624.0000 - val_loss: 11877861376.0000 - val_mse: 11877861376.0000\n",
      "Epoch 40/50\n",
      "201/201 [==============================] - 0s 915us/step - loss: 4991881728.0000 - mse: 4991881728.0000 - val_loss: 12226278400.0000 - val_mse: 12226278400.0000\n",
      "Epoch 41/50\n",
      "201/201 [==============================] - 0s 918us/step - loss: 4563010048.0000 - mse: 4563010048.0000 - val_loss: 12177354752.0000 - val_mse: 12177354752.0000\n",
      "Epoch 42/50\n",
      "201/201 [==============================] - 0s 821us/step - loss: 4565686784.0000 - mse: 4565686784.0000 - val_loss: 12407405568.0000 - val_mse: 12407405568.0000\n",
      "Epoch 43/50\n",
      "201/201 [==============================] - 0s 806us/step - loss: 4332145152.0000 - mse: 4332145152.0000 - val_loss: 12652408832.0000 - val_mse: 12652408832.0000\n",
      "Epoch 44/50\n",
      "201/201 [==============================] - 0s 794us/step - loss: 4458952704.0000 - mse: 4458952192.0000 - val_loss: 12954052608.0000 - val_mse: 12954054656.0000\n",
      "Epoch 45/50\n",
      "201/201 [==============================] - 0s 811us/step - loss: 3626470912.0000 - mse: 3626470912.0000 - val_loss: 13213168640.0000 - val_mse: 13213168640.0000\n",
      "Epoch 46/50\n",
      "201/201 [==============================] - 0s 838us/step - loss: 4168278784.0000 - mse: 4168278784.0000 - val_loss: 13333921792.0000 - val_mse: 13333921792.0000\n",
      "Epoch 47/50\n",
      "201/201 [==============================] - 0s 779us/step - loss: 4243330304.0000 - mse: 4243330304.0000 - val_loss: 13588541440.0000 - val_mse: 13588541440.0000\n",
      "Epoch 48/50\n",
      "201/201 [==============================] - 0s 811us/step - loss: 4396816384.0000 - mse: 4396815872.0000 - val_loss: 13733750784.0000 - val_mse: 13733750784.0000\n"
     ]
    },
    {
     "name": "stdout",
     "output_type": "stream",
     "text": [
      "Epoch 49/50\n",
      "201/201 [==============================] - 0s 806us/step - loss: 3635256320.0000 - mse: 3635256320.0000 - val_loss: 14091714560.0000 - val_mse: 14091714560.0000\n",
      "Epoch 50/50\n",
      "201/201 [==============================] - 0s 789us/step - loss: 3879103232.0000 - mse: 3879103232.0000 - val_loss: 14216223744.0000 - val_mse: 14216223744.0000\n"
     ]
    }
   ],
   "source": [
    "# Training Step\n",
    "history_mse = model_mse.fit(X_train_f, y_train_f, batch_size=5,epochs=50,validation_data=(X_val,y_val),\n",
    "                            callbacks=[mse_callback])"
   ]
  },
  {
   "cell_type": "code",
   "execution_count": 8,
   "metadata": {
    "scrolled": false
   },
   "outputs": [
    {
     "data": {
      "image/png": "[encoded data removed]",
      "text/plain": [
       "<Figure size 864x576 with 1 Axes>"
      ]
     },
     "metadata": {
      "needs_background": "light"
     },
     "output_type": "display_data"
    }
   ],
   "source": [
    "# Plotting Loss\n",
    "fig, ax = plt.subplots(figsize=(12, 8))\n",
    "\n",
    "model_dict = history_mse.history\n",
    "\n",
    "rmse_values = np.sqrt(model_dict['mse']) \n",
    "val_rmse_values = np.sqrt(model_dict['val_mse'])\n",
    "\n",
    "epochs = range(1, len(rmse_values) + 1)\n",
    "ax.plot(epochs, rmse_values, label='Training RMSE')\n",
    "ax.plot(epochs, val_rmse_values, label='Validation RMSE')\n",
    "plt.legend()\n",
    "plt.title('Word Data RMSE')\n",
    "plt.xlabel('Epochs')\n",
    "plt.ylabel('RMSE')\n",
    "plt.show()"
   ]
  },
  {
   "cell_type": "markdown",
   "metadata": {},
   "source": [
    "#### Best Results"
   ]
  },
  {
   "cell_type": "code",
   "execution_count": 9,
   "metadata": {},
   "outputs": [
    {
     "name": "stdout",
     "output_type": "stream",
     "text": [
      "Train Error: 87727\n",
      "Test Error: 79967\n"
     ]
    }
   ],
   "source": [
    "best_mse = load_model(r'Data/model_mse.h5')\n",
    "errors(best_mse,mean_squared_error,X_train_f, X_test,y_train_f,y_test,squared=True)"
   ]
  },
  {
   "cell_type": "markdown",
   "metadata": {},
   "source": [
    "### Loss on MAE"
   ]
  },
  {
   "cell_type": "code",
   "execution_count": 10,
   "metadata": {},
   "outputs": [],
   "source": [
    "# Building Model\n",
    "model_mae = models.Sequential()\n",
    "model_mae.add(layers.Dense(units=100,activation='relu',input_shape=(1813,)))\n",
    "model_mae.add(layers.Dense(units=50,activation='relu'))\n",
    "model_mae.add(layers.Dropout(rate=0.3))\n",
    "model_mae.add(layers.Dense(units=50,activation='relu'))\n",
    "model_mae.add(layers.Dropout(rate=0.3))\n",
    "model_mae.add(layers.Dense(units=1,activation='linear'))\n",
    "\n",
    "# Compilation Step\n",
    "model_mae.compile(optimizer='adam',\n",
    "             loss='mae',\n",
    "             metrics=['mae'])"
   ]
  },
  {
   "cell_type": "code",
   "execution_count": 11,
   "metadata": {},
   "outputs": [],
   "source": [
    "# Callbacks to save best model and weights\n",
    "mae_callback = ModelCheckpoint(r'Data/model_mae.h5',monitor='val_mae',mode='min',save_best_only=True)"
   ]
  },
  {
   "cell_type": "code",
   "execution_count": 12,
   "metadata": {
    "scrolled": true
   },
   "outputs": [
    {
     "name": "stdout",
     "output_type": "stream",
     "text": [
      "Epoch 1/50\n",
      "201/201 [==============================] - 0s 2ms/step - loss: 107079.3516 - mae: 107079.3516 - val_loss: 105387.8672 - val_mae: 105387.8672\n",
      "Epoch 2/50\n",
      "201/201 [==============================] - 0s 2ms/step - loss: 89680.3047 - mae: 89680.3047 - val_loss: 61714.0938 - val_mae: 61714.0938\n",
      "Epoch 3/50\n",
      "201/201 [==============================] - 0s 1ms/step - loss: 56165.0352 - mae: 56165.0352 - val_loss: 51698.0156 - val_mae: 51698.0156\n",
      "Epoch 4/50\n",
      "201/201 [==============================] - 0s 1ms/step - loss: 53102.6172 - mae: 53102.6172 - val_loss: 50612.0508 - val_mae: 50612.0508\n",
      "Epoch 5/50\n",
      "201/201 [==============================] - 0s 1ms/step - loss: 50137.9648 - mae: 50137.9648 - val_loss: 49555.0000 - val_mae: 49555.0000\n",
      "Epoch 6/50\n",
      "201/201 [==============================] - 0s 1ms/step - loss: 49022.3398 - mae: 49022.3398 - val_loss: 48466.3242 - val_mae: 48466.3242\n",
      "Epoch 7/50\n",
      "201/201 [==============================] - 0s 1ms/step - loss: 47881.0977 - mae: 47881.0977 - val_loss: 47993.9062 - val_mae: 47993.9062\n",
      "Epoch 8/50\n",
      "201/201 [==============================] - 0s 2ms/step - loss: 46368.6602 - mae: 46368.6602 - val_loss: 47427.2109 - val_mae: 47427.2109\n",
      "Epoch 9/50\n",
      "201/201 [==============================] - 0s 1ms/step - loss: 44551.3789 - mae: 44551.3789 - val_loss: 47206.4883 - val_mae: 47206.4883\n",
      "Epoch 10/50\n",
      "201/201 [==============================] - 0s 2ms/step - loss: 44222.8711 - mae: 44222.8711 - val_loss: 46815.9102 - val_mae: 46815.9102\n",
      "Epoch 11/50\n",
      "201/201 [==============================] - 0s 2ms/step - loss: 41967.2734 - mae: 41967.2734 - val_loss: 46660.3711 - val_mae: 46660.3711\n",
      "Epoch 12/50\n",
      "201/201 [==============================] - 0s 903us/step - loss: 41710.7031 - mae: 41710.7031 - val_loss: 46932.9102 - val_mae: 46932.9062\n",
      "Epoch 13/50\n",
      "201/201 [==============================] - 0s 2ms/step - loss: 40827.2031 - mae: 40827.2031 - val_loss: 46540.4609 - val_mae: 46540.4609\n",
      "Epoch 14/50\n",
      "201/201 [==============================] - 0s 1ms/step - loss: 39817.3008 - mae: 39817.3008 - val_loss: 46202.7695 - val_mae: 46202.7695\n",
      "Epoch 15/50\n",
      "201/201 [==============================] - 0s 1ms/step - loss: 39079.8750 - mae: 39079.8750 - val_loss: 46111.0469 - val_mae: 46111.0469\n",
      "Epoch 16/50\n",
      "201/201 [==============================] - 0s 1ms/step - loss: 38390.1992 - mae: 38390.1992 - val_loss: 46249.7539 - val_mae: 46249.7539\n",
      "Epoch 17/50\n",
      "201/201 [==============================] - 0s 1ms/step - loss: 37677.8164 - mae: 37677.8164 - val_loss: 46013.1992 - val_mae: 46013.1992\n",
      "Epoch 18/50\n",
      "201/201 [==============================] - 0s 1ms/step - loss: 37486.2461 - mae: 37486.2461 - val_loss: 45972.1484 - val_mae: 45972.1484\n",
      "Epoch 19/50\n",
      "201/201 [==============================] - 0s 973us/step - loss: 36291.1172 - mae: 36291.1172 - val_loss: 46192.2656 - val_mae: 46192.2656\n",
      "Epoch 20/50\n",
      "201/201 [==============================] - 0s 893us/step - loss: 36558.6289 - mae: 36558.6289 - val_loss: 46090.9219 - val_mae: 46090.9219\n",
      "Epoch 21/50\n",
      "201/201 [==============================] - 0s 901us/step - loss: 34349.8750 - mae: 34349.8750 - val_loss: 46006.3047 - val_mae: 46006.3047\n",
      "Epoch 22/50\n",
      "201/201 [==============================] - 0s 973us/step - loss: 34350.3438 - mae: 34350.3438 - val_loss: 46213.7344 - val_mae: 46213.7344\n",
      "Epoch 23/50\n",
      "201/201 [==============================] - 0s 943us/step - loss: 33867.1914 - mae: 33867.1914 - val_loss: 46726.3008 - val_mae: 46726.3008\n",
      "Epoch 24/50\n",
      "201/201 [==============================] - 0s 918us/step - loss: 33357.6094 - mae: 33357.6094 - val_loss: 46491.0391 - val_mae: 46491.0391\n",
      "Epoch 25/50\n",
      "201/201 [==============================] - 0s 978us/step - loss: 33763.1367 - mae: 33763.1367 - val_loss: 46549.6797 - val_mae: 46549.6797\n",
      "Epoch 26/50\n",
      "201/201 [==============================] - 0s 1ms/step - loss: 33469.0234 - mae: 33469.0234 - val_loss: 46837.0859 - val_mae: 46837.0859\n",
      "Epoch 27/50\n",
      "201/201 [==============================] - 0s 998us/step - loss: 32517.6367 - mae: 32517.6367 - val_loss: 47038.0586 - val_mae: 47038.0586\n",
      "Epoch 28/50\n",
      "201/201 [==============================] - 0s 1000us/step - loss: 32315.0762 - mae: 32315.0762 - val_loss: 46918.6797 - val_mae: 46918.6797\n",
      "Epoch 29/50\n",
      "201/201 [==============================] - 0s 781us/step - loss: 31815.3379 - mae: 31815.3379 - val_loss: 47160.5781 - val_mae: 47160.5781\n",
      "Epoch 30/50\n",
      "201/201 [==============================] - 0s 786us/step - loss: 31338.7559 - mae: 31338.7559 - val_loss: 47432.2812 - val_mae: 47432.2812\n",
      "Epoch 31/50\n",
      "201/201 [==============================] - 0s 769us/step - loss: 31108.0020 - mae: 31108.0020 - val_loss: 47741.4688 - val_mae: 47741.4688\n",
      "Epoch 32/50\n",
      "201/201 [==============================] - 0s 816us/step - loss: 31096.5605 - mae: 31096.5605 - val_loss: 48177.8945 - val_mae: 48177.8945\n",
      "Epoch 33/50\n",
      "201/201 [==============================] - 0s 796us/step - loss: 30728.8535 - mae: 30728.8535 - val_loss: 48187.1836 - val_mae: 48187.1836\n",
      "Epoch 34/50\n",
      "201/201 [==============================] - 0s 806us/step - loss: 30867.3477 - mae: 30867.3477 - val_loss: 48301.8086 - val_mae: 48301.8086\n",
      "Epoch 35/50\n",
      "201/201 [==============================] - 0s 833us/step - loss: 30477.6602 - mae: 30477.6602 - val_loss: 48934.0000 - val_mae: 48934.0000\n",
      "Epoch 36/50\n",
      "201/201 [==============================] - 0s 771us/step - loss: 30265.2520 - mae: 30265.2520 - val_loss: 48686.1094 - val_mae: 48686.1094\n",
      "Epoch 37/50\n",
      "201/201 [==============================] - 0s 821us/step - loss: 29038.3164 - mae: 29038.3164 - val_loss: 49433.4648 - val_mae: 49433.4648\n",
      "Epoch 38/50\n",
      "201/201 [==============================] - 0s 891us/step - loss: 29355.8926 - mae: 29355.8926 - val_loss: 49106.1953 - val_mae: 49106.1953\n",
      "Epoch 39/50\n",
      "201/201 [==============================] - 0s 913us/step - loss: 29978.5352 - mae: 29978.5352 - val_loss: 49445.7734 - val_mae: 49445.7734\n",
      "Epoch 40/50\n",
      "201/201 [==============================] - 0s 796us/step - loss: 29485.7559 - mae: 29485.7559 - val_loss: 49569.2852 - val_mae: 49569.2852\n",
      "Epoch 41/50\n",
      "201/201 [==============================] - 0s 801us/step - loss: 28212.1426 - mae: 28212.1426 - val_loss: 50301.6719 - val_mae: 50301.6719\n",
      "Epoch 42/50\n",
      "201/201 [==============================] - 0s 789us/step - loss: 28930.5039 - mae: 28930.5039 - val_loss: 50415.3438 - val_mae: 50415.3438\n",
      "Epoch 43/50\n",
      "201/201 [==============================] - 0s 766us/step - loss: 27868.4922 - mae: 27868.4922 - val_loss: 50987.5938 - val_mae: 50987.5938\n",
      "Epoch 44/50\n",
      "201/201 [==============================] - 0s 769us/step - loss: 28474.2012 - mae: 28474.2012 - val_loss: 51515.1602 - val_mae: 51515.1602\n",
      "Epoch 45/50\n",
      "201/201 [==============================] - 0s 891us/step - loss: 28189.4492 - mae: 28189.4492 - val_loss: 51502.0938 - val_mae: 51502.0938\n",
      "Epoch 46/50\n",
      "201/201 [==============================] - 0s 769us/step - loss: 27964.4707 - mae: 27964.4707 - val_loss: 52085.5938 - val_mae: 52085.5938\n",
      "Epoch 47/50\n",
      "201/201 [==============================] - 0s 878us/step - loss: 28194.3750 - mae: 28194.3750 - val_loss: 51755.5352 - val_mae: 51755.5352\n",
      "Epoch 48/50\n",
      "201/201 [==============================] - 0s 891us/step - loss: 26837.7754 - mae: 26837.7754 - val_loss: 52619.0703 - val_mae: 52619.0703\n",
      "Epoch 49/50\n",
      "201/201 [==============================] - 0s 823us/step - loss: 27351.1426 - mae: 27351.1426 - val_loss: 52406.0664 - val_mae: 52406.0664\n",
      "Epoch 50/50\n",
      "201/201 [==============================] - 0s 866us/step - loss: 27625.4375 - mae: 27625.4375 - val_loss: 52645.8516 - val_mae: 52645.8516\n"
     ]
    }
   ],
   "source": [
    "# Training Step\n",
    "history_mae = model_mae.fit(X_train_f, y_train_f, batch_size=5,epochs=50,validation_data=(X_val,y_val),\n",
    "                            callbacks=[mae_callback])"
   ]
  },
  {
   "cell_type": "code",
   "execution_count": 13,
   "metadata": {
    "scrolled": true
   },
   "outputs": [
    {
     "data": {
      "image/png": "[encoded data removed]",
      "text/plain": [
       "<Figure size 864x576 with 1 Axes>"
      ]
     },
     "metadata": {
      "needs_background": "light"
     },
     "output_type": "display_data"
    }
   ],
   "source": [
    "# Plotting Loss\n",
    "fig, ax = plt.subplots(figsize=(12, 8))\n",
    "\n",
    "model_dict = history_mae.history\n",
    "\n",
    "mae_values = model_dict['mae']\n",
    "val_mae_values = model_dict['val_mae']\n",
    "\n",
    "epochs = range(1, len(mae_values) + 1)\n",
    "ax.plot(epochs, mae_values, label='Training MAE')\n",
    "ax.plot(epochs, val_mae_values, label='Validation MAE')\n",
    "plt.legend()\n",
    "plt.title('Word Data MAE')\n",
    "plt.xlabel('Epochs')\n",
    "plt.ylabel('MAE')\n",
    "plt.show()"
   ]
  },
  {
   "cell_type": "markdown",
   "metadata": {},
   "source": [
    "#### Best Results"
   ]
  },
  {
   "cell_type": "code",
   "execution_count": 14,
   "metadata": {},
   "outputs": [
    {
     "name": "stdout",
     "output_type": "stream",
     "text": [
      "Train Error: 32371\n",
      "Test Error: 47073\n"
     ]
    }
   ],
   "source": [
    "best_mae = load_model(r'Data/model_mae.h5')\n",
    "errors(best_mae,mean_absolute_error,X_train_f, X_test,y_train_f,y_test,squared=False)"
   ]
  },
  {
   "cell_type": "markdown",
   "metadata": {},
   "source": [
    "# Model After Removing Outliers"
   ]
  },
  {
   "cell_type": "markdown",
   "metadata": {},
   "source": [
    "## Outlier Removal using IQR along with Train Test Validation Split"
   ]
  },
  {
   "cell_type": "code",
   "execution_count": 15,
   "metadata": {
    "scrolled": true
   },
   "outputs": [
    {
     "data": {
      "text/plain": [
       "count       1102.00\n",
       "mean      107397.09\n",
       "std       106641.20\n",
       "min         8088.00\n",
       "25%        54421.00\n",
       "50%        81922.00\n",
       "75%       127335.75\n",
       "max      1783323.00\n",
       "Name: views, dtype: float64"
      ]
     },
     "execution_count": 15,
     "metadata": {},
     "output_type": "execute_result"
    }
   ],
   "source": [
    "round(y_train.describe(),2)"
   ]
  },
  {
   "cell_type": "code",
   "execution_count": 5,
   "metadata": {},
   "outputs": [],
   "source": [
    "iqr_df = pickle.load(open(r\"Data\\tf_df.pickle\",\"rb\"))"
   ]
  },
  {
   "cell_type": "code",
   "execution_count": 6,
   "metadata": {},
   "outputs": [],
   "source": [
    "X_iqr = iqr_df.drop('views',axis=1)\n",
    "y_iqr = iqr_df[['views']]\n",
    "\n",
    "X_train_iqr,X_test_iqr,y_train_iqr,y_test_iqr = train_test_split(X_iqr,y_iqr,test_size=150,random_state=4521)"
   ]
  },
  {
   "cell_type": "code",
   "execution_count": 7,
   "metadata": {},
   "outputs": [],
   "source": [
    "# Obtaining Lower and Upper Limits using IQR\n",
    "q25 = y_train_iqr['views'].describe()['25%']\n",
    "q75 = y_train_iqr['views'].describe()['75%']\n",
    "iqr = q75-q25\n",
    "low_lim = q25-1.5*iqr\n",
    "upp_lim = q75+1.5*iqr"
   ]
  },
  {
   "cell_type": "code",
   "execution_count": 8,
   "metadata": {},
   "outputs": [],
   "source": [
    "# Resetting Index to use to help filtering out locations of outliers\n",
    "X_train_iqr.reset_index(inplace=True)\n",
    "X_test_iqr.reset_index(inplace=True)\n",
    "y_train_iqr.reset_index(inplace=True)\n",
    "y_test_iqr.reset_index(inplace=True)"
   ]
  },
  {
   "cell_type": "code",
   "execution_count": 9,
   "metadata": {},
   "outputs": [],
   "source": [
    "# Finding Indexes within range\n",
    "train_keep_in = y_train_iqr['views'].index[(low_lim < y_train_iqr['views']) & (y_train_iqr['views'] < upp_lim)]\n",
    "test_keep_in = y_test_iqr['views'].index[(low_lim < y_test_iqr['views']) & (y_test_iqr['views'] < upp_lim)]"
   ]
  },
  {
   "cell_type": "code",
   "execution_count": 10,
   "metadata": {},
   "outputs": [],
   "source": [
    "# New Train and Test data after removing outliers based on train\n",
    "X_train_iqrf = X_train_iqr.iloc[train_keep_in].drop('index',axis=1)\n",
    "y_train_iqrf = y_train_iqr.iloc[train_keep_in].drop('index',axis=1)\n",
    "X_test_iqrf = X_test_iqr.iloc[test_keep_in].drop('index',axis=1)\n",
    "y_test_iqrf = y_test_iqr.iloc[test_keep_in].drop('index',axis=1)"
   ]
  },
  {
   "cell_type": "code",
   "execution_count": 11,
   "metadata": {},
   "outputs": [],
   "source": [
    "# Validation Split\n",
    "X_train_val_iqr,X_val_iqr,y_train_val_iqr,y_val_iqr = train_test_split(X_train_iqrf,\n",
    "                                                                       y_train_iqrf,\n",
    "                                                                       test_size=100,random_state=4521)"
   ]
  },
  {
   "cell_type": "code",
   "execution_count": null,
   "metadata": {},
   "outputs": [],
   "source": []
  },
  {
   "cell_type": "markdown",
   "metadata": {},
   "source": [
    "## Modeling P2"
   ]
  },
  {
   "cell_type": "markdown",
   "metadata": {},
   "source": [
    "### Loss on RMSE"
   ]
  },
  {
   "cell_type": "code",
   "execution_count": 23,
   "metadata": {},
   "outputs": [],
   "source": [
    "# Building Model\n",
    "model_mse_iqr = models.Sequential()\n",
    "model_mse_iqr.add(layers.Dense(units=100,activation='relu',input_shape=(1813,)))\n",
    "model_mse_iqr.add(layers.Dense(units=50,activation='relu'))\n",
    "model_mse_iqr.add(layers.Dropout(rate=0.3))\n",
    "model_mse_iqr.add(layers.Dense(units=50,activation='relu'))\n",
    "model_mse_iqr.add(layers.Dropout(rate=0.3))\n",
    "model_mse_iqr.add(layers.Dense(units=1,activation='linear'))\n",
    "\n",
    "# Compilation Step\n",
    "model_mse_iqr.compile(optimizer='adam',\n",
    "             loss='mse',\n",
    "             metrics=['mse'])"
   ]
  },
  {
   "cell_type": "code",
   "execution_count": 24,
   "metadata": {},
   "outputs": [],
   "source": [
    "# Callbacks to save best model and weights\n",
    "mse_iqr_callback = ModelCheckpoint(r'Data/model_mse_iqr.h5',monitor='val_mse',mode='min',save_best_only=True)"
   ]
  },
  {
   "cell_type": "code",
   "execution_count": 25,
   "metadata": {
    "scrolled": true
   },
   "outputs": [
    {
     "name": "stdout",
     "output_type": "stream",
     "text": [
      "Epoch 1/50\n",
      "186/186 [==============================] - 0s 1ms/step - loss: 9686715392.0000 - mse: 9686715392.0000 - val_loss: 9297154048.0000 - val_mse: 9297154048.0000\n",
      "Epoch 2/50\n",
      "186/186 [==============================] - 0s 1ms/step - loss: 7824121344.0000 - mse: 7824121344.0000 - val_loss: 4757438976.0000 - val_mse: 4757438976.0000\n",
      "Epoch 3/50\n",
      "186/186 [==============================] - 0s 1ms/step - loss: 2949289216.0000 - mse: 2949289216.0000 - val_loss: 1572928256.0000 - val_mse: 1572928256.0000\n",
      "Epoch 4/50\n",
      "186/186 [==============================] - 0s 1ms/step - loss: 2072537600.0000 - mse: 2072537600.0000 - val_loss: 1422300928.0000 - val_mse: 1422300928.0000\n",
      "Epoch 5/50\n",
      "186/186 [==============================] - 0s 2ms/step - loss: 1863838336.0000 - mse: 1863838336.0000 - val_loss: 1378543872.0000 - val_mse: 1378543872.0000\n",
      "Epoch 6/50\n",
      "186/186 [==============================] - 0s 1ms/step - loss: 1678375296.0000 - mse: 1678375296.0000 - val_loss: 1297799552.0000 - val_mse: 1297799424.0000\n",
      "Epoch 7/50\n",
      "186/186 [==============================] - 0s 1ms/step - loss: 1601235328.0000 - mse: 1601235328.0000 - val_loss: 1275734400.0000 - val_mse: 1275734400.0000\n",
      "Epoch 8/50\n",
      "186/186 [==============================] - 0s 1ms/step - loss: 1525985792.0000 - mse: 1525985792.0000 - val_loss: 1248754304.0000 - val_mse: 1248754176.0000\n",
      "Epoch 9/50\n",
      "186/186 [==============================] - 0s 1ms/step - loss: 1464966528.0000 - mse: 1464966528.0000 - val_loss: 1209174144.0000 - val_mse: 1209174144.0000\n",
      "Epoch 10/50\n",
      "186/186 [==============================] - 0s 1ms/step - loss: 1377837824.0000 - mse: 1377837824.0000 - val_loss: 1176080512.0000 - val_mse: 1176080512.0000\n",
      "Epoch 11/50\n",
      "186/186 [==============================] - 0s 1ms/step - loss: 1249410560.0000 - mse: 1249410432.0000 - val_loss: 1144971136.0000 - val_mse: 1144971136.0000\n",
      "Epoch 12/50\n",
      "186/186 [==============================] - 0s 1ms/step - loss: 1267661184.0000 - mse: 1267661184.0000 - val_loss: 1119095040.0000 - val_mse: 1119095040.0000\n",
      "Epoch 13/50\n",
      "186/186 [==============================] - 0s 2ms/step - loss: 1204520192.0000 - mse: 1204520192.0000 - val_loss: 1099076608.0000 - val_mse: 1099076608.0000\n",
      "Epoch 14/50\n",
      "186/186 [==============================] - 0s 1ms/step - loss: 1171113088.0000 - mse: 1171113088.0000 - val_loss: 1097790208.0000 - val_mse: 1097790208.0000\n",
      "Epoch 15/50\n",
      "186/186 [==============================] - 0s 1ms/step - loss: 1035845312.0000 - mse: 1035845312.0000 - val_loss: 1077014912.0000 - val_mse: 1077014912.0000\n",
      "Epoch 16/50\n",
      "186/186 [==============================] - 0s 815us/step - loss: 1047758464.0000 - mse: 1047758464.0000 - val_loss: 1080457600.0000 - val_mse: 1080457600.0000\n",
      "Epoch 17/50\n",
      "186/186 [==============================] - 0s 841us/step - loss: 906074624.0000 - mse: 906074624.0000 - val_loss: 1077449088.0000 - val_mse: 1077449088.0000\n",
      "Epoch 18/50\n",
      "186/186 [==============================] - 0s 1ms/step - loss: 961513408.0000 - mse: 961513408.0000 - val_loss: 1071302912.0000 - val_mse: 1071302912.0000\n",
      "Epoch 19/50\n",
      "186/186 [==============================] - 0s 1ms/step - loss: 891457600.0000 - mse: 891457600.0000 - val_loss: 1070001408.0000 - val_mse: 1070001408.0000\n",
      "Epoch 20/50\n",
      "186/186 [==============================] - 0s 815us/step - loss: 895138752.0000 - mse: 895138752.0000 - val_loss: 1088625792.0000 - val_mse: 1088625664.0000\n",
      "Epoch 21/50\n",
      "186/186 [==============================] - 0s 820us/step - loss: 841473472.0000 - mse: 841473408.0000 - val_loss: 1102279424.0000 - val_mse: 1102279424.0000\n",
      "Epoch 22/50\n",
      "186/186 [==============================] - 0s 788us/step - loss: 819346368.0000 - mse: 819346368.0000 - val_loss: 1105944960.0000 - val_mse: 1105944960.0000\n",
      "Epoch 23/50\n",
      "186/186 [==============================] - 0s 844us/step - loss: 764556224.0000 - mse: 764556224.0000 - val_loss: 1113038336.0000 - val_mse: 1113038336.0000\n",
      "Epoch 24/50\n",
      "186/186 [==============================] - 0s 780us/step - loss: 743011136.0000 - mse: 743011136.0000 - val_loss: 1110184192.0000 - val_mse: 1110184192.0000\n",
      "Epoch 25/50\n",
      "186/186 [==============================] - 0s 852us/step - loss: 684003904.0000 - mse: 684003904.0000 - val_loss: 1111037824.0000 - val_mse: 1111037824.0000\n",
      "Epoch 26/50\n",
      "186/186 [==============================] - 0s 796us/step - loss: 661976704.0000 - mse: 661976704.0000 - val_loss: 1111591936.0000 - val_mse: 1111591936.0000\n",
      "Epoch 27/50\n",
      "186/186 [==============================] - 0s 952us/step - loss: 707919744.0000 - mse: 707919744.0000 - val_loss: 1108904832.0000 - val_mse: 1108904832.0000\n",
      "Epoch 28/50\n",
      "186/186 [==============================] - 0s 782us/step - loss: 671926208.0000 - mse: 671926208.0000 - val_loss: 1157474688.0000 - val_mse: 1157474688.0000\n",
      "Epoch 29/50\n",
      "186/186 [==============================] - 0s 868us/step - loss: 657681984.0000 - mse: 657681984.0000 - val_loss: 1163808256.0000 - val_mse: 1163808256.0000\n",
      "Epoch 30/50\n",
      "186/186 [==============================] - 0s 847us/step - loss: 622850112.0000 - mse: 622850112.0000 - val_loss: 1183374336.0000 - val_mse: 1183374336.0000\n",
      "Epoch 31/50\n",
      "186/186 [==============================] - 0s 863us/step - loss: 629740096.0000 - mse: 629740096.0000 - val_loss: 1199209344.0000 - val_mse: 1199209344.0000\n",
      "Epoch 32/50\n",
      "186/186 [==============================] - 0s 774us/step - loss: 590247104.0000 - mse: 590247104.0000 - val_loss: 1190728064.0000 - val_mse: 1190728064.0000\n",
      "Epoch 33/50\n",
      "186/186 [==============================] - 0s 938us/step - loss: 592749568.0000 - mse: 592749568.0000 - val_loss: 1204270464.0000 - val_mse: 1204270464.0000\n",
      "Epoch 34/50\n",
      "186/186 [==============================] - 0s 798us/step - loss: 531206688.0000 - mse: 531206688.0000 - val_loss: 1224201472.0000 - val_mse: 1224201472.0000\n",
      "Epoch 35/50\n",
      "186/186 [==============================] - 0s 839us/step - loss: 502912832.0000 - mse: 502912832.0000 - val_loss: 1248646144.0000 - val_mse: 1248646144.0000\n",
      "Epoch 36/50\n",
      "186/186 [==============================] - 0s 804us/step - loss: 606269248.0000 - mse: 606269248.0000 - val_loss: 1253089280.0000 - val_mse: 1253089280.0000\n",
      "Epoch 37/50\n",
      "186/186 [==============================] - 0s 801us/step - loss: 493892320.0000 - mse: 493892320.0000 - val_loss: 1272906240.0000 - val_mse: 1272906240.0000\n",
      "Epoch 38/50\n",
      "186/186 [==============================] - 0s 782us/step - loss: 552201216.0000 - mse: 552201216.0000 - val_loss: 1306800640.0000 - val_mse: 1306800640.0000\n",
      "Epoch 39/50\n",
      "186/186 [==============================] - 0s 769us/step - loss: 531083136.0000 - mse: 531083104.0000 - val_loss: 1299028736.0000 - val_mse: 1299028736.0000\n",
      "Epoch 40/50\n",
      "186/186 [==============================] - 0s 823us/step - loss: 538744384.0000 - mse: 538744384.0000 - val_loss: 1290105344.0000 - val_mse: 1290105344.0000\n",
      "Epoch 41/50\n",
      "186/186 [==============================] - 0s 780us/step - loss: 553788992.0000 - mse: 553788992.0000 - val_loss: 1298163456.0000 - val_mse: 1298163456.0000\n",
      "Epoch 42/50\n",
      "186/186 [==============================] - 0s 815us/step - loss: 545615104.0000 - mse: 545615104.0000 - val_loss: 1282273024.0000 - val_mse: 1282273024.0000\n",
      "Epoch 43/50\n",
      "186/186 [==============================] - 0s 780us/step - loss: 493266368.0000 - mse: 493266368.0000 - val_loss: 1263836288.0000 - val_mse: 1263836288.0000\n",
      "Epoch 44/50\n",
      "186/186 [==============================] - 0s 785us/step - loss: 489720352.0000 - mse: 489720352.0000 - val_loss: 1280195840.0000 - val_mse: 1280195840.0000\n",
      "Epoch 45/50\n",
      "186/186 [==============================] - 0s 817us/step - loss: 508276640.0000 - mse: 508276640.0000 - val_loss: 1269441536.0000 - val_mse: 1269441536.0000\n",
      "Epoch 46/50\n",
      "186/186 [==============================] - 0s 828us/step - loss: 493950304.0000 - mse: 493950304.0000 - val_loss: 1294146432.0000 - val_mse: 1294146432.0000\n",
      "Epoch 47/50\n",
      "186/186 [==============================] - 0s 780us/step - loss: 524913952.0000 - mse: 524913952.0000 - val_loss: 1312304256.0000 - val_mse: 1312304256.0000\n",
      "Epoch 48/50\n",
      "186/186 [==============================] - 0s 823us/step - loss: 483884864.0000 - mse: 483884864.0000 - val_loss: 1310973440.0000 - val_mse: 1310973440.0000\n",
      "Epoch 49/50\n",
      "186/186 [==============================] - 0s 763us/step - loss: 468385984.0000 - mse: 468385984.0000 - val_loss: 1315634816.0000 - val_mse: 1315634816.0000\n",
      "Epoch 50/50\n",
      "186/186 [==============================] - 0s 817us/step - loss: 493809920.0000 - mse: 493809920.0000 - val_loss: 1324480384.0000 - val_mse: 1324480384.0000\n"
     ]
    }
   ],
   "source": [
    "# Training Step\n",
    "history_mse_iqr = model_mse_iqr.fit(np.array(X_train_val_iqr), y_train_val_iqr,\n",
    "                                    batch_size=5,epochs=50,\n",
    "                                    validation_data=(np.array(X_val_iqr),y_val_iqr),\n",
    "                                    callbacks=[mse_iqr_callback])"
   ]
  },
  {
   "cell_type": "code",
   "execution_count": 26,
   "metadata": {
    "scrolled": true
   },
   "outputs": [
    {
     "data": {
      "image/png": "[encoded data removed]",
      "text/plain": [
       "<Figure size 864x576 with 1 Axes>"
      ]
     },
     "metadata": {
      "needs_background": "light"
     },
     "output_type": "display_data"
    }
   ],
   "source": [
    "# Plotting Loss\n",
    "fig, ax = plt.subplots(figsize=(12, 8))\n",
    "\n",
    "model_dict = history_mse_iqr.history\n",
    "\n",
    "rmse_values = np.sqrt(model_dict['mse']) \n",
    "val_rmse_values = np.sqrt(model_dict['val_mse'])\n",
    "\n",
    "epochs = range(1, len(rmse_values) + 1)\n",
    "ax.plot(epochs, rmse_values, label='Training RMSE')\n",
    "ax.plot(epochs, val_rmse_values, label='Validation RMSE')\n",
    "plt.legend()\n",
    "plt.title('Word Data RMSE without Outliers')\n",
    "plt.xlabel('Epochs')\n",
    "plt.ylabel('RMSE')\n",
    "plt.show()"
   ]
  },
  {
   "cell_type": "markdown",
   "metadata": {},
   "source": [
    "#### Best Results"
   ]
  },
  {
   "cell_type": "code",
   "execution_count": 27,
   "metadata": {},
   "outputs": [
    {
     "name": "stdout",
     "output_type": "stream",
     "text": [
      "Train Error: 24701\n",
      "Test Error: 38396\n"
     ]
    }
   ],
   "source": [
    "best_mse_iqr = load_model(r'Data/model_mse_iqr.h5')\n",
    "errors(best_mse_iqr,mean_squared_error,X_train_val_iqr,X_test_iqrf,\n",
    "       y_train_val_iqr,y_test_iqrf,squared=True)"
   ]
  },
  {
   "cell_type": "markdown",
   "metadata": {},
   "source": [
    "### Loss on MAE"
   ]
  },
  {
   "cell_type": "code",
   "execution_count": 28,
   "metadata": {},
   "outputs": [],
   "source": [
    "# Building Model\n",
    "model_mae_iqr = models.Sequential()\n",
    "model_mae_iqr.add(layers.Dense(units=100,activation='relu',input_shape=(1813,)))\n",
    "model_mae_iqr.add(layers.Dense(units=50,activation='relu'))\n",
    "model_mae_iqr.add(layers.Dropout(rate=0.3))\n",
    "model_mae_iqr.add(layers.Dense(units=50,activation='relu'))\n",
    "model_mae_iqr.add(layers.Dropout(rate=0.3))\n",
    "model_mae_iqr.add(layers.Dense(units=1,activation='linear'))\n",
    "\n",
    "# Compilation Step\n",
    "model_mae_iqr.compile(optimizer='adam',\n",
    "             loss='mae',\n",
    "             metrics=['mae'])"
   ]
  },
  {
   "cell_type": "code",
   "execution_count": 29,
   "metadata": {},
   "outputs": [],
   "source": [
    "# Callbacks to save best model and weights\n",
    "mae_iqr_callback = ModelCheckpoint(r'Data/model_mae_iqr.h5',monitor='val_mae',mode='min',save_best_only=True)"
   ]
  },
  {
   "cell_type": "code",
   "execution_count": 30,
   "metadata": {},
   "outputs": [
    {
     "name": "stdout",
     "output_type": "stream",
     "text": [
      "Epoch 1/50\n",
      "186/186 [==============================] - 0s 1ms/step - loss: 86354.1641 - mae: 86354.1641 - val_loss: 87180.0234 - val_mae: 87180.0234\n",
      "Epoch 2/50\n",
      "186/186 [==============================] - 0s 1ms/step - loss: 69863.5156 - mae: 69863.5078 - val_loss: 45461.4531 - val_mae: 45461.4531\n",
      "Epoch 3/50\n",
      "186/186 [==============================] - 0s 1ms/step - loss: 37293.0352 - mae: 37293.0352 - val_loss: 31256.8594 - val_mae: 31256.8594\n",
      "Epoch 4/50\n",
      "186/186 [==============================] - 0s 1ms/step - loss: 33346.5352 - mae: 33346.5312 - val_loss: 29934.1582 - val_mae: 29934.1582\n",
      "Epoch 5/50\n",
      "186/186 [==============================] - 0s 1ms/step - loss: 32004.5723 - mae: 32004.5723 - val_loss: 29451.7617 - val_mae: 29451.7656\n",
      "Epoch 6/50\n",
      "186/186 [==============================] - 0s 1ms/step - loss: 30106.8652 - mae: 30106.8652 - val_loss: 28627.6621 - val_mae: 28627.6621\n",
      "Epoch 7/50\n",
      "186/186 [==============================] - 0s 2ms/step - loss: 29192.7480 - mae: 29192.7480 - val_loss: 28428.3496 - val_mae: 28428.3496\n",
      "Epoch 8/50\n",
      "186/186 [==============================] - 0s 1ms/step - loss: 27507.7812 - mae: 27507.7812 - val_loss: 28064.5723 - val_mae: 28064.5723\n",
      "Epoch 9/50\n",
      "186/186 [==============================] - 0s 1ms/step - loss: 27513.7617 - mae: 27513.7617 - val_loss: 27669.3398 - val_mae: 27669.3398\n",
      "Epoch 10/50\n",
      "186/186 [==============================] - 0s 1ms/step - loss: 25860.7715 - mae: 25860.7715 - val_loss: 27269.0566 - val_mae: 27269.0566\n",
      "Epoch 11/50\n",
      "186/186 [==============================] - 0s 829us/step - loss: 24782.9219 - mae: 24782.9219 - val_loss: 27385.3281 - val_mae: 27385.3281\n",
      "Epoch 12/50\n",
      "186/186 [==============================] - 0s 820us/step - loss: 23677.1797 - mae: 23677.1816 - val_loss: 27326.5625 - val_mae: 27326.5625\n",
      "Epoch 13/50\n",
      "186/186 [==============================] - 0s 1ms/step - loss: 23597.4043 - mae: 23597.4043 - val_loss: 27066.1602 - val_mae: 27066.1602\n",
      "Epoch 14/50\n",
      "186/186 [==============================] - 0s 1ms/step - loss: 22554.1855 - mae: 22554.1875 - val_loss: 26827.4141 - val_mae: 26827.4141\n",
      "Epoch 15/50\n",
      "186/186 [==============================] - 0s 2ms/step - loss: 21018.5840 - mae: 21018.5840 - val_loss: 26424.5547 - val_mae: 26424.5547\n",
      "Epoch 16/50\n",
      "186/186 [==============================] - 0s 823us/step - loss: 21983.9941 - mae: 21983.9941 - val_loss: 26630.2656 - val_mae: 26630.2656\n",
      "Epoch 17/50\n",
      "186/186 [==============================] - 0s 815us/step - loss: 20507.0605 - mae: 20507.0605 - val_loss: 26667.5371 - val_mae: 26667.5371\n",
      "Epoch 18/50\n",
      "186/186 [==============================] - 0s 820us/step - loss: 20746.2637 - mae: 20746.2637 - val_loss: 26620.5117 - val_mae: 26620.5117\n",
      "Epoch 19/50\n",
      "186/186 [==============================] - 0s 2ms/step - loss: 19400.4492 - mae: 19400.4492 - val_loss: 26360.5469 - val_mae: 26360.5469\n",
      "Epoch 20/50\n",
      "186/186 [==============================] - 0s 1ms/step - loss: 19682.8320 - mae: 19682.8320 - val_loss: 26013.0977 - val_mae: 26013.0977\n",
      "Epoch 21/50\n",
      "186/186 [==============================] - 0s 849us/step - loss: 18835.1348 - mae: 18835.1348 - val_loss: 26026.3867 - val_mae: 26026.3867\n",
      "Epoch 22/50\n",
      "186/186 [==============================] - 0s 1ms/step - loss: 18160.5527 - mae: 18160.5527 - val_loss: 25723.7559 - val_mae: 25723.7559\n",
      "Epoch 23/50\n",
      "186/186 [==============================] - 0s 1ms/step - loss: 18744.9824 - mae: 18744.9824 - val_loss: 25699.1855 - val_mae: 25699.1855\n",
      "Epoch 24/50\n",
      "186/186 [==============================] - 0s 798us/step - loss: 18264.7559 - mae: 18264.7559 - val_loss: 25734.2207 - val_mae: 25734.2207\n",
      "Epoch 25/50\n",
      "186/186 [==============================] - 0s 788us/step - loss: 17949.2598 - mae: 17949.2598 - val_loss: 25861.8008 - val_mae: 25861.8008\n",
      "Epoch 26/50\n",
      "186/186 [==============================] - 0s 839us/step - loss: 17941.0781 - mae: 17941.0781 - val_loss: 25985.2598 - val_mae: 25985.2598\n",
      "Epoch 27/50\n",
      "186/186 [==============================] - 0s 798us/step - loss: 17379.9102 - mae: 17379.9102 - val_loss: 25874.6641 - val_mae: 25874.6641\n",
      "Epoch 28/50\n",
      "186/186 [==============================] - 0s 809us/step - loss: 17209.4629 - mae: 17209.4629 - val_loss: 25782.0801 - val_mae: 25782.0801\n",
      "Epoch 29/50\n",
      "186/186 [==============================] - 0s 817us/step - loss: 17547.4570 - mae: 17547.4570 - val_loss: 25927.2344 - val_mae: 25927.2344\n",
      "Epoch 30/50\n",
      "186/186 [==============================] - 0s 793us/step - loss: 17602.8535 - mae: 17602.8535 - val_loss: 26237.3984 - val_mae: 26237.3984\n",
      "Epoch 31/50\n",
      "186/186 [==============================] - 0s 798us/step - loss: 16707.5859 - mae: 16707.5859 - val_loss: 26102.0449 - val_mae: 26102.0449\n",
      "Epoch 32/50\n",
      "186/186 [==============================] - 0s 871us/step - loss: 16753.3379 - mae: 16753.3379 - val_loss: 26218.5898 - val_mae: 26218.5898\n",
      "Epoch 33/50\n",
      "186/186 [==============================] - 0s 815us/step - loss: 16137.5693 - mae: 16137.5693 - val_loss: 26328.9668 - val_mae: 26328.9668\n",
      "Epoch 34/50\n",
      "186/186 [==============================] - 0s 788us/step - loss: 16133.3672 - mae: 16133.3672 - val_loss: 26362.8906 - val_mae: 26362.8906\n",
      "Epoch 35/50\n",
      "186/186 [==============================] - 0s 823us/step - loss: 16643.7891 - mae: 16643.7891 - val_loss: 26117.4199 - val_mae: 26117.4199\n",
      "Epoch 36/50\n",
      "186/186 [==============================] - 0s 831us/step - loss: 16099.8115 - mae: 16099.8135 - val_loss: 26178.3516 - val_mae: 26178.3516\n",
      "Epoch 37/50\n",
      "186/186 [==============================] - 0s 785us/step - loss: 16104.9619 - mae: 16104.9619 - val_loss: 26465.7617 - val_mae: 26465.7617\n",
      "Epoch 38/50\n",
      "186/186 [==============================] - 0s 796us/step - loss: 15741.7432 - mae: 15741.7451 - val_loss: 26111.3594 - val_mae: 26111.3594\n",
      "Epoch 39/50\n",
      "186/186 [==============================] - 0s 844us/step - loss: 15370.3262 - mae: 15370.3262 - val_loss: 26469.1133 - val_mae: 26469.1133\n",
      "Epoch 40/50\n",
      "186/186 [==============================] - 0s 911us/step - loss: 15761.4805 - mae: 15761.4805 - val_loss: 26421.7598 - val_mae: 26421.7598\n",
      "Epoch 41/50\n",
      "186/186 [==============================] - 0s 780us/step - loss: 15109.0732 - mae: 15109.0732 - val_loss: 26241.6445 - val_mae: 26241.6445\n",
      "Epoch 42/50\n",
      "186/186 [==============================] - 0s 806us/step - loss: 15789.0264 - mae: 15789.0264 - val_loss: 26291.3945 - val_mae: 26291.3945\n",
      "Epoch 43/50\n",
      "186/186 [==============================] - 0s 796us/step - loss: 15013.6982 - mae: 15013.6982 - val_loss: 26626.6973 - val_mae: 26626.6973\n",
      "Epoch 44/50\n",
      "186/186 [==============================] - 0s 817us/step - loss: 15507.6689 - mae: 15507.6689 - val_loss: 26977.9316 - val_mae: 26977.9316\n",
      "Epoch 45/50\n",
      "186/186 [==============================] - 0s 809us/step - loss: 14951.6172 - mae: 14951.6172 - val_loss: 26630.2852 - val_mae: 26630.2852\n",
      "Epoch 46/50\n",
      "186/186 [==============================] - 0s 933us/step - loss: 15423.9814 - mae: 15423.9814 - val_loss: 26395.9043 - val_mae: 26395.9043\n",
      "Epoch 47/50\n",
      "186/186 [==============================] - 0s 809us/step - loss: 14977.7441 - mae: 14977.7441 - val_loss: 26723.0918 - val_mae: 26723.0918\n",
      "Epoch 48/50\n",
      "186/186 [==============================] - 0s 790us/step - loss: 14914.2373 - mae: 14914.2373 - val_loss: 26663.2832 - val_mae: 26663.2832\n",
      "Epoch 49/50\n",
      "186/186 [==============================] - 0s 836us/step - loss: 15389.1465 - mae: 15389.1465 - val_loss: 26536.8359 - val_mae: 26536.8359\n",
      "Epoch 50/50\n",
      "186/186 [==============================] - 0s 823us/step - loss: 15349.6250 - mae: 15349.6250 - val_loss: 26803.2051 - val_mae: 26803.2051\n"
     ]
    }
   ],
   "source": [
    "# Training Step\n",
    "history_mae_iqr = model_mae_iqr.fit(np.array(X_train_val_iqr), y_train_val_iqr,\n",
    "                                    batch_size=5,epochs=50,\n",
    "                                    validation_data=(np.array(X_val_iqr),y_val_iqr),\n",
    "                                    callbacks=[mae_iqr_callback])"
   ]
  },
  {
   "cell_type": "code",
   "execution_count": 31,
   "metadata": {
    "scrolled": false
   },
   "outputs": [
    {
     "data": {
      "image/png": "[encoded data removed]",
      "text/plain": [
       "<Figure size 864x576 with 1 Axes>"
      ]
     },
     "metadata": {
      "needs_background": "light"
     },
     "output_type": "display_data"
    }
   ],
   "source": [
    "# Plotting Loss\n",
    "fig, ax = plt.subplots(figsize=(12, 8))\n",
    "\n",
    "model_dict = history_mae_iqr.history\n",
    "\n",
    "mae_values = model_dict['mae']\n",
    "val_mae_values = model_dict['val_mae']\n",
    "\n",
    "epochs = range(1, len(mae_values) + 1)\n",
    "ax.plot(epochs, mae_values, label='Training MAE')\n",
    "ax.plot(epochs, val_mae_values, label='Validation MAE')\n",
    "plt.legend()\n",
    "plt.title('Word Data MAE without Outliers')\n",
    "plt.xlabel('Epochs')\n",
    "plt.ylabel('MAE')\n",
    "plt.show()"
   ]
  },
  {
   "cell_type": "markdown",
   "metadata": {},
   "source": [
    "#### Best Results"
   ]
  },
  {
   "cell_type": "code",
   "execution_count": 32,
   "metadata": {},
   "outputs": [
    {
     "name": "stdout",
     "output_type": "stream",
     "text": [
      "Train Error: 13748\n",
      "Test Error: 29715\n"
     ]
    }
   ],
   "source": [
    "best_mae_iqr = load_model(r'Data/model_mae_iqr.h5')\n",
    "errors(best_mae_iqr,mean_absolute_error,X_train_val_iqr,X_test_iqrf,\n",
    "       y_train_val_iqr,y_test_iqrf,squared=False)"
   ]
  },
  {
   "cell_type": "markdown",
   "metadata": {},
   "source": [
    "# Findings\n",
    "- Loss on MAE produced the lowest error overall\n",
    "- Removing outliers improved model performance"
   ]
  },
  {
   "cell_type": "markdown",
   "metadata": {},
   "source": [
    "# Final Stats"
   ]
  },
  {
   "cell_type": "code",
   "execution_count": 33,
   "metadata": {},
   "outputs": [],
   "source": [
    "y_test_preds = best_mae_iqr.predict(np.array(X_test_iqrf))\n",
    "y_train_preds = best_mae_iqr.predict(np.array(X_train_val_iqr))"
   ]
  },
  {
   "cell_type": "code",
   "execution_count": 34,
   "metadata": {
    "scrolled": true
   },
   "outputs": [
    {
     "name": "stdout",
     "output_type": "stream",
     "text": [
      "Average Views: 107615\n",
      "Train MAE: 13748\n",
      "Test MAE: 29715\n"
     ]
    }
   ],
   "source": [
    "print(\"Average Views:\",round(y_iqr.mean()[0]))\n",
    "print(\"Train MAE:\",round(mean_absolute_error(y_train_val_iqr,y_train_preds)))\n",
    "print(\"Test MAE:\",round(mean_absolute_error(y_test_iqrf,y_test_preds)))"
   ]
  },
  {
   "cell_type": "markdown",
   "metadata": {},
   "source": [
    "# Exporting MAE Model without Outliers"
   ]
  },
  {
   "cell_type": "code",
   "execution_count": 35,
   "metadata": {},
   "outputs": [],
   "source": [
    "best_mae_iqr.save(r'Data\\model.h5')\n",
    "best_mae_iqr.save_weights(r'Data\\model_weights.h5')"
   ]
  }
 ],
 "metadata": {
  "kernelspec": {
   "display_name": "Python 3",
   "language": "python",
   "name": "python3"
  },
  "language_info": {
   "codemirror_mode": {
    "name": "ipython",
    "version": 3
   },
   "file_extension": ".py",
   "mimetype": "text/x-python",
   "name": "python",
   "nbconvert_exporter": "python",
   "pygments_lexer": "ipython3",
   "version": "3.8.5"
  },
  "toc": {
   "base_numbering": 1,
   "nav_menu": {},
   "number_sections": true,
   "sideBar": true,
   "skip_h1_title": false,
   "title_cell": "Table of Contents",
   "title_sidebar": "Contents",
   "toc_cell": false,
   "toc_position": {
    "height": "calc(100% - 180px)",
    "left": "10px",
    "top": "150px",
    "width": "365.112px"
   },
   "toc_section_display": true,
   "toc_window_display": true
  }
 },
 "nbformat": 4,
 "nbformat_minor": 4
}
