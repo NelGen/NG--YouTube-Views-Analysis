{
 "cells": [
  {
   "cell_type": "markdown",
   "metadata": {},
   "source": [
    "# Aligulac Player Data\n",
    "- Aligulac is a popular Starcraft 2 website containing player and match data\n",
    "- Primarily using Aligulac's data base to help identify professional SC2 players, their country of origin, and in-game race of choice"
   ]
  },
  {
   "cell_type": "code",
   "execution_count": 1,
   "metadata": {},
   "outputs": [],
   "source": [
    "# Imports\n",
    "import requests\n",
    "import pandas as pd\n",
    "import json\n",
    "import pickle\n",
    "from api_keys import aligulac_key"
   ]
  },
  {
   "cell_type": "markdown",
   "metadata": {},
   "source": [
    "## Pulling Player Stats\n",
    "- As of the end of October 2021, the date of Stay At Homestory Cup # 4\n",
    "- Only pulling highest 1000 rated players"
   ]
  },
  {
   "cell_type": "code",
   "execution_count": 2,
   "metadata": {},
   "outputs": [],
   "source": [
    "data = requests.get(r\"http://aligulac.com/api/v1/activerating/?period=305&order_by=-rating&limit=1000\",\n",
    "                     params={'apikey':aligulac_key})"
   ]
  },
  {
   "cell_type": "code",
   "execution_count": 3,
   "metadata": {},
   "outputs": [
    {
     "data": {
      "text/plain": [
       "[{'country': 'FI',\n",
       "  'id': 485,\n",
       "  'race': 'Z',\n",
       "  'resource_uri': '/api/v1/player/485/',\n",
       "  'tag': 'Serral'},\n",
       " {'country': 'KR',\n",
       "  'id': 49,\n",
       "  'race': 'T',\n",
       "  'resource_uri': '/api/v1/player/49/',\n",
       "  'tag': 'Maru'},\n",
       " {'country': 'FR',\n",
       "  'id': 5878,\n",
       "  'race': 'T',\n",
       "  'resource_uri': '/api/v1/player/5878/',\n",
       "  'tag': 'Clem'},\n",
       " {'country': 'IT',\n",
       "  'id': 5414,\n",
       "  'race': 'Z',\n",
       "  'resource_uri': '/api/v1/player/5414/',\n",
       "  'tag': 'Reynor'},\n",
       " {'country': 'KR',\n",
       "  'id': 76,\n",
       "  'race': 'Z',\n",
       "  'resource_uri': '/api/v1/player/76/',\n",
       "  'tag': 'Dark'}]"
      ]
     },
     "execution_count": 3,
     "metadata": {},
     "output_type": "execute_result"
    }
   ],
   "source": [
    "# Looping through response to pull out player data\n",
    "players = []\n",
    "for player in data.json()['objects']:\n",
    "    players.append(player['player'])\n",
    "players[:5]"
   ]
  },
  {
   "cell_type": "code",
   "execution_count": 4,
   "metadata": {},
   "outputs": [],
   "source": [
    "# Converting to DF\n",
    "players_df = pd.DataFrame(players)"
   ]
  },
  {
   "cell_type": "code",
   "execution_count": 5,
   "metadata": {
    "scrolled": true
   },
   "outputs": [
    {
     "data": {
      "text/html": [
       "<div>\n",
       "<style scoped>\n",
       "    .dataframe tbody tr th:only-of-type {\n",
       "        vertical-align: middle;\n",
       "    }\n",
       "\n",
       "    .dataframe tbody tr th {\n",
       "        vertical-align: top;\n",
       "    }\n",
       "\n",
       "    .dataframe thead th {\n",
       "        text-align: right;\n",
       "    }\n",
       "</style>\n",
       "<table border=\"1\" class=\"dataframe\">\n",
       "  <thead>\n",
       "    <tr style=\"text-align: right;\">\n",
       "      <th></th>\n",
       "      <th>country</th>\n",
       "      <th>id</th>\n",
       "      <th>race</th>\n",
       "      <th>resource_uri</th>\n",
       "      <th>tag</th>\n",
       "    </tr>\n",
       "  </thead>\n",
       "  <tbody>\n",
       "    <tr>\n",
       "      <th>0</th>\n",
       "      <td>FI</td>\n",
       "      <td>485</td>\n",
       "      <td>Z</td>\n",
       "      <td>/api/v1/player/485/</td>\n",
       "      <td>Serral</td>\n",
       "    </tr>\n",
       "    <tr>\n",
       "      <th>1</th>\n",
       "      <td>KR</td>\n",
       "      <td>49</td>\n",
       "      <td>T</td>\n",
       "      <td>/api/v1/player/49/</td>\n",
       "      <td>Maru</td>\n",
       "    </tr>\n",
       "    <tr>\n",
       "      <th>2</th>\n",
       "      <td>FR</td>\n",
       "      <td>5878</td>\n",
       "      <td>T</td>\n",
       "      <td>/api/v1/player/5878/</td>\n",
       "      <td>Clem</td>\n",
       "    </tr>\n",
       "    <tr>\n",
       "      <th>3</th>\n",
       "      <td>IT</td>\n",
       "      <td>5414</td>\n",
       "      <td>Z</td>\n",
       "      <td>/api/v1/player/5414/</td>\n",
       "      <td>Reynor</td>\n",
       "    </tr>\n",
       "    <tr>\n",
       "      <th>4</th>\n",
       "      <td>KR</td>\n",
       "      <td>76</td>\n",
       "      <td>Z</td>\n",
       "      <td>/api/v1/player/76/</td>\n",
       "      <td>Dark</td>\n",
       "    </tr>\n",
       "  </tbody>\n",
       "</table>\n",
       "</div>"
      ],
      "text/plain": [
       "  country    id race          resource_uri     tag\n",
       "0      FI   485    Z   /api/v1/player/485/  Serral\n",
       "1      KR    49    T    /api/v1/player/49/    Maru\n",
       "2      FR  5878    T  /api/v1/player/5878/    Clem\n",
       "3      IT  5414    Z  /api/v1/player/5414/  Reynor\n",
       "4      KR    76    Z    /api/v1/player/76/    Dark"
      ]
     },
     "execution_count": 5,
     "metadata": {},
     "output_type": "execute_result"
    }
   ],
   "source": [
    "players_df.head()"
   ]
  },
  {
   "cell_type": "markdown",
   "metadata": {},
   "source": [
    "## Cleaning a bit of player data"
   ]
  },
  {
   "cell_type": "code",
   "execution_count": 6,
   "metadata": {},
   "outputs": [],
   "source": [
    "# Adding Florencio\n",
    "florencio = {'country':'US','id':99999,'race':'P','resource_uri':'NA','tag':'florencio'}\n",
    "players_df = players_df.append(florencio,ignore_index=True)"
   ]
  },
  {
   "cell_type": "code",
   "execution_count": 7,
   "metadata": {},
   "outputs": [],
   "source": [
    "# Changing DongRaeGu to DRG\n",
    "players_df.loc[17,'tag'] = \"drg\""
   ]
  },
  {
   "cell_type": "code",
   "execution_count": 8,
   "metadata": {
    "scrolled": true
   },
   "outputs": [
    {
     "data": {
      "text/html": [
       "<div>\n",
       "<style scoped>\n",
       "    .dataframe tbody tr th:only-of-type {\n",
       "        vertical-align: middle;\n",
       "    }\n",
       "\n",
       "    .dataframe tbody tr th {\n",
       "        vertical-align: top;\n",
       "    }\n",
       "\n",
       "    .dataframe thead th {\n",
       "        text-align: right;\n",
       "    }\n",
       "</style>\n",
       "<table border=\"1\" class=\"dataframe\">\n",
       "  <thead>\n",
       "    <tr style=\"text-align: right;\">\n",
       "      <th></th>\n",
       "      <th>country</th>\n",
       "      <th>id</th>\n",
       "      <th>race</th>\n",
       "      <th>resource_uri</th>\n",
       "      <th>tag</th>\n",
       "    </tr>\n",
       "  </thead>\n",
       "  <tbody>\n",
       "    <tr>\n",
       "      <th>17</th>\n",
       "      <td>KR</td>\n",
       "      <td>4</td>\n",
       "      <td>Z</td>\n",
       "      <td>/api/v1/player/4/</td>\n",
       "      <td>drg</td>\n",
       "    </tr>\n",
       "  </tbody>\n",
       "</table>\n",
       "</div>"
      ],
      "text/plain": [
       "   country  id race       resource_uri  tag\n",
       "17      KR   4    Z  /api/v1/player/4/  drg"
      ]
     },
     "execution_count": 8,
     "metadata": {},
     "output_type": "execute_result"
    }
   ],
   "source": [
    "players_df.loc[players_df['tag']==\"drg\"]"
   ]
  },
  {
   "cell_type": "code",
   "execution_count": 9,
   "metadata": {},
   "outputs": [],
   "source": [
    "# Updating Rattata to Vanya\n",
    "players_df.loc[30,'tag'] = \"vanya\""
   ]
  },
  {
   "cell_type": "markdown",
   "metadata": {},
   "source": [
    "## Saving results into pickle"
   ]
  },
  {
   "cell_type": "code",
   "execution_count": 10,
   "metadata": {},
   "outputs": [],
   "source": [
    "with open(r'Data/players_df.pickle', 'wb') as f:\n",
    "    pickle.dump(players_df, f)"
   ]
  }
 ],
 "metadata": {
  "kernelspec": {
   "display_name": "learn-env",
   "language": "python",
   "name": "learn-env"
  },
  "language_info": {
   "codemirror_mode": {
    "name": "ipython",
    "version": 3
   },
   "file_extension": ".py",
   "mimetype": "text/x-python",
   "name": "python",
   "nbconvert_exporter": "python",
   "pygments_lexer": "ipython3",
   "version": "3.8.5"
  },
  "toc": {
   "base_numbering": 1,
   "nav_menu": {},
   "number_sections": true,
   "sideBar": true,
   "skip_h1_title": false,
   "title_cell": "Table of Contents",
   "title_sidebar": "Contents",
   "toc_cell": false,
   "toc_position": {},
   "toc_section_display": true,
   "toc_window_display": true
  }
 },
 "nbformat": 4,
 "nbformat_minor": 4
}
