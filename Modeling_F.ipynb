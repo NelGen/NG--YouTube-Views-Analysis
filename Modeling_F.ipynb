{
 "cells": [
  {
   "cell_type": "markdown",
   "metadata": {},
   "source": [
    "# Imports and Data Load"
   ]
  },
  {
   "cell_type": "code",
   "execution_count": 8,
   "metadata": {},
   "outputs": [],
   "source": [
    "import pickle\n",
    "import pandas as pd\n",
    "import matplotlib.pyplot as plt\n",
    "%matplotlib inline\n",
    "import numpy as np\n",
    "\n",
    "from sklearn.model_selection import train_test_split\n",
    "from sklearn.metrics import mean_absolute_error\n",
    "from sklearn.metrics import mean_squared_error\n",
    "from keras import models\n",
    "from keras import layers\n",
    "from keras import optimizers\n",
    "from keras import regularizers\n",
    "from keras.models import load_model\n",
    "from keras.callbacks import ModelCheckpoint\n",
    "\n",
    "from sklearn.feature_extraction.text import TfidfVectorizer\n",
    "\n",
    "from Functions import *"
   ]
  },
  {
   "cell_type": "code",
   "execution_count": 130,
   "metadata": {},
   "outputs": [],
   "source": [
    "# Printing Errors\n",
    "def errors(model,error_func,X_tr,X_te,y_tr,y_te,squared=False):\n",
    "    train_error = error_func(y_tr,model.predict(X_tr))\n",
    "    test_error = error_func(y_te,model.predict(X_te))\n",
    "    if squared:\n",
    "        train_error = train_error**.5\n",
    "        test_error = test_error**.5\n",
    "    print(\"Train Error:\",round(train_error))\n",
    "    print(\"Test Error:\",round(test_error))"
   ]
  },
  {
   "cell_type": "code",
   "execution_count": 4,
   "metadata": {},
   "outputs": [],
   "source": [
    "df = pickle.load(open(r\"Data\\players_cleaned_df.pickle\",\"rb\"))"
   ]
  },
  {
   "cell_type": "markdown",
   "metadata": {},
   "source": [
    "# Base Model"
   ]
  },
  {
   "cell_type": "markdown",
   "metadata": {},
   "source": [
    "## Train Test Validation Split\n",
    "- Using 80% of the data to train"
   ]
  },
  {
   "cell_type": "code",
   "execution_count": 11,
   "metadata": {},
   "outputs": [],
   "source": [
    "X = df['title']\n",
    "y = df['views']\n",
    "X_train_pre, X_test_pre, y_train, y_test = train_test_split(X,y,test_size=150,random_state=4521)\n",
    "X_train_f_pre,X_val_pre,y_train_f,y_val = train_test_split(X_train_pre,y_train,test_size=100,random_state=4521)"
   ]
  },
  {
   "cell_type": "markdown",
   "metadata": {},
   "source": [
    "## TF IDF Vectorizing"
   ]
  },
  {
   "cell_type": "code",
   "execution_count": 12,
   "metadata": {},
   "outputs": [],
   "source": [
    "tf = TfidfVectorizer(preprocessor=splitter, lowercase=False)\n",
    "fit_tf = tf.fit(X_train_f_pre)"
   ]
  },
  {
   "cell_type": "code",
   "execution_count": 18,
   "metadata": {},
   "outputs": [],
   "source": [
    "X_train_f = tf.transform(X_train_f_pre).todense()\n",
    "X_val = tf.transform(X_val_pre).todense()\n",
    "X_test = tf.transform(X_test_pre).todense()"
   ]
  },
  {
   "cell_type": "markdown",
   "metadata": {},
   "source": [
    "## Modeling"
   ]
  },
  {
   "cell_type": "markdown",
   "metadata": {},
   "source": [
    "### Loss on RMSE"
   ]
  },
  {
   "cell_type": "code",
   "execution_count": 27,
   "metadata": {},
   "outputs": [],
   "source": [
    "# Building Model\n",
    "model_mse = models.Sequential()\n",
    "model_mse.add(layers.Dense(units=100,activation='relu',input_shape=(X_train_f.shape[1],)))\n",
    "model_mse.add(layers.Dense(units=50,activation='relu'))\n",
    "model_mse.add(layers.Dropout(rate=0.3))\n",
    "model_mse.add(layers.Dense(units=50,activation='relu'))\n",
    "model_mse.add(layers.Dropout(rate=0.3))\n",
    "model_mse.add(layers.Dense(units=1,activation='linear'))\n",
    "\n",
    "# Compilation Step\n",
    "model_mse.compile(optimizer='adam',\n",
    "             loss='mse',\n",
    "             metrics=['mse'])"
   ]
  },
  {
   "cell_type": "code",
   "execution_count": 28,
   "metadata": {},
   "outputs": [],
   "source": [
    "# Callbacks to save best model and weights\n",
    "mse_callback = ModelCheckpoint(r'Data/model_mse.h5',monitor='val_mse',mode='min',save_best_only=True)"
   ]
  },
  {
   "cell_type": "code",
   "execution_count": 29,
   "metadata": {},
   "outputs": [
    {
     "name": "stdout",
     "output_type": "stream",
     "text": [
      "Epoch 1/50\n",
      "201/201 [==============================] - 0s 2ms/step - loss: 22838530048.0000 - mse: 22838530048.0000 - val_loss: 22451339264.0000 - val_mse: 22451339264.0000\n",
      "Epoch 2/50\n",
      "201/201 [==============================] - 0s 1ms/step - loss: 20139864064.0000 - mse: 20139864064.0000 - val_loss: 15682059264.0000 - val_mse: 15682059264.0000\n",
      "Epoch 3/50\n",
      "201/201 [==============================] - 0s 2ms/step - loss: 13101888512.0000 - mse: 13101888512.0000 - val_loss: 10695510016.0000 - val_mse: 10695510016.0000\n",
      "Epoch 4/50\n",
      "201/201 [==============================] - 0s 1ms/step - loss: 11194861568.0000 - mse: 11194862592.0000 - val_loss: 10332577792.0000 - val_mse: 10332577792.0000\n",
      "Epoch 5/50\n",
      "201/201 [==============================] - 0s 1ms/step - loss: 10587468800.0000 - mse: 10587468800.0000 - val_loss: 10179020800.0000 - val_mse: 10179020800.0000\n",
      "Epoch 6/50\n",
      "201/201 [==============================] - 0s 1ms/step - loss: 10265857024.0000 - mse: 10265857024.0000 - val_loss: 10072435712.0000 - val_mse: 10072435712.0000\n",
      "Epoch 7/50\n",
      "201/201 [==============================] - 0s 1ms/step - loss: 10361985024.0000 - mse: 10361986048.0000 - val_loss: 9986250752.0000 - val_mse: 9986250752.0000\n",
      "Epoch 8/50\n",
      "201/201 [==============================] - 0s 2ms/step - loss: 9885897728.0000 - mse: 9885897728.0000 - val_loss: 9877681152.0000 - val_mse: 9877681152.0000\n",
      "Epoch 9/50\n",
      "201/201 [==============================] - 0s 1ms/step - loss: 9590260736.0000 - mse: 9590260736.0000 - val_loss: 9856262144.0000 - val_mse: 9856262144.0000\n",
      "Epoch 10/50\n",
      "201/201 [==============================] - 0s 1ms/step - loss: 9457198080.0000 - mse: 9457198080.0000 - val_loss: 9816711168.0000 - val_mse: 9816711168.0000\n",
      "Epoch 11/50\n",
      "201/201 [==============================] - 0s 1ms/step - loss: 9357057024.0000 - mse: 9357057024.0000 - val_loss: 9803607040.0000 - val_mse: 9803607040.0000\n",
      "Epoch 12/50\n",
      "201/201 [==============================] - 0s 973us/step - loss: 9066348544.0000 - mse: 9066348544.0000 - val_loss: 9821182976.0000 - val_mse: 9821182976.0000\n",
      "Epoch 13/50\n",
      "201/201 [==============================] - 0s 1ms/step - loss: 8750265344.0000 - mse: 8750265344.0000 - val_loss: 9763308544.0000 - val_mse: 9763308544.0000\n",
      "Epoch 14/50\n",
      "201/201 [==============================] - 0s 880us/step - loss: 8232721920.0000 - mse: 8232721920.0000 - val_loss: 9869478912.0000 - val_mse: 9869478912.0000\n",
      "Epoch 15/50\n",
      "201/201 [==============================] - 0s 858us/step - loss: 8341400064.0000 - mse: 8341400064.0000 - val_loss: 9865313280.0000 - val_mse: 9865313280.0000\n",
      "Epoch 16/50\n",
      "201/201 [==============================] - 0s 963us/step - loss: 8092664832.0000 - mse: 8092664832.0000 - val_loss: 9834888192.0000 - val_mse: 9834888192.0000\n",
      "Epoch 17/50\n",
      "201/201 [==============================] - 0s 876us/step - loss: 7945479680.0000 - mse: 7945479680.0000 - val_loss: 9965062144.0000 - val_mse: 9965062144.0000\n",
      "Epoch 18/50\n",
      "201/201 [==============================] - 0s 828us/step - loss: 7829224960.0000 - mse: 7829225472.0000 - val_loss: 10027496448.0000 - val_mse: 10027496448.0000\n",
      "Epoch 19/50\n",
      "201/201 [==============================] - 0s 843us/step - loss: 7482179072.0000 - mse: 7482179072.0000 - val_loss: 10082485248.0000 - val_mse: 10082485248.0000\n",
      "Epoch 20/50\n",
      "201/201 [==============================] - 0s 888us/step - loss: 7494922240.0000 - mse: 7494922240.0000 - val_loss: 10222563328.0000 - val_mse: 10222563328.0000\n",
      "Epoch 21/50\n",
      "201/201 [==============================] - 0s 861us/step - loss: 6848825344.0000 - mse: 6848825344.0000 - val_loss: 10368191488.0000 - val_mse: 10368191488.0000\n",
      "Epoch 22/50\n",
      "201/201 [==============================] - 0s 863us/step - loss: 6785632256.0000 - mse: 6785632256.0000 - val_loss: 10368074752.0000 - val_mse: 10368074752.0000\n",
      "Epoch 23/50\n",
      "201/201 [==============================] - 0s 873us/step - loss: 6901699072.0000 - mse: 6901699072.0000 - val_loss: 10502787072.0000 - val_mse: 10502787072.0000\n",
      "Epoch 24/50\n",
      "201/201 [==============================] - 0s 843us/step - loss: 6632685568.0000 - mse: 6632685568.0000 - val_loss: 10615255040.0000 - val_mse: 10615255040.0000\n",
      "Epoch 25/50\n",
      "201/201 [==============================] - 0s 888us/step - loss: 6407764992.0000 - mse: 6407764992.0000 - val_loss: 10729318400.0000 - val_mse: 10729318400.0000\n",
      "Epoch 26/50\n",
      "201/201 [==============================] - 0s 878us/step - loss: 6526521344.0000 - mse: 6526521344.0000 - val_loss: 11026688000.0000 - val_mse: 11026688000.0000\n",
      "Epoch 27/50\n",
      "201/201 [==============================] - 0s 838us/step - loss: 6087895040.0000 - mse: 6087895040.0000 - val_loss: 11231205376.0000 - val_mse: 11231205376.0000\n",
      "Epoch 28/50\n",
      "201/201 [==============================] - 0s 836us/step - loss: 6032966144.0000 - mse: 6032966144.0000 - val_loss: 11283842048.0000 - val_mse: 11283842048.0000\n",
      "Epoch 29/50\n",
      "201/201 [==============================] - 0s 858us/step - loss: 5632256512.0000 - mse: 5632256512.0000 - val_loss: 11539299328.0000 - val_mse: 11539299328.0000\n",
      "Epoch 30/50\n",
      "201/201 [==============================] - 0s 965us/step - loss: 5603050496.0000 - mse: 5603050496.0000 - val_loss: 11748590592.0000 - val_mse: 11748590592.0000\n",
      "Epoch 31/50\n",
      "201/201 [==============================] - 0s 868us/step - loss: 5465366528.0000 - mse: 5465366528.0000 - val_loss: 11775800320.0000 - val_mse: 11775800320.0000\n",
      "Epoch 32/50\n",
      "201/201 [==============================] - 0s 836us/step - loss: 5319673856.0000 - mse: 5319673856.0000 - val_loss: 11989131264.0000 - val_mse: 11989131264.0000\n",
      "Epoch 33/50\n",
      "201/201 [==============================] - 0s 881us/step - loss: 5244477440.0000 - mse: 5244477440.0000 - val_loss: 12130498560.0000 - val_mse: 12130498560.0000\n",
      "Epoch 34/50\n",
      "201/201 [==============================] - 0s 863us/step - loss: 5345995776.0000 - mse: 5345995776.0000 - val_loss: 12292695040.0000 - val_mse: 12292695040.0000\n",
      "Epoch 35/50\n",
      "201/201 [==============================] - 0s 833us/step - loss: 4767778304.0000 - mse: 4767778304.0000 - val_loss: 12510101504.0000 - val_mse: 12510101504.0000\n",
      "Epoch 36/50\n",
      "201/201 [==============================] - 0s 856us/step - loss: 4789295616.0000 - mse: 4789295616.0000 - val_loss: 12860593152.0000 - val_mse: 12860593152.0000\n",
      "Epoch 37/50\n",
      "201/201 [==============================] - 0s 900us/step - loss: 4648752640.0000 - mse: 4648752640.0000 - val_loss: 13055551488.0000 - val_mse: 13055551488.0000\n",
      "Epoch 38/50\n",
      "201/201 [==============================] - 0s 933us/step - loss: 4747822592.0000 - mse: 4747822592.0000 - val_loss: 13098886144.0000 - val_mse: 13098886144.0000\n",
      "Epoch 39/50\n",
      "201/201 [==============================] - 0s 908us/step - loss: 4852796928.0000 - mse: 4852796928.0000 - val_loss: 13599214592.0000 - val_mse: 13599214592.0000\n",
      "Epoch 40/50\n",
      "201/201 [==============================] - 0s 861us/step - loss: 4326401536.0000 - mse: 4326401536.0000 - val_loss: 13845274624.0000 - val_mse: 13845274624.0000\n",
      "Epoch 41/50\n",
      "201/201 [==============================] - 0s 960us/step - loss: 4827784704.0000 - mse: 4827784704.0000 - val_loss: 13989267456.0000 - val_mse: 13989267456.0000\n",
      "Epoch 42/50\n",
      "201/201 [==============================] - 0s 1ms/step - loss: 4026443008.0000 - mse: 4026443008.0000 - val_loss: 14103005184.0000 - val_mse: 14103005184.0000\n",
      "Epoch 43/50\n",
      "201/201 [==============================] - 0s 868us/step - loss: 4207660288.0000 - mse: 4207660288.0000 - val_loss: 14163860480.0000 - val_mse: 14163860480.0000\n",
      "Epoch 44/50\n",
      "201/201 [==============================] - 0s 965us/step - loss: 4250045440.0000 - mse: 4250045440.0000 - val_loss: 14351895552.0000 - val_mse: 14351895552.0000\n",
      "Epoch 45/50\n",
      "201/201 [==============================] - 0s 868us/step - loss: 3966252032.0000 - mse: 3966252032.0000 - val_loss: 14759909376.0000 - val_mse: 14759909376.0000\n",
      "Epoch 46/50\n",
      "201/201 [==============================] - 0s 1ms/step - loss: 3638720512.0000 - mse: 3638720512.0000 - val_loss: 14967940096.0000 - val_mse: 14967940096.0000\n",
      "Epoch 47/50\n",
      "201/201 [==============================] - 0s 891us/step - loss: 3684615936.0000 - mse: 3684615936.0000 - val_loss: 15286370304.0000 - val_mse: 15286370304.0000\n",
      "Epoch 48/50\n"
     ]
    },
    {
     "name": "stdout",
     "output_type": "stream",
     "text": [
      "201/201 [==============================] - 0s 881us/step - loss: 3726327040.0000 - mse: 3726327296.0000 - val_loss: 15701762048.0000 - val_mse: 15701762048.0000\n",
      "Epoch 49/50\n",
      "201/201 [==============================] - 0s 846us/step - loss: 4105521664.0000 - mse: 4105521664.0000 - val_loss: 15941239808.0000 - val_mse: 15941239808.0000\n",
      "Epoch 50/50\n",
      "201/201 [==============================] - 0s 826us/step - loss: 3327546624.0000 - mse: 3327546624.0000 - val_loss: 15985825792.0000 - val_mse: 15985825792.0000\n"
     ]
    }
   ],
   "source": [
    "# Training Step\n",
    "history_mse = model_mse.fit(X_train_f, y_train_f, batch_size=5,epochs=50,validation_data=(X_val,y_val),\n",
    "                            callbacks=[mse_callback])"
   ]
  },
  {
   "cell_type": "code",
   "execution_count": 30,
   "metadata": {
    "scrolled": false
   },
   "outputs": [
    {
     "data": {
      "image/png": "[encoded data removed]",
      "text/plain": [
       "<Figure size 864x576 with 1 Axes>"
      ]
     },
     "metadata": {
      "needs_background": "light"
     },
     "output_type": "display_data"
    }
   ],
   "source": [
    "# Plotting Loss\n",
    "fig, ax = plt.subplots(figsize=(12, 8))\n",
    "\n",
    "model_dict = history_mse.history\n",
    "\n",
    "rmse_values = np.sqrt(model_dict['mse']) \n",
    "val_rmse_values = np.sqrt(model_dict['val_mse'])\n",
    "\n",
    "epochs = range(1, len(rmse_values) + 1)\n",
    "ax.plot(epochs, rmse_values, label='Training RMSE')\n",
    "ax.plot(epochs, val_rmse_values, label='Validation RMSE')\n",
    "plt.legend()\n",
    "plt.title('Word Data RMSE')\n",
    "plt.xlabel('Epochs')\n",
    "plt.ylabel('RMSE')\n",
    "plt.show()"
   ]
  },
  {
   "cell_type": "markdown",
   "metadata": {},
   "source": [
    "#### Best Results"
   ]
  },
  {
   "cell_type": "code",
   "execution_count": 132,
   "metadata": {},
   "outputs": [
    {
     "name": "stdout",
     "output_type": "stream",
     "text": [
      "Train Error: 90881\n",
      "Test Error: 80217\n"
     ]
    }
   ],
   "source": [
    "best_mse = load_model(r'Data/model_mse.h5')\n",
    "errors(best_mse,mean_squared_error,X_train_f, X_test,y_train_f,y_test,squared=True)"
   ]
  },
  {
   "cell_type": "markdown",
   "metadata": {},
   "source": [
    "### Loss on MAE"
   ]
  },
  {
   "cell_type": "code",
   "execution_count": 32,
   "metadata": {},
   "outputs": [],
   "source": [
    "# Building Model\n",
    "model_mae = models.Sequential()\n",
    "model_mae.add(layers.Dense(units=100,activation='relu',input_shape=(X_train_f.shape[1],)))\n",
    "model_mae.add(layers.Dense(units=50,activation='relu'))\n",
    "model_mae.add(layers.Dropout(rate=0.3))\n",
    "model_mae.add(layers.Dense(units=50,activation='relu'))\n",
    "model_mae.add(layers.Dropout(rate=0.3))\n",
    "model_mae.add(layers.Dense(units=1,activation='linear'))\n",
    "\n",
    "# Compilation Step\n",
    "model_mae.compile(optimizer='adam',\n",
    "             loss='mae',\n",
    "             metrics=['mae'])"
   ]
  },
  {
   "cell_type": "code",
   "execution_count": 33,
   "metadata": {},
   "outputs": [],
   "source": [
    "# Callbacks to save best model and weights\n",
    "mae_callback = ModelCheckpoint(r'Data/model_mae.h5',monitor='val_mae',mode='min',save_best_only=True)"
   ]
  },
  {
   "cell_type": "code",
   "execution_count": 34,
   "metadata": {
    "scrolled": true
   },
   "outputs": [
    {
     "name": "stdout",
     "output_type": "stream",
     "text": [
      "Epoch 1/50\n",
      "201/201 [==============================] - 0s 2ms/step - loss: 107059.2500 - mae: 107059.2500 - val_loss: 105093.3672 - val_mae: 105093.3672\n",
      "Epoch 2/50\n",
      "201/201 [==============================] - 0s 1ms/step - loss: 88814.8203 - mae: 88814.8203 - val_loss: 60696.4141 - val_mae: 60696.4141\n",
      "Epoch 3/50\n",
      "201/201 [==============================] - 0s 1ms/step - loss: 55141.0547 - mae: 55141.0547 - val_loss: 51562.8906 - val_mae: 51562.8906\n",
      "Epoch 4/50\n",
      "201/201 [==============================] - 0s 1ms/step - loss: 51207.8789 - mae: 51207.8789 - val_loss: 49960.6406 - val_mae: 49960.6406\n",
      "Epoch 5/50\n",
      "201/201 [==============================] - 0s 1ms/step - loss: 49641.7109 - mae: 49641.7109 - val_loss: 49521.6758 - val_mae: 49521.6758\n",
      "Epoch 6/50\n",
      "201/201 [==============================] - 0s 2ms/step - loss: 48228.4805 - mae: 48228.4805 - val_loss: 48308.3516 - val_mae: 48308.3516\n",
      "Epoch 7/50\n",
      "201/201 [==============================] - 0s 1ms/step - loss: 48173.9023 - mae: 48173.9023 - val_loss: 47728.2617 - val_mae: 47728.2617\n",
      "Epoch 8/50\n",
      "201/201 [==============================] - 0s 2ms/step - loss: 46363.3516 - mae: 46363.3516 - val_loss: 47303.9805 - val_mae: 47303.9805\n",
      "Epoch 9/50\n",
      "201/201 [==============================] - 0s 1ms/step - loss: 45532.8789 - mae: 45532.8789 - val_loss: 46842.1914 - val_mae: 46842.1914\n",
      "Epoch 10/50\n",
      "201/201 [==============================] - 0s 808us/step - loss: 43649.3672 - mae: 43649.3672 - val_loss: 47123.4453 - val_mae: 47123.4453\n",
      "Epoch 11/50\n",
      "201/201 [==============================] - 0s 2ms/step - loss: 43150.4219 - mae: 43150.4219 - val_loss: 46506.6719 - val_mae: 46506.6719\n",
      "Epoch 12/50\n",
      "201/201 [==============================] - 0s 1ms/step - loss: 41717.2227 - mae: 41717.2227 - val_loss: 46515.5664 - val_mae: 46515.5664\n",
      "Epoch 13/50\n",
      "201/201 [==============================] - 0s 923us/step - loss: 41011.6484 - mae: 41011.6484 - val_loss: 46841.7461 - val_mae: 46841.7461\n",
      "Epoch 14/50\n",
      "201/201 [==============================] - 0s 990us/step - loss: 39279.8125 - mae: 39279.8125 - val_loss: 47187.4062 - val_mae: 47187.4062\n",
      "Epoch 15/50\n",
      "201/201 [==============================] - 0s 818us/step - loss: 38848.1211 - mae: 38848.1211 - val_loss: 47528.0156 - val_mae: 47528.0156\n",
      "Epoch 16/50\n",
      "201/201 [==============================] - 0s 878us/step - loss: 37771.3164 - mae: 37771.3164 - val_loss: 47038.6953 - val_mae: 47038.6914\n",
      "Epoch 17/50\n",
      "201/201 [==============================] - 0s 960us/step - loss: 37678.4492 - mae: 37678.4492 - val_loss: 47201.5664 - val_mae: 47201.5664\n",
      "Epoch 18/50\n",
      "201/201 [==============================] - 0s 893us/step - loss: 36439.6953 - mae: 36439.6953 - val_loss: 47634.5938 - val_mae: 47634.5938\n",
      "Epoch 19/50\n",
      "201/201 [==============================] - 0s 925us/step - loss: 36063.8867 - mae: 36063.8867 - val_loss: 47765.6133 - val_mae: 47765.6133\n",
      "Epoch 20/50\n",
      "201/201 [==============================] - 0s 893us/step - loss: 34864.0859 - mae: 34864.0859 - val_loss: 48530.3984 - val_mae: 48530.3984\n",
      "Epoch 21/50\n",
      "201/201 [==============================] - 0s 918us/step - loss: 35521.5312 - mae: 35521.5312 - val_loss: 48340.5195 - val_mae: 48340.5195\n",
      "Epoch 22/50\n",
      "201/201 [==============================] - 0s 826us/step - loss: 34101.8828 - mae: 34101.8828 - val_loss: 48258.8281 - val_mae: 48258.8281\n",
      "Epoch 23/50\n",
      "201/201 [==============================] - 0s 863us/step - loss: 33445.0391 - mae: 33445.0391 - val_loss: 48593.5859 - val_mae: 48593.5859\n",
      "Epoch 24/50\n",
      "201/201 [==============================] - 0s 1ms/step - loss: 33940.1406 - mae: 33940.1406 - val_loss: 48706.2266 - val_mae: 48706.2266\n",
      "Epoch 25/50\n",
      "201/201 [==============================] - 0s 1ms/step - loss: 32990.0039 - mae: 32990.0000 - val_loss: 48633.1055 - val_mae: 48633.1055\n",
      "Epoch 26/50\n",
      "201/201 [==============================] - 0s 1ms/step - loss: 33364.6484 - mae: 33364.6484 - val_loss: 49119.8086 - val_mae: 49119.8086\n",
      "Epoch 27/50\n",
      "201/201 [==============================] - 0s 1ms/step - loss: 32990.4414 - mae: 32990.4414 - val_loss: 49827.1484 - val_mae: 49827.1484\n",
      "Epoch 28/50\n",
      "201/201 [==============================] - 0s 993us/step - loss: 32352.2539 - mae: 32352.2539 - val_loss: 50415.6055 - val_mae: 50415.6055\n",
      "Epoch 29/50\n",
      "201/201 [==============================] - 0s 987us/step - loss: 31592.4766 - mae: 31592.4766 - val_loss: 49870.5391 - val_mae: 49870.5391\n",
      "Epoch 30/50\n",
      "201/201 [==============================] - 0s 958us/step - loss: 31326.7031 - mae: 31326.7031 - val_loss: 50128.8711 - val_mae: 50128.8711\n",
      "Epoch 31/50\n",
      "201/201 [==============================] - 0s 978us/step - loss: 31388.2832 - mae: 31388.2832 - val_loss: 50827.0938 - val_mae: 50827.1055\n",
      "Epoch 32/50\n",
      "201/201 [==============================] - 0s 1ms/step - loss: 31538.4863 - mae: 31538.4863 - val_loss: 50966.2617 - val_mae: 50966.2617\n",
      "Epoch 33/50\n",
      "201/201 [==============================] - 0s 1ms/step - loss: 30244.3633 - mae: 30244.3633 - val_loss: 50402.8945 - val_mae: 50402.8945\n",
      "Epoch 34/50\n",
      "201/201 [==============================] - 0s 1ms/step - loss: 31777.5410 - mae: 31777.5410 - val_loss: 50838.1641 - val_mae: 50838.1641\n",
      "Epoch 35/50\n",
      "201/201 [==============================] - 0s 1ms/step - loss: 29828.2676 - mae: 29828.2676 - val_loss: 50720.2031 - val_mae: 50720.2031\n",
      "Epoch 36/50\n",
      "201/201 [==============================] - 0s 1ms/step - loss: 30112.0137 - mae: 30112.0137 - val_loss: 51045.8242 - val_mae: 51045.8242\n",
      "Epoch 37/50\n",
      "201/201 [==============================] - 0s 1ms/step - loss: 30312.6016 - mae: 30312.6016 - val_loss: 52365.9883 - val_mae: 52365.9883\n",
      "Epoch 38/50\n",
      "201/201 [==============================] - 0s 1ms/step - loss: 29737.7930 - mae: 29737.7930 - val_loss: 50776.0391 - val_mae: 50776.0391\n",
      "Epoch 39/50\n",
      "201/201 [==============================] - 0s 1ms/step - loss: 29242.7402 - mae: 29242.7402 - val_loss: 51966.9844 - val_mae: 51966.9844\n",
      "Epoch 40/50\n",
      "201/201 [==============================] - 0s 965us/step - loss: 30046.8203 - mae: 30046.8203 - val_loss: 52409.4531 - val_mae: 52409.4531\n",
      "Epoch 41/50\n",
      "201/201 [==============================] - 0s 973us/step - loss: 28346.9727 - mae: 28346.9727 - val_loss: 52158.6562 - val_mae: 52158.6484\n",
      "Epoch 42/50\n",
      "201/201 [==============================] - 0s 1ms/step - loss: 28654.7754 - mae: 28654.7754 - val_loss: 52953.5781 - val_mae: 52953.5781\n",
      "Epoch 43/50\n",
      "201/201 [==============================] - 0s 1ms/step - loss: 27785.9062 - mae: 27785.9062 - val_loss: 52960.0234 - val_mae: 52960.0312\n",
      "Epoch 44/50\n",
      "201/201 [==============================] - 0s 1ms/step - loss: 27991.0605 - mae: 27991.0586 - val_loss: 53546.9648 - val_mae: 53546.9609\n",
      "Epoch 45/50\n",
      "201/201 [==============================] - 0s 1ms/step - loss: 28132.2969 - mae: 28132.2969 - val_loss: 54170.3398 - val_mae: 54170.3398\n",
      "Epoch 46/50\n",
      "201/201 [==============================] - 0s 990us/step - loss: 27847.9395 - mae: 27847.9395 - val_loss: 55023.3750 - val_mae: 55023.3750\n",
      "Epoch 47/50\n",
      "201/201 [==============================] - 0s 1ms/step - loss: 27886.8691 - mae: 27886.8691 - val_loss: 54403.2305 - val_mae: 54403.2305\n",
      "Epoch 48/50\n",
      "201/201 [==============================] - 0s 1ms/step - loss: 27230.2520 - mae: 27230.2500 - val_loss: 55058.3594 - val_mae: 55058.3594\n",
      "Epoch 49/50\n",
      "201/201 [==============================] - 0s 1ms/step - loss: 27302.9785 - mae: 27302.9785 - val_loss: 54864.9531 - val_mae: 54864.9531\n",
      "Epoch 50/50\n",
      "201/201 [==============================] - 0s 973us/step - loss: 27035.1641 - mae: 27035.1641 - val_loss: 54962.8164 - val_mae: 54962.8164\n"
     ]
    }
   ],
   "source": [
    "# Training Step\n",
    "history_mae = model_mae.fit(X_train_f, y_train_f, batch_size=5,epochs=50,validation_data=(X_val,y_val),\n",
    "                            callbacks=[mae_callback])"
   ]
  },
  {
   "cell_type": "code",
   "execution_count": 35,
   "metadata": {
    "scrolled": true
   },
   "outputs": [
    {
     "data": {
      "image/png": "[encoded data removed]",
      "text/plain": [
       "<Figure size 864x576 with 1 Axes>"
      ]
     },
     "metadata": {
      "needs_background": "light"
     },
     "output_type": "display_data"
    }
   ],
   "source": [
    "# Plotting Loss\n",
    "fig, ax = plt.subplots(figsize=(12, 8))\n",
    "\n",
    "model_dict = history_mae.history\n",
    "\n",
    "mae_values = model_dict['mae']\n",
    "val_mae_values = model_dict['val_mae']\n",
    "\n",
    "epochs = range(1, len(mae_values) + 1)\n",
    "ax.plot(epochs, mae_values, label='Training MAE')\n",
    "ax.plot(epochs, val_mae_values, label='Validation MAE')\n",
    "plt.legend()\n",
    "plt.title('Word Data MAE')\n",
    "plt.xlabel('Epochs')\n",
    "plt.ylabel('MAE')\n",
    "plt.show()"
   ]
  },
  {
   "cell_type": "markdown",
   "metadata": {},
   "source": [
    "#### Best Results"
   ]
  },
  {
   "cell_type": "code",
   "execution_count": 133,
   "metadata": {},
   "outputs": [
    {
     "name": "stdout",
     "output_type": "stream",
     "text": [
      "Train Error: 39117\n",
      "Test Error: 47137\n"
     ]
    }
   ],
   "source": [
    "best_mae = load_model(r'Data/model_mae.h5')\n",
    "errors(best_mae,mean_absolute_error,X_train_f, X_test,y_train_f,y_test,squared=False)"
   ]
  },
  {
   "cell_type": "markdown",
   "metadata": {},
   "source": [
    "# Model After Removing Outliers"
   ]
  },
  {
   "cell_type": "markdown",
   "metadata": {},
   "source": [
    "## Outlier Removal using IQR along with Train Test Validation Split"
   ]
  },
  {
   "cell_type": "code",
   "execution_count": 37,
   "metadata": {
    "scrolled": true
   },
   "outputs": [
    {
     "data": {
      "text/plain": [
       "count       1102.00\n",
       "mean      107397.09\n",
       "std       106641.20\n",
       "min         8088.00\n",
       "25%        54421.00\n",
       "50%        81922.00\n",
       "75%       127335.75\n",
       "max      1783323.00\n",
       "Name: views, dtype: float64"
      ]
     },
     "execution_count": 37,
     "metadata": {},
     "output_type": "execute_result"
    }
   ],
   "source": [
    "round(y_train.describe(),2)"
   ]
  },
  {
   "cell_type": "code",
   "execution_count": 81,
   "metadata": {},
   "outputs": [],
   "source": [
    "iqr_df = pickle.load(open(r\"Data\\players_cleaned_df.pickle\",\"rb\"))"
   ]
  },
  {
   "cell_type": "code",
   "execution_count": 85,
   "metadata": {},
   "outputs": [],
   "source": [
    "X_iqr = iqr_df[['title']]\n",
    "y_iqr = iqr_df[['views']]\n",
    "\n",
    "X_train_iqr_pre,X_test_iqr_pre,y_train_iqr,y_test_iqr = train_test_split(X_iqr,y_iqr,test_size=150,random_state=4521)"
   ]
  },
  {
   "cell_type": "code",
   "execution_count": 86,
   "metadata": {},
   "outputs": [],
   "source": [
    "# Obtaining Lower and Upper Limits using IQR\n",
    "q25 = y_train_iqr['views'].describe()['25%']\n",
    "q75 = y_train_iqr['views'].describe()['75%']\n",
    "iqr = q75-q25\n",
    "low_lim = q25-1.5*iqr\n",
    "upp_lim = q75+1.5*iqr"
   ]
  },
  {
   "cell_type": "code",
   "execution_count": 87,
   "metadata": {},
   "outputs": [],
   "source": [
    "# Resetting Index to use to help filtering out locations of outliers\n",
    "X_train_iqr_pre.reset_index(inplace=True)\n",
    "X_test_iqr_pre.reset_index(inplace=True)\n",
    "y_train_iqr.reset_index(inplace=True)\n",
    "y_test_iqr.reset_index(inplace=True)"
   ]
  },
  {
   "cell_type": "code",
   "execution_count": 88,
   "metadata": {},
   "outputs": [],
   "source": [
    "# Finding Indexes within range\n",
    "train_keep_in = y_train_iqr['views'].index[(low_lim < y_train_iqr['views']) & (y_train_iqr['views'] < upp_lim)]\n",
    "test_keep_in = y_test_iqr['views'].index[(low_lim < y_test_iqr['views']) & (y_test_iqr['views'] < upp_lim)]"
   ]
  },
  {
   "cell_type": "code",
   "execution_count": 109,
   "metadata": {},
   "outputs": [],
   "source": [
    "# New Train and Test data after removing outliers based on train\n",
    "X_train_iqrf_pre = X_train_iqr_pre.iloc[train_keep_in].drop('index',axis=1)['title']\n",
    "y_train_iqrf = np.array(y_train_iqr.iloc[train_keep_in].drop('index',axis=1))\n",
    "X_test_iqrf_pre = X_test_iqr_pre.iloc[test_keep_in].drop('index',axis=1)['title']\n",
    "y_test_iqrf = np.array(y_test_iqr.iloc[test_keep_in].drop('index',axis=1))"
   ]
  },
  {
   "cell_type": "code",
   "execution_count": 110,
   "metadata": {},
   "outputs": [],
   "source": [
    "# Validation Split\n",
    "X_train_val_iqr_pre,X_val_iqr_pre,y_train_val_iqr,y_val_iqr = train_test_split(X_train_iqrf_pre,\n",
    "                                                                               y_train_iqrf,\n",
    "                                                                               test_size=100,random_state=4521)"
   ]
  },
  {
   "cell_type": "markdown",
   "metadata": {},
   "source": [
    "## Refitting TFIDF Vectorizer"
   ]
  },
  {
   "cell_type": "code",
   "execution_count": 111,
   "metadata": {},
   "outputs": [],
   "source": [
    "tf_o = TfidfVectorizer(preprocessor=splitter, lowercase=False)\n",
    "fit_tf_o = tf_o.fit(X_train_val_iqr_pre)"
   ]
  },
  {
   "cell_type": "code",
   "execution_count": 150,
   "metadata": {},
   "outputs": [],
   "source": [
    "X_train_val_iqr = tf_o.transform(X_train_val_iqr_pre).todense()\n",
    "X_val_iqr = tf_o.transform(X_val_iqr_pre).todense()\n",
    "X_test_iqrf = tf_o.transform(X_test_iqrf_pre).todense()"
   ]
  },
  {
   "cell_type": "markdown",
   "metadata": {},
   "source": [
    "## Modeling P2"
   ]
  },
  {
   "cell_type": "markdown",
   "metadata": {},
   "source": [
    "### Loss on RMSE"
   ]
  },
  {
   "cell_type": "code",
   "execution_count": 146,
   "metadata": {},
   "outputs": [],
   "source": [
    "# Building Model\n",
    "model_mse_iqr = models.Sequential()\n",
    "model_mse_iqr.add(layers.Dense(units=100,activation='relu',input_shape=(X_train_val_iqr.shape[1],)))\n",
    "model_mse_iqr.add(layers.Dense(units=50,activation='relu'))\n",
    "model_mse_iqr.add(layers.Dropout(rate=0.3))\n",
    "model_mse_iqr.add(layers.Dense(units=50,activation='relu'))\n",
    "model_mse_iqr.add(layers.Dropout(rate=0.3))\n",
    "model_mse_iqr.add(layers.Dense(units=1,activation='linear'))\n",
    "\n",
    "# Compilation Step\n",
    "model_mse_iqr.compile(optimizer='adam',\n",
    "             loss='mse',\n",
    "             metrics=['mse'])"
   ]
  },
  {
   "cell_type": "code",
   "execution_count": 147,
   "metadata": {},
   "outputs": [],
   "source": [
    "# Callbacks to save best model and weights\n",
    "mse_iqr_callback = ModelCheckpoint(r'Data/model_mse_iqr.h5',monitor='val_mse',mode='min',save_best_only=True)"
   ]
  },
  {
   "cell_type": "code",
   "execution_count": 148,
   "metadata": {
    "scrolled": true
   },
   "outputs": [
    {
     "name": "stdout",
     "output_type": "stream",
     "text": [
      "Epoch 1/50\n",
      "186/186 [==============================] - 0s 2ms/step - loss: 9685949440.0000 - mse: 9685949440.0000 - val_loss: 9267685376.0000 - val_mse: 9267685376.0000\n",
      "Epoch 2/50\n",
      "186/186 [==============================] - 0s 2ms/step - loss: 7747325952.0000 - mse: 7747325952.0000 - val_loss: 4264439040.0000 - val_mse: 4264439040.0000\n",
      "Epoch 3/50\n",
      "186/186 [==============================] - 0s 2ms/step - loss: 2929756160.0000 - mse: 2929756160.0000 - val_loss: 1519690496.0000 - val_mse: 1519690496.0000\n",
      "Epoch 4/50\n",
      "186/186 [==============================] - 0s 1ms/step - loss: 2064872064.0000 - mse: 2064872064.0000 - val_loss: 1439320576.0000 - val_mse: 1439320576.0000\n",
      "Epoch 5/50\n",
      "186/186 [==============================] - 0s 2ms/step - loss: 1910513408.0000 - mse: 1910513536.0000 - val_loss: 1398416000.0000 - val_mse: 1398416000.0000\n",
      "Epoch 6/50\n",
      "186/186 [==============================] - 0s 898us/step - loss: 1735401216.0000 - mse: 1735401216.0000 - val_loss: 1405992576.0000 - val_mse: 1405992576.0000\n",
      "Epoch 7/50\n",
      "186/186 [==============================] - 0s 2ms/step - loss: 1658415616.0000 - mse: 1658415616.0000 - val_loss: 1366413952.0000 - val_mse: 1366413824.0000\n",
      "Epoch 8/50\n",
      "186/186 [==============================] - 0s 1ms/step - loss: 1567226368.0000 - mse: 1567226368.0000 - val_loss: 1375001344.0000 - val_mse: 1375001344.0000\n",
      "Epoch 9/50\n",
      "186/186 [==============================] - 0s 954us/step - loss: 1414507904.0000 - mse: 1414507904.0000 - val_loss: 1383978752.0000 - val_mse: 1383978752.0000\n",
      "Epoch 10/50\n",
      "186/186 [==============================] - 0s 887us/step - loss: 1386499456.0000 - mse: 1386499456.0000 - val_loss: 1409785088.0000 - val_mse: 1409785088.0000\n",
      "Epoch 11/50\n",
      "186/186 [==============================] - 0s 876us/step - loss: 1295213568.0000 - mse: 1295213568.0000 - val_loss: 1414296832.0000 - val_mse: 1414296832.0000\n",
      "Epoch 12/50\n",
      "186/186 [==============================] - 0s 860us/step - loss: 1253706368.0000 - mse: 1253706368.0000 - val_loss: 1418063744.0000 - val_mse: 1418063744.0000\n",
      "Epoch 13/50\n",
      "186/186 [==============================] - 0s 898us/step - loss: 1095408768.0000 - mse: 1095408768.0000 - val_loss: 1434129920.0000 - val_mse: 1434129920.0000\n",
      "Epoch 14/50\n",
      "186/186 [==============================] - 0s 893us/step - loss: 1113364352.0000 - mse: 1113364352.0000 - val_loss: 1506219904.0000 - val_mse: 1506219904.0000\n",
      "Epoch 15/50\n",
      "186/186 [==============================] - 0s 901us/step - loss: 1050865920.0000 - mse: 1050865920.0000 - val_loss: 1499916672.0000 - val_mse: 1499916672.0000\n",
      "Epoch 16/50\n",
      "186/186 [==============================] - 0s 952us/step - loss: 1022685184.0000 - mse: 1022685184.0000 - val_loss: 1461497856.0000 - val_mse: 1461497856.0000\n",
      "Epoch 17/50\n",
      "186/186 [==============================] - 0s 1ms/step - loss: 966412608.0000 - mse: 966412736.0000 - val_loss: 1562411392.0000 - val_mse: 1562411136.0000\n",
      "Epoch 18/50\n",
      "186/186 [==============================] - 0s 944us/step - loss: 931420800.0000 - mse: 931420800.0000 - val_loss: 1562188032.0000 - val_mse: 1562188032.0000\n",
      "Epoch 19/50\n",
      "186/186 [==============================] - 0s 935us/step - loss: 820922432.0000 - mse: 820922432.0000 - val_loss: 1515801088.0000 - val_mse: 1515801088.0000\n",
      "Epoch 20/50\n",
      "186/186 [==============================] - 0s 863us/step - loss: 873521920.0000 - mse: 873521920.0000 - val_loss: 1600798336.0000 - val_mse: 1600798336.0000\n",
      "Epoch 21/50\n",
      "186/186 [==============================] - 0s 866us/step - loss: 828599936.0000 - mse: 828599936.0000 - val_loss: 1615948800.0000 - val_mse: 1615948800.0000\n",
      "Epoch 22/50\n",
      "186/186 [==============================] - 0s 919us/step - loss: 761534592.0000 - mse: 761534528.0000 - val_loss: 1660433408.0000 - val_mse: 1660433408.0000\n",
      "Epoch 23/50\n",
      "186/186 [==============================] - 0s 1ms/step - loss: 718495616.0000 - mse: 718495616.0000 - val_loss: 1687234816.0000 - val_mse: 1687234816.0000\n",
      "Epoch 24/50\n",
      "186/186 [==============================] - 0s 922us/step - loss: 678579072.0000 - mse: 678579072.0000 - val_loss: 1674729856.0000 - val_mse: 1674729856.0000\n",
      "Epoch 25/50\n",
      "186/186 [==============================] - 0s 1ms/step - loss: 737778496.0000 - mse: 737778560.0000 - val_loss: 1724049920.0000 - val_mse: 1724049920.0000\n",
      "Epoch 26/50\n",
      "186/186 [==============================] - 0s 1ms/step - loss: 734706432.0000 - mse: 734706432.0000 - val_loss: 1773229824.0000 - val_mse: 1773229824.0000\n",
      "Epoch 27/50\n",
      "186/186 [==============================] - 0s 1ms/step - loss: 689593280.0000 - mse: 689593280.0000 - val_loss: 1827186432.0000 - val_mse: 1827186432.0000\n",
      "Epoch 28/50\n",
      "186/186 [==============================] - 0s 922us/step - loss: 680360192.0000 - mse: 680360192.0000 - val_loss: 1779625856.0000 - val_mse: 1779626112.0000\n",
      "Epoch 29/50\n",
      "186/186 [==============================] - 0s 906us/step - loss: 603432384.0000 - mse: 603432384.0000 - val_loss: 1815760128.0000 - val_mse: 1815760128.0000\n",
      "Epoch 30/50\n",
      "186/186 [==============================] - 0s 968us/step - loss: 584118400.0000 - mse: 584118400.0000 - val_loss: 1927444992.0000 - val_mse: 1927444992.0000\n",
      "Epoch 31/50\n",
      "186/186 [==============================] - 0s 997us/step - loss: 608081024.0000 - mse: 608081024.0000 - val_loss: 1847980672.0000 - val_mse: 1847980672.0000\n",
      "Epoch 32/50\n",
      "186/186 [==============================] - 0s 868us/step - loss: 577168064.0000 - mse: 577168064.0000 - val_loss: 1927836416.0000 - val_mse: 1927836416.0000\n",
      "Epoch 33/50\n",
      "186/186 [==============================] - 0s 876us/step - loss: 557179456.0000 - mse: 557179456.0000 - val_loss: 1907209216.0000 - val_mse: 1907209216.0000\n",
      "Epoch 34/50\n",
      "186/186 [==============================] - 0s 1ms/step - loss: 546499584.0000 - mse: 546499584.0000 - val_loss: 2000244736.0000 - val_mse: 2000244608.0000\n",
      "Epoch 35/50\n",
      "186/186 [==============================] - 0s 1ms/step - loss: 613986816.0000 - mse: 613986816.0000 - val_loss: 1927708160.0000 - val_mse: 1927708160.0000\n",
      "Epoch 36/50\n",
      "186/186 [==============================] - 0s 1ms/step - loss: 495374688.0000 - mse: 495374688.0000 - val_loss: 1964196992.0000 - val_mse: 1964196992.0000\n",
      "Epoch 37/50\n",
      "186/186 [==============================] - 0s 1ms/step - loss: 523979200.0000 - mse: 523979200.0000 - val_loss: 2019892096.0000 - val_mse: 2019892096.0000\n",
      "Epoch 38/50\n",
      "186/186 [==============================] - 0s 1ms/step - loss: 534360608.0000 - mse: 534360608.0000 - val_loss: 2095903488.0000 - val_mse: 2095903488.0000\n",
      "Epoch 39/50\n",
      "186/186 [==============================] - 0s 960us/step - loss: 513406656.0000 - mse: 513406656.0000 - val_loss: 2053871744.0000 - val_mse: 2053871744.0000\n",
      "Epoch 40/50\n",
      "186/186 [==============================] - 0s 965us/step - loss: 469319712.0000 - mse: 469319712.0000 - val_loss: 2005223552.0000 - val_mse: 2005223552.0000\n",
      "Epoch 41/50\n",
      "186/186 [==============================] - 0s 949us/step - loss: 479629152.0000 - mse: 479629152.0000 - val_loss: 2018824576.0000 - val_mse: 2018824576.0000\n",
      "Epoch 42/50\n",
      "186/186 [==============================] - 0s 1ms/step - loss: 483930656.0000 - mse: 483930656.0000 - val_loss: 2011866752.0000 - val_mse: 2011866752.0000\n",
      "Epoch 43/50\n",
      "186/186 [==============================] - 0s 978us/step - loss: 463841760.0000 - mse: 463841760.0000 - val_loss: 2103725568.0000 - val_mse: 2103725568.0000\n",
      "Epoch 44/50\n",
      "186/186 [==============================] - 0s 1ms/step - loss: 529965376.0000 - mse: 529965376.0000 - val_loss: 2060399104.0000 - val_mse: 2060399104.0000\n",
      "Epoch 45/50\n",
      "186/186 [==============================] - 0s 1ms/step - loss: 456501216.0000 - mse: 456501216.0000 - val_loss: 2073154048.0000 - val_mse: 2073154048.0000\n",
      "Epoch 46/50\n",
      "186/186 [==============================] - 0s 957us/step - loss: 451502080.0000 - mse: 451502080.0000 - val_loss: 2229317120.0000 - val_mse: 2229317120.0000\n",
      "Epoch 47/50\n",
      "186/186 [==============================] - 0s 890us/step - loss: 463330784.0000 - mse: 463330784.0000 - val_loss: 2097546496.0000 - val_mse: 2097546496.0000\n",
      "Epoch 48/50\n",
      "186/186 [==============================] - 0s 876us/step - loss: 517604384.0000 - mse: 517604384.0000 - val_loss: 2136484608.0000 - val_mse: 2136484736.0000\n",
      "Epoch 49/50\n"
     ]
    },
    {
     "name": "stdout",
     "output_type": "stream",
     "text": [
      "186/186 [==============================] - 0s 882us/step - loss: 521813696.0000 - mse: 521813696.0000 - val_loss: 2112945152.0000 - val_mse: 2112945152.0000\n",
      "Epoch 50/50\n",
      "186/186 [==============================] - 0s 863us/step - loss: 435736512.0000 - mse: 435736512.0000 - val_loss: 2202697728.0000 - val_mse: 2202697728.0000\n"
     ]
    }
   ],
   "source": [
    "# Training Step\n",
    "history_mse_iqr = model_mse_iqr.fit(X_train_val_iqr, y_train_val_iqr,\n",
    "                                    batch_size=5,epochs=50,\n",
    "                                    validation_data=(X_val_iqr,y_val_iqr),\n",
    "                                    callbacks=[mse_iqr_callback])"
   ]
  },
  {
   "cell_type": "code",
   "execution_count": 149,
   "metadata": {
    "scrolled": true
   },
   "outputs": [
    {
     "data": {
      "image/png": "[encoded data removed]",
      "text/plain": [
       "<Figure size 864x576 with 1 Axes>"
      ]
     },
     "metadata": {
      "needs_background": "light"
     },
     "output_type": "display_data"
    }
   ],
   "source": [
    "# Plotting Loss\n",
    "fig, ax = plt.subplots(figsize=(12, 8))\n",
    "\n",
    "model_dict = history_mse_iqr.history\n",
    "\n",
    "rmse_values = np.sqrt(model_dict['mse']) \n",
    "val_rmse_values = np.sqrt(model_dict['val_mse'])\n",
    "\n",
    "epochs = range(1, len(rmse_values) + 1)\n",
    "ax.plot(epochs, rmse_values, label='Training RMSE')\n",
    "ax.plot(epochs, val_rmse_values, label='Validation RMSE')\n",
    "plt.legend()\n",
    "plt.title('Word Data RMSE without Outliers')\n",
    "plt.xlabel('Epochs')\n",
    "plt.ylabel('RMSE')\n",
    "plt.show()"
   ]
  },
  {
   "cell_type": "markdown",
   "metadata": {},
   "source": [
    "#### Best Results"
   ]
  },
  {
   "cell_type": "code",
   "execution_count": 151,
   "metadata": {},
   "outputs": [
    {
     "name": "stdout",
     "output_type": "stream",
     "text": [
      "Train Error: 36380\n",
      "Test Error: 40608\n"
     ]
    }
   ],
   "source": [
    "best_mse_iqr = load_model(r'Data/model_mse_iqr.h5')\n",
    "errors(best_mse_iqr,mean_squared_error,X_train_val_iqr,X_test_iqrf,\n",
    "       y_train_val_iqr,y_test_iqrf,squared=True)"
   ]
  },
  {
   "cell_type": "markdown",
   "metadata": {},
   "source": [
    "### Loss on MAE"
   ]
  },
  {
   "cell_type": "code",
   "execution_count": 152,
   "metadata": {},
   "outputs": [],
   "source": [
    "# Building Model\n",
    "model_mae_iqr = models.Sequential()\n",
    "model_mae_iqr.add(layers.Dense(units=100,activation='relu',input_shape=(X_train_val_iqr.shape[1],)))\n",
    "model_mae_iqr.add(layers.Dense(units=50,activation='relu'))\n",
    "model_mae_iqr.add(layers.Dropout(rate=0.3))\n",
    "model_mae_iqr.add(layers.Dense(units=50,activation='relu'))\n",
    "model_mae_iqr.add(layers.Dropout(rate=0.3))\n",
    "model_mae_iqr.add(layers.Dense(units=1,activation='linear'))\n",
    "\n",
    "# Compilation Step\n",
    "model_mae_iqr.compile(optimizer='adam',\n",
    "             loss='mae',\n",
    "             metrics=['mae'])"
   ]
  },
  {
   "cell_type": "code",
   "execution_count": 153,
   "metadata": {},
   "outputs": [],
   "source": [
    "# Callbacks to save best model and weights\n",
    "mae_iqr_callback = ModelCheckpoint(r'Data/model_mae_iqr.h5',monitor='val_mae',mode='min',save_best_only=True)"
   ]
  },
  {
   "cell_type": "code",
   "execution_count": 154,
   "metadata": {},
   "outputs": [
    {
     "name": "stdout",
     "output_type": "stream",
     "text": [
      "Epoch 1/50\n",
      "186/186 [==============================] - 0s 2ms/step - loss: 86405.5547 - mae: 86405.5547 - val_loss: 87384.7578 - val_mae: 87384.7578\n",
      "Epoch 2/50\n",
      "186/186 [==============================] - 0s 2ms/step - loss: 72802.7734 - mae: 72802.7734 - val_loss: 49190.3594 - val_mae: 49190.3594\n",
      "Epoch 3/50\n",
      "186/186 [==============================] - 0s 2ms/step - loss: 39102.6953 - mae: 39102.6953 - val_loss: 29263.2109 - val_mae: 29263.2109\n",
      "Epoch 4/50\n",
      "186/186 [==============================] - 0s 1ms/step - loss: 34387.9648 - mae: 34387.9648 - val_loss: 28607.5625 - val_mae: 28607.5625\n",
      "Epoch 5/50\n",
      "186/186 [==============================] - 0s 1ms/step - loss: 32368.6602 - mae: 32368.6602 - val_loss: 27824.9844 - val_mae: 27824.9844\n",
      "Epoch 6/50\n",
      "186/186 [==============================] - 0s 1ms/step - loss: 30887.4297 - mae: 30887.4297 - val_loss: 27319.6426 - val_mae: 27319.6426\n",
      "Epoch 7/50\n",
      "186/186 [==============================] - 0s 2ms/step - loss: 29838.5332 - mae: 29838.5332 - val_loss: 27017.1543 - val_mae: 27017.1543\n",
      "Epoch 8/50\n",
      "186/186 [==============================] - 0s 941us/step - loss: 28528.0664 - mae: 28528.0664 - val_loss: 27347.2734 - val_mae: 27347.2734\n",
      "Epoch 9/50\n",
      "186/186 [==============================] - 0s 2ms/step - loss: 28087.7773 - mae: 28087.7773 - val_loss: 26840.1191 - val_mae: 26840.1191\n",
      "Epoch 10/50\n",
      "186/186 [==============================] - 0s 876us/step - loss: 26493.5645 - mae: 26493.5645 - val_loss: 27164.8223 - val_mae: 27164.8223\n",
      "Epoch 11/50\n",
      "186/186 [==============================] - 0s 1ms/step - loss: 25837.6953 - mae: 25837.6953 - val_loss: 26695.2930 - val_mae: 26695.2930\n",
      "Epoch 12/50\n",
      "186/186 [==============================] - 0s 968us/step - loss: 24848.6113 - mae: 24848.6113 - val_loss: 26981.9922 - val_mae: 26981.9922\n",
      "Epoch 13/50\n",
      "186/186 [==============================] - 0s 879us/step - loss: 24177.8477 - mae: 24177.8477 - val_loss: 26825.9023 - val_mae: 26825.9023\n",
      "Epoch 14/50\n",
      "186/186 [==============================] - 0s 874us/step - loss: 23703.1523 - mae: 23703.1523 - val_loss: 27180.4570 - val_mae: 27180.4570\n",
      "Epoch 15/50\n",
      "186/186 [==============================] - 0s 901us/step - loss: 23037.9824 - mae: 23037.9824 - val_loss: 27746.3848 - val_mae: 27746.3867\n",
      "Epoch 16/50\n",
      "186/186 [==============================] - 0s 922us/step - loss: 22584.2148 - mae: 22584.2148 - val_loss: 27623.8027 - val_mae: 27623.8027\n",
      "Epoch 17/50\n",
      "186/186 [==============================] - 0s 914us/step - loss: 21646.1875 - mae: 21646.1855 - val_loss: 27569.6699 - val_mae: 27569.6680\n",
      "Epoch 18/50\n",
      "186/186 [==============================] - 0s 860us/step - loss: 21575.0078 - mae: 21575.0078 - val_loss: 27565.3906 - val_mae: 27565.3906\n",
      "Epoch 19/50\n",
      "186/186 [==============================] - 0s 855us/step - loss: 20897.2246 - mae: 20897.2246 - val_loss: 27593.6309 - val_mae: 27593.6270\n",
      "Epoch 20/50\n",
      "186/186 [==============================] - 0s 927us/step - loss: 20601.5996 - mae: 20601.5996 - val_loss: 27626.1074 - val_mae: 27626.1074\n",
      "Epoch 21/50\n",
      "186/186 [==============================] - 0s 1ms/step - loss: 19918.2520 - mae: 19918.2520 - val_loss: 28127.0176 - val_mae: 28127.0176\n",
      "Epoch 22/50\n",
      "186/186 [==============================] - 0s 906us/step - loss: 20656.2031 - mae: 20656.2031 - val_loss: 27642.7695 - val_mae: 27642.7695\n",
      "Epoch 23/50\n",
      "186/186 [==============================] - 0s 1ms/step - loss: 19284.3945 - mae: 19284.3926 - val_loss: 28306.9199 - val_mae: 28306.9199\n",
      "Epoch 24/50\n",
      "186/186 [==============================] - 0s 1ms/step - loss: 19753.3770 - mae: 19753.3770 - val_loss: 28120.2324 - val_mae: 28120.2324\n",
      "Epoch 25/50\n",
      "186/186 [==============================] - 0s 1ms/step - loss: 19309.2949 - mae: 19309.2949 - val_loss: 28611.4922 - val_mae: 28611.4922\n",
      "Epoch 26/50\n",
      "186/186 [==============================] - 0s 1ms/step - loss: 18662.8535 - mae: 18662.8535 - val_loss: 28229.9180 - val_mae: 28229.9180\n",
      "Epoch 27/50\n",
      "186/186 [==============================] - 0s 1ms/step - loss: 18351.8574 - mae: 18351.8574 - val_loss: 28495.8652 - val_mae: 28495.8652\n",
      "Epoch 28/50\n",
      "186/186 [==============================] - 0s 1ms/step - loss: 18570.9961 - mae: 18570.9961 - val_loss: 29228.5547 - val_mae: 29228.5547\n",
      "Epoch 29/50\n",
      "186/186 [==============================] - 0s 1ms/step - loss: 18334.2734 - mae: 18334.2734 - val_loss: 28885.6758 - val_mae: 28885.6758\n",
      "Epoch 30/50\n",
      "186/186 [==============================] - 0s 1ms/step - loss: 18278.7617 - mae: 18278.7617 - val_loss: 28973.4453 - val_mae: 28973.4453\n",
      "Epoch 31/50\n",
      "186/186 [==============================] - 0s 1ms/step - loss: 17394.8984 - mae: 17394.8984 - val_loss: 28735.4141 - val_mae: 28735.4141\n",
      "Epoch 32/50\n",
      "186/186 [==============================] - 0s 1ms/step - loss: 17465.7539 - mae: 17465.7539 - val_loss: 29389.7520 - val_mae: 29389.7520\n",
      "Epoch 33/50\n",
      "186/186 [==============================] - 0s 1ms/step - loss: 17398.7871 - mae: 17398.7852 - val_loss: 29099.9883 - val_mae: 29099.9883\n",
      "Epoch 34/50\n",
      "186/186 [==============================] - 0s 1ms/step - loss: 17468.5410 - mae: 17468.5410 - val_loss: 29878.3027 - val_mae: 29878.3027\n",
      "Epoch 35/50\n",
      "186/186 [==============================] - 0s 1ms/step - loss: 18148.7559 - mae: 18148.7559 - val_loss: 30327.7793 - val_mae: 30327.7793\n",
      "Epoch 36/50\n",
      "186/186 [==============================] - 0s 1ms/step - loss: 17046.0996 - mae: 17046.0996 - val_loss: 30202.6758 - val_mae: 30202.6758\n",
      "Epoch 37/50\n",
      "186/186 [==============================] - 0s 1ms/step - loss: 17395.3945 - mae: 17395.3945 - val_loss: 29709.3398 - val_mae: 29709.3398\n",
      "Epoch 38/50\n",
      "186/186 [==============================] - 0s 1ms/step - loss: 16773.8652 - mae: 16773.8652 - val_loss: 30028.1816 - val_mae: 30028.1855\n",
      "Epoch 39/50\n",
      "186/186 [==============================] - 0s 1ms/step - loss: 16850.8027 - mae: 16850.8027 - val_loss: 29987.0645 - val_mae: 29987.0645\n",
      "Epoch 40/50\n",
      "186/186 [==============================] - 0s 1ms/step - loss: 17068.0488 - mae: 17068.0488 - val_loss: 30280.9531 - val_mae: 30280.9531\n",
      "Epoch 41/50\n",
      "186/186 [==============================] - 0s 1ms/step - loss: 16184.7666 - mae: 16184.7656 - val_loss: 30158.3301 - val_mae: 30158.3301\n",
      "Epoch 42/50\n",
      "186/186 [==============================] - 0s 1ms/step - loss: 16764.6895 - mae: 16764.6895 - val_loss: 30906.9375 - val_mae: 30906.9375\n",
      "Epoch 43/50\n",
      "186/186 [==============================] - 0s 1ms/step - loss: 16905.5684 - mae: 16905.5684 - val_loss: 30170.5781 - val_mae: 30170.5781\n",
      "Epoch 44/50\n",
      "186/186 [==============================] - 0s 1ms/step - loss: 16668.4375 - mae: 16668.4375 - val_loss: 30178.3867 - val_mae: 30178.3867\n",
      "Epoch 45/50\n",
      "186/186 [==============================] - 0s 1ms/step - loss: 15763.6953 - mae: 15763.6953 - val_loss: 30458.7969 - val_mae: 30458.7949\n",
      "Epoch 46/50\n",
      "186/186 [==============================] - 0s 1ms/step - loss: 15698.8857 - mae: 15698.8857 - val_loss: 30566.2148 - val_mae: 30566.2148\n",
      "Epoch 47/50\n",
      "186/186 [==============================] - 0s 1ms/step - loss: 16264.4619 - mae: 16264.4619 - val_loss: 30917.9355 - val_mae: 30917.9355\n",
      "Epoch 48/50\n",
      "186/186 [==============================] - 0s 901us/step - loss: 16460.1699 - mae: 16460.1699 - val_loss: 31349.2480 - val_mae: 31349.2480\n",
      "Epoch 49/50\n",
      "186/186 [==============================] - 0s 871us/step - loss: 16442.7500 - mae: 16442.7500 - val_loss: 31174.7148 - val_mae: 31174.7109\n",
      "Epoch 50/50\n",
      "186/186 [==============================] - 0s 879us/step - loss: 15725.0791 - mae: 15725.0791 - val_loss: 32090.4980 - val_mae: 32090.4980\n"
     ]
    }
   ],
   "source": [
    "# Training Step\n",
    "history_mae_iqr = model_mae_iqr.fit(np.array(X_train_val_iqr), y_train_val_iqr,\n",
    "                                    batch_size=5,epochs=50,\n",
    "                                    validation_data=(np.array(X_val_iqr),y_val_iqr),\n",
    "                                    callbacks=[mae_iqr_callback])"
   ]
  },
  {
   "cell_type": "code",
   "execution_count": 155,
   "metadata": {
    "scrolled": false
   },
   "outputs": [
    {
     "data": {
      "image/png": "[encoded data removed]",
      "text/plain": [
       "<Figure size 864x576 with 1 Axes>"
      ]
     },
     "metadata": {
      "needs_background": "light"
     },
     "output_type": "display_data"
    }
   ],
   "source": [
    "# Plotting Loss\n",
    "fig, ax = plt.subplots(figsize=(12, 8))\n",
    "\n",
    "model_dict = history_mae_iqr.history\n",
    "\n",
    "mae_values = model_dict['mae']\n",
    "val_mae_values = model_dict['val_mae']\n",
    "\n",
    "epochs = range(1, len(mae_values) + 1)\n",
    "ax.plot(epochs, mae_values, label='Training MAE')\n",
    "ax.plot(epochs, val_mae_values, label='Validation MAE')\n",
    "plt.legend()\n",
    "plt.title('Word Data MAE without Outliers')\n",
    "plt.xlabel('Epochs')\n",
    "plt.ylabel('MAE')\n",
    "plt.show()"
   ]
  },
  {
   "cell_type": "markdown",
   "metadata": {},
   "source": [
    "#### Best Results"
   ]
  },
  {
   "cell_type": "code",
   "execution_count": 156,
   "metadata": {},
   "outputs": [
    {
     "name": "stdout",
     "output_type": "stream",
     "text": [
      "Train Error: 22225\n",
      "Test Error: 30460\n"
     ]
    }
   ],
   "source": [
    "best_mae_iqr = load_model(r'Data/model_mae_iqr.h5')\n",
    "errors(best_mae_iqr,mean_absolute_error,X_train_val_iqr,X_test_iqrf,\n",
    "       y_train_val_iqr,y_test_iqrf,squared=False)"
   ]
  },
  {
   "cell_type": "markdown",
   "metadata": {},
   "source": [
    "# Findings\n",
    "- Loss on MAE produced the lowest error overall\n",
    "- Removing outliers improved model performance"
   ]
  },
  {
   "cell_type": "markdown",
   "metadata": {},
   "source": [
    "# Final Stats"
   ]
  },
  {
   "cell_type": "code",
   "execution_count": 157,
   "metadata": {},
   "outputs": [],
   "source": [
    "y_test_preds = best_mae_iqr.predict(np.array(X_test_iqrf))\n",
    "y_train_preds = best_mae_iqr.predict(np.array(X_train_val_iqr))"
   ]
  },
  {
   "cell_type": "code",
   "execution_count": 158,
   "metadata": {
    "scrolled": true
   },
   "outputs": [
    {
     "name": "stdout",
     "output_type": "stream",
     "text": [
      "Average Views: 107615\n",
      "Train MAE: 22225\n",
      "Test MAE: 30460\n"
     ]
    }
   ],
   "source": [
    "print(\"Average Views:\",round(y_iqr.mean()[0]))\n",
    "print(\"Train MAE:\",round(mean_absolute_error(y_train_val_iqr,y_train_preds)))\n",
    "print(\"Test MAE:\",round(mean_absolute_error(y_test_iqrf,y_test_preds)))"
   ]
  },
  {
   "cell_type": "markdown",
   "metadata": {},
   "source": [
    "# Exporting MAE Model without Outliers"
   ]
  },
  {
   "cell_type": "code",
   "execution_count": 35,
   "metadata": {},
   "outputs": [],
   "source": [
    "best_mae_iqr.save(r'Data\\model.h5')\n",
    "best_mae_iqr.save_weights(r'Data\\model_weights.h5')"
   ]
  }
 ],
 "metadata": {
  "kernelspec": {
   "display_name": "Python 3",
   "language": "python",
   "name": "python3"
  },
  "language_info": {
   "codemirror_mode": {
    "name": "ipython",
    "version": 3
   },
   "file_extension": ".py",
   "mimetype": "text/x-python",
   "name": "python",
   "nbconvert_exporter": "python",
   "pygments_lexer": "ipython3",
   "version": "3.8.5"
  },
  "toc": {
   "base_numbering": 1,
   "nav_menu": {},
   "number_sections": true,
   "sideBar": true,
   "skip_h1_title": false,
   "title_cell": "Table of Contents",
   "title_sidebar": "Contents",
   "toc_cell": false,
   "toc_position": {
    "height": "calc(100% - 180px)",
    "left": "10px",
    "top": "150px",
    "width": "365.112px"
   },
   "toc_section_display": true,
   "toc_window_display": true
  }
 },
 "nbformat": 4,
 "nbformat_minor": 4
}
