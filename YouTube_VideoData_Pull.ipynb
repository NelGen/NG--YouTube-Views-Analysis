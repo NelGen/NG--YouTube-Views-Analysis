{
 "cells": [
  {
   "cell_type": "markdown",
   "metadata": {},
   "source": [
    "# YouTube Video Data Downloads \n",
    "- As of 2021-12-20"
   ]
  },
  {
   "cell_type": "code",
   "execution_count": 1,
   "metadata": {},
   "outputs": [],
   "source": [
    "# Imports\n",
    "import pandas as pd\n",
    "import numpy as np\n",
    "import math\n",
    "import pickle\n",
    "from api_keys import youtube_key\n",
    "from googleapiclient.discovery import build"
   ]
  },
  {
   "cell_type": "markdown",
   "metadata": {},
   "source": [
    "## Obtaining Playlist ID for Pulling Video Data"
   ]
  },
  {
   "cell_type": "code",
   "execution_count": 2,
   "metadata": {},
   "outputs": [],
   "source": [
    "youtube = build('youtube','v3',developerKey=youtube_key)\n",
    "\n",
    "# Channel ID pulled from website\n",
    "channel_id = \"UCZNTsLA6t6bRoj-5QRmqt_w\""
   ]
  },
  {
   "cell_type": "code",
   "execution_count": 3,
   "metadata": {},
   "outputs": [
    {
     "name": "stdout",
     "output_type": "stream",
     "text": [
      "{'kind': 'youtube#channelListResponse', 'etag': 'f13VZ1KkcgoXX2KKxLVyezzl0FE', 'pageInfo': {'totalResults': 1, 'resultsPerPage': 5}, 'items': [{'kind': 'youtube#channel', 'etag': '2czfmUQy4Z3ZmxOqw-5i1leCYNo', 'id': 'UCZNTsLA6t6bRoj-5QRmqt_w', 'snippet': {'title': 'LowkoTV', 'description': 'Hello everyone, my name is Lowko and welcome to my channel. I have a passion for strategy games and have been producing gaming video content for over 13 years! \\n\\nI usually upload videos Monday-Saturday on this channel, and daily on the MoreLowko YouTube channel.', 'customUrl': 'lowkotv', 'publishedAt': '2008-02-11T14:09:44Z', 'thumbnails': {'default': {'url': 'https://yt3.ggpht.com/RRBX1HmO7Ng4B2Gp9nHXtYM3n9Pui5LkUu7aix6SseaExKxXCsPckI_XCHFN6-AKpYMxoX7A=s88-c-k-c0x00ffffff-no-rj', 'width': 88, 'height': 88}, 'medium': {'url': 'https://yt3.ggpht.com/RRBX1HmO7Ng4B2Gp9nHXtYM3n9Pui5LkUu7aix6SseaExKxXCsPckI_XCHFN6-AKpYMxoX7A=s240-c-k-c0x00ffffff-no-rj', 'width': 240, 'height': 240}, 'high': {'url': 'https://yt3.ggpht.com/RRBX1HmO7Ng4B2Gp9nHXtYM3n9Pui5LkUu7aix6SseaExKxXCsPckI_XCHFN6-AKpYMxoX7A=s800-c-k-c0x00ffffff-no-rj', 'width': 800, 'height': 800}}, 'localized': {'title': 'LowkoTV', 'description': 'Hello everyone, my name is Lowko and welcome to my channel. I have a passion for strategy games and have been producing gaming video content for over 13 years! \\n\\nI usually upload videos Monday-Saturday on this channel, and daily on the MoreLowko YouTube channel.'}, 'country': 'NL'}, 'contentDetails': {'relatedPlaylists': {'likes': '', 'uploads': 'UUZNTsLA6t6bRoj-5QRmqt_w'}}, 'statistics': {'viewCount': '249103618', 'subscriberCount': '476000', 'hiddenSubscriberCount': False, 'videoCount': '3526'}}]}\n"
     ]
    }
   ],
   "source": [
    "request = youtube.channels().list(part='snippet,contentDetails,statistics',\n",
    "                                 id=channel_id)\n",
    "response = request.execute()\n",
    "print(response)"
   ]
  },
  {
   "cell_type": "code",
   "execution_count": 4,
   "metadata": {
    "scrolled": true
   },
   "outputs": [
    {
     "name": "stdout",
     "output_type": "stream",
     "text": [
      "UUZNTsLA6t6bRoj-5QRmqt_w\n"
     ]
    }
   ],
   "source": [
    "playlist_id = response['items'][0]['contentDetails']['relatedPlaylists']['uploads']\n",
    "print(playlist_id)"
   ]
  },
  {
   "cell_type": "code",
   "execution_count": 5,
   "metadata": {},
   "outputs": [
    {
     "data": {
      "text/plain": [
       "3526"
      ]
     },
     "execution_count": 5,
     "metadata": {},
     "output_type": "execute_result"
    }
   ],
   "source": [
    "# Total # of videos for sanity check later\n",
    "num_videos = int(response['items'][0]['statistics']['videoCount'])\n",
    "num_videos"
   ]
  },
  {
   "cell_type": "code",
   "execution_count": 6,
   "metadata": {},
   "outputs": [
    {
     "data": {
      "text/plain": [
       "71"
      ]
     },
     "execution_count": 6,
     "metadata": {},
     "output_type": "execute_result"
    }
   ],
   "source": [
    "# Limit of 50 requests to api, grabbing number of loops in order to get all the data\n",
    "num_pages = math.ceil(num_videos/50)\n",
    "num_pages"
   ]
  },
  {
   "cell_type": "markdown",
   "metadata": {},
   "source": [
    "## Obtaining Video IDs for All Videos On Channel"
   ]
  },
  {
   "cell_type": "markdown",
   "metadata": {},
   "source": [
    "### Starting with Video Responses containing ID for each video"
   ]
  },
  {
   "cell_type": "code",
   "execution_count": 7,
   "metadata": {},
   "outputs": [],
   "source": [
    "# Container for Video Responses\n",
    "video_responses = []"
   ]
  },
  {
   "cell_type": "code",
   "execution_count": 8,
   "metadata": {},
   "outputs": [],
   "source": [
    "# Looping through all pages since we're limited to 50 requests per call\n",
    "new_request = youtube.playlistItems().list(part='snippet,contentDetails',\n",
    "                                            playlistId=playlist_id,\n",
    "                                            maxResults=50) \n",
    "for page in range(num_pages):\n",
    "    new_response = new_request.execute()\n",
    "    video_responses.append(new_response)\n",
    "    if page == (num_pages-1):\n",
    "        break\n",
    "    else:\n",
    "        new_request = youtube.playlistItems().list(part='snippet,contentDetails',\n",
    "                                                  playlistId=playlist_id,\n",
    "                                                  maxResults=50,\n",
    "                                                  pageToken=new_response['nextPageToken'])"
   ]
  },
  {
   "cell_type": "code",
   "execution_count": 9,
   "metadata": {},
   "outputs": [
    {
     "data": {
      "text/plain": [
       "71"
      ]
     },
     "execution_count": 9,
     "metadata": {},
     "output_type": "execute_result"
    }
   ],
   "source": [
    "# Checks\n",
    "len(video_responses)"
   ]
  },
  {
   "cell_type": "markdown",
   "metadata": {},
   "source": [
    "### Video IDs"
   ]
  },
  {
   "cell_type": "code",
   "execution_count": 10,
   "metadata": {},
   "outputs": [],
   "source": [
    "# Container for Video IDs\n",
    "video_ids = []"
   ]
  },
  {
   "cell_type": "code",
   "execution_count": 11,
   "metadata": {},
   "outputs": [],
   "source": [
    "# Looping through the list of video dictionaries\n",
    "for response_index in range(len(video_responses)):\n",
    "    for vid in video_responses[response_index]['items']:\n",
    "        video_ids.append(vid['contentDetails']['videoId'])"
   ]
  },
  {
   "cell_type": "code",
   "execution_count": 12,
   "metadata": {},
   "outputs": [
    {
     "name": "stdout",
     "output_type": "stream",
     "text": [
      "3526\n",
      "3526\n"
     ]
    }
   ],
   "source": [
    "# Check if # of video IDs match the number of videos from summary\n",
    "print(len(video_ids))\n",
    "print(num_videos)"
   ]
  },
  {
   "cell_type": "code",
   "execution_count": 13,
   "metadata": {},
   "outputs": [
    {
     "data": {
      "text/plain": [
       "['LHDQ8iSbdck', 'IM7OdVKFW4M', 'ReDXHIf6cuc', 'kWfuYGNq1C4', 'IUqQ_rVnSXg']"
      ]
     },
     "execution_count": 13,
     "metadata": {},
     "output_type": "execute_result"
    }
   ],
   "source": [
    "video_ids[:5]"
   ]
  },
  {
   "cell_type": "code",
   "execution_count": 14,
   "metadata": {},
   "outputs": [
    {
     "data": {
      "text/plain": [
       "3526"
      ]
     },
     "execution_count": 14,
     "metadata": {},
     "output_type": "execute_result"
    }
   ],
   "source": [
    "# Confirming no duplicates\n",
    "len(set(video_ids))"
   ]
  },
  {
   "cell_type": "markdown",
   "metadata": {},
   "source": [
    "## Obtaining Video Stats"
   ]
  },
  {
   "cell_type": "code",
   "execution_count": 15,
   "metadata": {},
   "outputs": [
    {
     "data": {
      "text/plain": [
       "71"
      ]
     },
     "execution_count": 15,
     "metadata": {},
     "output_type": "execute_result"
    }
   ],
   "source": [
    "# Grouping Video Ids into groups of 50 to pull max stats per request call\n",
    "combined_ids= [video_ids[i:i + 50] for i in range(0, len(video_ids), 50)]\n",
    "len(combined_ids)"
   ]
  },
  {
   "cell_type": "code",
   "execution_count": 16,
   "metadata": {},
   "outputs": [],
   "source": [
    "# Video stats data pull\n",
    "video_stats=[]\n",
    "for comb in combined_ids:\n",
    "    stat_request = youtube.videos().list(part=\"snippet,contentDetails,statistics\",\n",
    "                                        id=comb)\n",
    "    stat_response = stat_request.execute()\n",
    "    video_stats.append(stat_response)"
   ]
  },
  {
   "cell_type": "code",
   "execution_count": 17,
   "metadata": {},
   "outputs": [
    {
     "data": {
      "text/plain": [
       "71"
      ]
     },
     "execution_count": 17,
     "metadata": {},
     "output_type": "execute_result"
    }
   ],
   "source": [
    "len(video_stats)"
   ]
  },
  {
   "cell_type": "code",
   "execution_count": 18,
   "metadata": {},
   "outputs": [
    {
     "data": {
      "text/plain": [
       "4"
      ]
     },
     "execution_count": 18,
     "metadata": {},
     "output_type": "execute_result"
    }
   ],
   "source": [
    "len(video_stats[-1])"
   ]
  },
  {
   "cell_type": "code",
   "execution_count": 19,
   "metadata": {
    "scrolled": true
   },
   "outputs": [
    {
     "data": {
      "text/plain": [
       "{'kind': 'youtube#video',\n",
       " 'etag': 'LDXfsBPHP_Uyp3WNbkUCxIb8f84',\n",
       " 'id': 'LHDQ8iSbdck',\n",
       " 'snippet': {'publishedAt': '2021-12-21T19:00:14Z',\n",
       "  'channelId': 'UCZNTsLA6t6bRoj-5QRmqt_w',\n",
       "  'title': 'StarCraft 2: EPIC COMEBACKS! (Scarlett vs ByuN)',\n",
       "  'description': \"Best-of-3 series of professional StarCraft 2 between Scarlett (Zerg) and ByuN (Terran). It's obvious that these two players are very familiar with each other as they play build orders and strategies that otherwise wouldn't make much sense in this series.\\n\\nSupport my work on Patreon: http://www.patreon.com/lowkotv\\nBecome a YouTube member: https://lowko.tv/join\\n\\nMy second channel: http://lowko.tv/morelowko\\nLowko Merch: http://lowko.tv/merch\\n\\nBe part of the community on Discord: http://discord.gg/lowkotv\\nThe hardware setup I use: https://lowko.tv/setup/\\n\\nStarCraft 2 is a military science fiction real-time strategy video game developed and released by Blizzard Entertainment.\\n\\n#StarCraft2 #SC2 #RTS\\n\\n--\\nhttp://lowko.tv\\nhttp://twitter.com/lowkotv\\nhttp://facebook.com/lowkotv\\nhttp://instagram.com/lowkotv\\nhttp://twitch.tv/lowkotv\",\n",
       "  'thumbnails': {'default': {'url': 'https://i.ytimg.com/vi/LHDQ8iSbdck/default.jpg',\n",
       "    'width': 120,\n",
       "    'height': 90},\n",
       "   'medium': {'url': 'https://i.ytimg.com/vi/LHDQ8iSbdck/mqdefault.jpg',\n",
       "    'width': 320,\n",
       "    'height': 180},\n",
       "   'high': {'url': 'https://i.ytimg.com/vi/LHDQ8iSbdck/hqdefault.jpg',\n",
       "    'width': 480,\n",
       "    'height': 360},\n",
       "   'standard': {'url': 'https://i.ytimg.com/vi/LHDQ8iSbdck/sddefault.jpg',\n",
       "    'width': 640,\n",
       "    'height': 480},\n",
       "   'maxres': {'url': 'https://i.ytimg.com/vi/LHDQ8iSbdck/maxresdefault.jpg',\n",
       "    'width': 1280,\n",
       "    'height': 720}},\n",
       "  'channelTitle': 'LowkoTV',\n",
       "  'tags': ['Lowko',\n",
       "   'LowkoTV',\n",
       "   'Simon Heijnen',\n",
       "   'Tutorial',\n",
       "   'Guide',\n",
       "   'Commentary',\n",
       "   'How-to',\n",
       "   'StarCraft 2',\n",
       "   'SC2',\n",
       "   'StarCraft 2: Legacy of the Void',\n",
       "   'Tournament',\n",
       "   'Strategy',\n",
       "   'StarCraft 2 cast',\n",
       "   'Zerg',\n",
       "   'Protoss',\n",
       "   'Terran',\n",
       "   'StarCraft 2021',\n",
       "   'StarCraft 2 2021',\n",
       "   'Scarlett',\n",
       "   'ByuN'],\n",
       "  'categoryId': '20',\n",
       "  'liveBroadcastContent': 'none',\n",
       "  'localized': {'title': 'StarCraft 2: EPIC COMEBACKS! (Scarlett vs ByuN)',\n",
       "   'description': \"Best-of-3 series of professional StarCraft 2 between Scarlett (Zerg) and ByuN (Terran). It's obvious that these two players are very familiar with each other as they play build orders and strategies that otherwise wouldn't make much sense in this series.\\n\\nSupport my work on Patreon: http://www.patreon.com/lowkotv\\nBecome a YouTube member: https://lowko.tv/join\\n\\nMy second channel: http://lowko.tv/morelowko\\nLowko Merch: http://lowko.tv/merch\\n\\nBe part of the community on Discord: http://discord.gg/lowkotv\\nThe hardware setup I use: https://lowko.tv/setup/\\n\\nStarCraft 2 is a military science fiction real-time strategy video game developed and released by Blizzard Entertainment.\\n\\n#StarCraft2 #SC2 #RTS\\n\\n--\\nhttp://lowko.tv\\nhttp://twitter.com/lowkotv\\nhttp://facebook.com/lowkotv\\nhttp://instagram.com/lowkotv\\nhttp://twitch.tv/lowkotv\"},\n",
       "  'defaultAudioLanguage': 'en-GB'},\n",
       " 'contentDetails': {'duration': 'PT51M',\n",
       "  'dimension': '2d',\n",
       "  'definition': 'hd',\n",
       "  'caption': 'false',\n",
       "  'licensedContent': True,\n",
       "  'contentRating': {},\n",
       "  'projection': 'rectangular'},\n",
       " 'statistics': {'viewCount': '8088',\n",
       "  'likeCount': '500',\n",
       "  'favoriteCount': '0',\n",
       "  'commentCount': '35'}}"
      ]
     },
     "execution_count": 19,
     "metadata": {},
     "output_type": "execute_result"
    }
   ],
   "source": [
    "# Preview of 1 video stats\n",
    "video_stats[0]['items'][0]"
   ]
  },
  {
   "cell_type": "markdown",
   "metadata": {},
   "source": [
    "## Pulling out video stats into one main list"
   ]
  },
  {
   "cell_type": "code",
   "execution_count": 20,
   "metadata": {},
   "outputs": [
    {
     "data": {
      "text/plain": [
       "3526"
      ]
     },
     "execution_count": 20,
     "metadata": {},
     "output_type": "execute_result"
    }
   ],
   "source": [
    "all_stats = []\n",
    "for response_index in range(len(video_stats)):\n",
    "    for vid in video_stats[response_index]['items']:\n",
    "        all_stats.append(vid)\n",
    "len(all_stats)"
   ]
  },
  {
   "cell_type": "markdown",
   "metadata": {},
   "source": [
    "# Saving results into a pickle file"
   ]
  },
  {
   "cell_type": "code",
   "execution_count": 21,
   "metadata": {},
   "outputs": [],
   "source": [
    "pickle.dump(all_stats, open( r\"Data/all_stats.p\", \"wb\" ) )"
   ]
  }
 ],
 "metadata": {
  "kernelspec": {
   "display_name": "learn-env",
   "language": "python",
   "name": "learn-env"
  },
  "language_info": {
   "codemirror_mode": {
    "name": "ipython",
    "version": 3
   },
   "file_extension": ".py",
   "mimetype": "text/x-python",
   "name": "python",
   "nbconvert_exporter": "python",
   "pygments_lexer": "ipython3",
   "version": "3.8.5"
  },
  "toc": {
   "base_numbering": 1,
   "nav_menu": {},
   "number_sections": true,
   "sideBar": true,
   "skip_h1_title": false,
   "title_cell": "Table of Contents",
   "title_sidebar": "Contents",
   "toc_cell": false,
   "toc_position": {},
   "toc_section_display": true,
   "toc_window_display": true
  }
 },
 "nbformat": 4,
 "nbformat_minor": 4
}
