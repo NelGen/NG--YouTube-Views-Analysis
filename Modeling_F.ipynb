{
 "cells": [
  {
   "cell_type": "markdown",
   "metadata": {},
   "source": [
    "# Imports and Data Load"
   ]
  },
  {
   "cell_type": "code",
   "execution_count": 1,
   "metadata": {},
   "outputs": [],
   "source": [
    "import pickle\n",
    "import pandas as pd\n",
    "import matplotlib.pyplot as plt\n",
    "%matplotlib inline\n",
    "import numpy as np\n",
    "\n",
    "from sklearn.model_selection import train_test_split\n",
    "from sklearn.metrics import mean_absolute_error\n",
    "from keras import models\n",
    "from keras import layers\n",
    "from keras import optimizers\n",
    "from keras import regularizers"
   ]
  },
  {
   "cell_type": "code",
   "execution_count": 2,
   "metadata": {},
   "outputs": [],
   "source": [
    "tf_df = pickle.load(open(r\"Data\\tf_df.pickle\",\"rb\"))"
   ]
  },
  {
   "cell_type": "markdown",
   "metadata": {},
   "source": [
    "# Base Model"
   ]
  },
  {
   "cell_type": "markdown",
   "metadata": {},
   "source": [
    "## Train Test Validation Split\n",
    "- Using 80% of the data to train"
   ]
  },
  {
   "cell_type": "code",
   "execution_count": 3,
   "metadata": {},
   "outputs": [],
   "source": [
    "X_tf = np.array(tf_df.drop('views',axis=1))\n",
    "y_tf = tf_df['views']\n",
    "X_train, X_test, y_train, y_test = train_test_split(X_tf,y_tf,test_size=150,random_state=4521)\n",
    "X_train_f,X_val,y_train_f,y_val = train_test_split(X_train,y_train,test_size=100,random_state=4521)"
   ]
  },
  {
   "cell_type": "markdown",
   "metadata": {},
   "source": [
    "## Modeling"
   ]
  },
  {
   "cell_type": "markdown",
   "metadata": {},
   "source": [
    "### Loss on RMSE"
   ]
  },
  {
   "cell_type": "code",
   "execution_count": 4,
   "metadata": {},
   "outputs": [],
   "source": [
    "# Building Model\n",
    "model_mse = models.Sequential()\n",
    "model_mse.add(layers.Dense(units=100,activation='relu',input_shape=(1813,)))\n",
    "model_mse.add(layers.Dense(units=50,activation='relu'))\n",
    "model_mse.add(layers.Dropout(rate=0.3))\n",
    "model_mse.add(layers.Dense(units=50,activation='relu'))\n",
    "model_mse.add(layers.Dropout(rate=0.3))\n",
    "model_mse.add(layers.Dense(units=1,activation='linear'))\n",
    "\n",
    "# Compilation Step\n",
    "model_mse.compile(optimizer='adam',\n",
    "             loss='mse',\n",
    "             metrics=['mse'])"
   ]
  },
  {
   "cell_type": "code",
   "execution_count": 5,
   "metadata": {},
   "outputs": [
    {
     "name": "stdout",
     "output_type": "stream",
     "text": [
      "Epoch 1/50\n",
      "201/201 [==============================] - 0s 1ms/step - loss: 22847086592.0000 - mse: 22847086592.0000 - val_loss: 22473508864.0000 - val_mse: 22473508864.0000\n",
      "Epoch 2/50\n",
      "201/201 [==============================] - 0s 891us/step - loss: 20211167232.0000 - mse: 20211167232.0000 - val_loss: 16044249088.0000 - val_mse: 16044249088.0000\n",
      "Epoch 3/50\n",
      "201/201 [==============================] - 0s 955us/step - loss: 13034438656.0000 - mse: 13034438656.0000 - val_loss: 10740827136.0000 - val_mse: 10740827136.0000\n",
      "Epoch 4/50\n",
      "201/201 [==============================] - 0s 823us/step - loss: 10828155904.0000 - mse: 10828156928.0000 - val_loss: 10309117952.0000 - val_mse: 10309117952.0000\n",
      "Epoch 5/50\n",
      "201/201 [==============================] - 0s 826us/step - loss: 10544416768.0000 - mse: 10544416768.0000 - val_loss: 10122588160.0000 - val_mse: 10122588160.0000\n",
      "Epoch 6/50\n",
      "201/201 [==============================] - 0s 858us/step - loss: 10478239744.0000 - mse: 10478239744.0000 - val_loss: 10018934784.0000 - val_mse: 10018934784.0000\n",
      "Epoch 7/50\n",
      "201/201 [==============================] - 0s 816us/step - loss: 10367497216.0000 - mse: 10367497216.0000 - val_loss: 9928889344.0000 - val_mse: 9928889344.0000\n",
      "Epoch 8/50\n",
      "201/201 [==============================] - 0s 900us/step - loss: 9874268160.0000 - mse: 9874268160.0000 - val_loss: 9853921280.0000 - val_mse: 9853921280.0000\n",
      "Epoch 9/50\n",
      "201/201 [==============================] - 0s 1ms/step - loss: 9753389056.0000 - mse: 9753389056.0000 - val_loss: 9796584448.0000 - val_mse: 9796584448.0000\n",
      "Epoch 10/50\n",
      "201/201 [==============================] - 0s 863us/step - loss: 9427097600.0000 - mse: 9427096576.0000 - val_loss: 9749659648.0000 - val_mse: 9749659648.0000\n",
      "Epoch 11/50\n",
      "201/201 [==============================] - 0s 853us/step - loss: 9413903360.0000 - mse: 9413903360.0000 - val_loss: 9708861440.0000 - val_mse: 9708861440.0000\n",
      "Epoch 12/50\n",
      "201/201 [==============================] - 0s 831us/step - loss: 9115691008.0000 - mse: 9115692032.0000 - val_loss: 9649645568.0000 - val_mse: 9649645568.0000\n",
      "Epoch 13/50\n",
      "201/201 [==============================] - 0s 821us/step - loss: 8982880256.0000 - mse: 8982880256.0000 - val_loss: 9612333056.0000 - val_mse: 9612333056.0000\n",
      "Epoch 14/50\n",
      "201/201 [==============================] - 0s 883us/step - loss: 8514408960.0000 - mse: 8514408960.0000 - val_loss: 9656504320.0000 - val_mse: 9656504320.0000\n",
      "Epoch 15/50\n",
      "201/201 [==============================] - 0s 831us/step - loss: 8233671680.0000 - mse: 8233671680.0000 - val_loss: 9654295552.0000 - val_mse: 9654295552.0000\n",
      "Epoch 16/50\n",
      "201/201 [==============================] - 0s 818us/step - loss: 8021302272.0000 - mse: 8021302272.0000 - val_loss: 9678266368.0000 - val_mse: 9678266368.0000\n",
      "Epoch 17/50\n",
      "201/201 [==============================] - 0s 886us/step - loss: 7689470464.0000 - mse: 7689470464.0000 - val_loss: 9688089600.0000 - val_mse: 9688089600.0000\n",
      "Epoch 18/50\n",
      "201/201 [==============================] - 0s 890us/step - loss: 7754470400.0000 - mse: 7754470400.0000 - val_loss: 9748023296.0000 - val_mse: 9748023296.0000\n",
      "Epoch 19/50\n",
      "201/201 [==============================] - 0s 861us/step - loss: 7769019392.0000 - mse: 7769019392.0000 - val_loss: 9808452608.0000 - val_mse: 9808452608.0000\n",
      "Epoch 20/50\n",
      "201/201 [==============================] - 0s 821us/step - loss: 7484232192.0000 - mse: 7484232192.0000 - val_loss: 9805376512.0000 - val_mse: 9805376512.0000\n",
      "Epoch 21/50\n",
      "201/201 [==============================] - 0s 838us/step - loss: 7332939776.0000 - mse: 7332939776.0000 - val_loss: 9868396544.0000 - val_mse: 9868396544.0000\n",
      "Epoch 22/50\n",
      "201/201 [==============================] - 0s 863us/step - loss: 6604476928.0000 - mse: 6604476928.0000 - val_loss: 9991678976.0000 - val_mse: 9991678976.0000\n",
      "Epoch 23/50\n",
      "201/201 [==============================] - 0s 813us/step - loss: 6915659264.0000 - mse: 6915659264.0000 - val_loss: 9989016576.0000 - val_mse: 9989016576.0000\n",
      "Epoch 24/50\n",
      "201/201 [==============================] - 0s 836us/step - loss: 6270332928.0000 - mse: 6270332928.0000 - val_loss: 10064007168.0000 - val_mse: 10064007168.0000\n",
      "Epoch 25/50\n",
      "201/201 [==============================] - 0s 831us/step - loss: 6710062592.0000 - mse: 6710062592.0000 - val_loss: 10165648384.0000 - val_mse: 10165648384.0000\n",
      "Epoch 26/50\n",
      "201/201 [==============================] - 0s 841us/step - loss: 6332592640.0000 - mse: 6332592640.0000 - val_loss: 10345972736.0000 - val_mse: 10345973760.0000\n",
      "Epoch 27/50\n",
      "201/201 [==============================] - 0s 846us/step - loss: 6328809472.0000 - mse: 6328809472.0000 - val_loss: 10539593728.0000 - val_mse: 10539593728.0000\n",
      "Epoch 28/50\n",
      "201/201 [==============================] - 0s 953us/step - loss: 6269380608.0000 - mse: 6269380608.0000 - val_loss: 10536247296.0000 - val_mse: 10536247296.0000\n",
      "Epoch 29/50\n",
      "201/201 [==============================] - 0s 888us/step - loss: 5726588928.0000 - mse: 5726588928.0000 - val_loss: 10680659968.0000 - val_mse: 10680659968.0000\n",
      "Epoch 30/50\n",
      "201/201 [==============================] - 0s 925us/step - loss: 5836128768.0000 - mse: 5836128768.0000 - val_loss: 10929838080.0000 - val_mse: 10929838080.0000\n",
      "Epoch 31/50\n",
      "201/201 [==============================] - 0s 818us/step - loss: 5522809856.0000 - mse: 5522809856.0000 - val_loss: 11010964480.0000 - val_mse: 11010964480.0000\n",
      "Epoch 32/50\n",
      "201/201 [==============================] - 0s 848us/step - loss: 5901395968.0000 - mse: 5901395968.0000 - val_loss: 11131834368.0000 - val_mse: 11131834368.0000\n",
      "Epoch 33/50\n",
      "201/201 [==============================] - 0s 958us/step - loss: 5537833984.0000 - mse: 5537833984.0000 - val_loss: 11373646848.0000 - val_mse: 11373646848.0000\n",
      "Epoch 34/50\n",
      "201/201 [==============================] - 0s 831us/step - loss: 5096912384.0000 - mse: 5096912384.0000 - val_loss: 11441821696.0000 - val_mse: 11441821696.0000\n",
      "Epoch 35/50\n",
      "201/201 [==============================] - 0s 1ms/step - loss: 4574445568.0000 - mse: 4574445568.0000 - val_loss: 11653303296.0000 - val_mse: 11653303296.0000\n",
      "Epoch 36/50\n",
      "201/201 [==============================] - 0s 858us/step - loss: 4493409792.0000 - mse: 4493409792.0000 - val_loss: 11848954880.0000 - val_mse: 11848954880.0000\n",
      "Epoch 37/50\n",
      "201/201 [==============================] - 0s 823us/step - loss: 4970236928.0000 - mse: 4970236928.0000 - val_loss: 12053041152.0000 - val_mse: 12053041152.0000\n",
      "Epoch 38/50\n",
      "201/201 [==============================] - 0s 808us/step - loss: 4896404480.0000 - mse: 4896404480.0000 - val_loss: 12201732096.0000 - val_mse: 12201732096.0000\n",
      "Epoch 39/50\n",
      "201/201 [==============================] - 0s 806us/step - loss: 4463962624.0000 - mse: 4463962624.0000 - val_loss: 12513810432.0000 - val_mse: 12513810432.0000\n",
      "Epoch 40/50\n",
      "201/201 [==============================] - 0s 833us/step - loss: 4405059072.0000 - mse: 4405059072.0000 - val_loss: 12699791360.0000 - val_mse: 12699791360.0000\n",
      "Epoch 41/50\n",
      "201/201 [==============================] - 0s 833us/step - loss: 4207410432.0000 - mse: 4207410432.0000 - val_loss: 12968752128.0000 - val_mse: 12968752128.0000\n",
      "Epoch 42/50\n",
      "201/201 [==============================] - 0s 803us/step - loss: 4546197504.0000 - mse: 4546197504.0000 - val_loss: 13064840192.0000 - val_mse: 13064840192.0000\n",
      "Epoch 43/50\n",
      "201/201 [==============================] - 0s 841us/step - loss: 4388343296.0000 - mse: 4388343296.0000 - val_loss: 13232973824.0000 - val_mse: 13232973824.0000\n",
      "Epoch 44/50\n",
      "201/201 [==============================] - 0s 823us/step - loss: 4134088704.0000 - mse: 4134088704.0000 - val_loss: 13294540800.0000 - val_mse: 13294540800.0000\n",
      "Epoch 45/50\n",
      "201/201 [==============================] - 0s 853us/step - loss: 3449666816.0000 - mse: 3449666816.0000 - val_loss: 13726928896.0000 - val_mse: 13726928896.0000\n",
      "Epoch 46/50\n",
      "201/201 [==============================] - 0s 828us/step - loss: 4608378880.0000 - mse: 4608378880.0000 - val_loss: 13919473664.0000 - val_mse: 13919473664.0000\n",
      "Epoch 47/50\n",
      "201/201 [==============================] - 0s 833us/step - loss: 3783854848.0000 - mse: 3783854848.0000 - val_loss: 14081206272.0000 - val_mse: 14081206272.0000\n",
      "Epoch 48/50\n"
     ]
    },
    {
     "name": "stdout",
     "output_type": "stream",
     "text": [
      "201/201 [==============================] - 0s 836us/step - loss: 3610275584.0000 - mse: 3610275584.0000 - val_loss: 14193505280.0000 - val_mse: 14193505280.0000\n",
      "Epoch 49/50\n",
      "201/201 [==============================] - 0s 866us/step - loss: 3750103040.0000 - mse: 3750103040.0000 - val_loss: 14251738112.0000 - val_mse: 14251738112.0000\n",
      "Epoch 50/50\n",
      "201/201 [==============================] - 0s 823us/step - loss: 3440093184.0000 - mse: 3440093184.0000 - val_loss: 14713586688.0000 - val_mse: 14713586688.0000\n"
     ]
    }
   ],
   "source": [
    "# Training Step\n",
    "history_mse = model_mse.fit(X_train_f, y_train_f, batch_size=5,epochs=50,validation_data=(X_val,y_val))"
   ]
  },
  {
   "cell_type": "code",
   "execution_count": 6,
   "metadata": {},
   "outputs": [
    {
     "data": {
      "image/png": "[encoded data removed]",
      "text/plain": [
       "<Figure size 864x576 with 1 Axes>"
      ]
     },
     "metadata": {
      "needs_background": "light"
     },
     "output_type": "display_data"
    }
   ],
   "source": [
    "# Plotting Loss\n",
    "fig, ax = plt.subplots(figsize=(12, 8))\n",
    "\n",
    "model_dict = history_mse.history\n",
    "\n",
    "rmse_values = np.sqrt(model_dict['mse']) \n",
    "val_rmse_values = np.sqrt(model_dict['val_mse'])\n",
    "\n",
    "epochs = range(1, len(rmse_values) + 1)\n",
    "ax.plot(epochs, rmse_values, label='Training RMSE')\n",
    "ax.plot(epochs, val_rmse_values, label='Validation RMSE')\n",
    "plt.legend()\n",
    "plt.title('Word Data RMSE')\n",
    "plt.xlabel('Epochs')\n",
    "plt.ylabel('RMSE')\n",
    "plt.show()"
   ]
  },
  {
   "cell_type": "markdown",
   "metadata": {},
   "source": [
    "### Loss on MAE"
   ]
  },
  {
   "cell_type": "code",
   "execution_count": 7,
   "metadata": {},
   "outputs": [],
   "source": [
    "# Building Model\n",
    "model_mae = models.Sequential()\n",
    "model_mae.add(layers.Dense(units=100,activation='relu',input_shape=(1813,)))\n",
    "model_mae.add(layers.Dense(units=50,activation='relu'))\n",
    "model_mae.add(layers.Dropout(rate=0.3))\n",
    "model_mae.add(layers.Dense(units=50,activation='relu'))\n",
    "model_mae.add(layers.Dropout(rate=0.3))\n",
    "model_mae.add(layers.Dense(units=1,activation='linear'))\n",
    "\n",
    "# Compilation Step\n",
    "model_mae.compile(optimizer='adam',\n",
    "             loss='mae',\n",
    "             metrics=['mae'])"
   ]
  },
  {
   "cell_type": "code",
   "execution_count": 8,
   "metadata": {
    "scrolled": true
   },
   "outputs": [
    {
     "name": "stdout",
     "output_type": "stream",
     "text": [
      "Epoch 1/50\n",
      "201/201 [==============================] - 0s 1ms/step - loss: 107085.7422 - mae: 107085.7422 - val_loss: 105394.7031 - val_mae: 105394.7031\n",
      "Epoch 2/50\n",
      "201/201 [==============================] - 0s 836us/step - loss: 89874.2422 - mae: 89874.2422 - val_loss: 62858.3008 - val_mae: 62858.3008\n",
      "Epoch 3/50\n",
      "201/201 [==============================] - 0s 803us/step - loss: 56047.0273 - mae: 56047.0273 - val_loss: 51712.5859 - val_mae: 51712.5859\n",
      "Epoch 4/50\n",
      "201/201 [==============================] - 0s 818us/step - loss: 52275.2969 - mae: 52275.2969 - val_loss: 50556.4297 - val_mae: 50556.4297\n",
      "Epoch 5/50\n",
      "201/201 [==============================] - 0s 913us/step - loss: 50467.1992 - mae: 50467.1992 - val_loss: 49543.1953 - val_mae: 49543.1953\n",
      "Epoch 6/50\n",
      "201/201 [==============================] - 0s 819us/step - loss: 48692.0195 - mae: 48692.0195 - val_loss: 48841.0391 - val_mae: 48841.0391\n",
      "Epoch 7/50\n",
      "201/201 [==============================] - 0s 798us/step - loss: 47394.2109 - mae: 47394.2109 - val_loss: 48046.7969 - val_mae: 48046.7969\n",
      "Epoch 8/50\n",
      "201/201 [==============================] - 0s 826us/step - loss: 45544.8867 - mae: 45544.8867 - val_loss: 47814.2617 - val_mae: 47814.2617\n",
      "Epoch 9/50\n",
      "201/201 [==============================] - 0s 786us/step - loss: 45143.7070 - mae: 45143.7070 - val_loss: 47350.1797 - val_mae: 47350.1797\n",
      "Epoch 10/50\n",
      "201/201 [==============================] - 0s 786us/step - loss: 43389.8359 - mae: 43389.8359 - val_loss: 46924.3711 - val_mae: 46924.3711\n",
      "Epoch 11/50\n",
      "201/201 [==============================] - 0s 863us/step - loss: 42918.8828 - mae: 42918.8828 - val_loss: 47067.0352 - val_mae: 47067.0352\n",
      "Epoch 12/50\n",
      "201/201 [==============================] - 0s 786us/step - loss: 41629.7969 - mae: 41629.7969 - val_loss: 46862.0586 - val_mae: 46862.0586\n",
      "Epoch 13/50\n",
      "201/201 [==============================] - 0s 784us/step - loss: 40589.7070 - mae: 40589.7070 - val_loss: 47044.3594 - val_mae: 47044.3594\n",
      "Epoch 14/50\n",
      "201/201 [==============================] - 0s 811us/step - loss: 40086.3516 - mae: 40086.3516 - val_loss: 46682.8867 - val_mae: 46682.8867\n",
      "Epoch 15/50\n",
      "201/201 [==============================] - 0s 803us/step - loss: 39420.1250 - mae: 39420.1250 - val_loss: 46655.9961 - val_mae: 46655.9961\n",
      "Epoch 16/50\n",
      "201/201 [==============================] - 0s 803us/step - loss: 38462.4727 - mae: 38462.4727 - val_loss: 46534.2266 - val_mae: 46534.2266\n",
      "Epoch 17/50\n",
      "201/201 [==============================] - 0s 920us/step - loss: 37485.6875 - mae: 37485.6875 - val_loss: 46403.7305 - val_mae: 46403.7305\n",
      "Epoch 18/50\n",
      "201/201 [==============================] - 0s 791us/step - loss: 36282.2812 - mae: 36282.2812 - val_loss: 46497.2852 - val_mae: 46497.2852\n",
      "Epoch 19/50\n",
      "201/201 [==============================] - 0s 786us/step - loss: 35480.4453 - mae: 35480.4453 - val_loss: 46457.4805 - val_mae: 46457.4805\n",
      "Epoch 20/50\n",
      "201/201 [==============================] - 0s 823us/step - loss: 36614.9180 - mae: 36614.9180 - val_loss: 46385.6133 - val_mae: 46385.6133\n",
      "Epoch 21/50\n",
      "201/201 [==============================] - 0s 781us/step - loss: 35419.1680 - mae: 35419.1680 - val_loss: 46538.5117 - val_mae: 46538.5117\n",
      "Epoch 22/50\n",
      "201/201 [==============================] - 0s 831us/step - loss: 34494.6562 - mae: 34494.6562 - val_loss: 46777.6094 - val_mae: 46777.6094\n",
      "Epoch 23/50\n",
      "201/201 [==============================] - 0s 803us/step - loss: 33786.6758 - mae: 33786.6758 - val_loss: 47068.1836 - val_mae: 47068.1836\n",
      "Epoch 24/50\n",
      "201/201 [==============================] - 0s 796us/step - loss: 34376.6289 - mae: 34376.6289 - val_loss: 46809.0898 - val_mae: 46809.0898\n",
      "Epoch 25/50\n",
      "201/201 [==============================] - 0s 801us/step - loss: 33463.3438 - mae: 33463.3438 - val_loss: 47325.5352 - val_mae: 47325.5352\n",
      "Epoch 26/50\n",
      "201/201 [==============================] - 0s 848us/step - loss: 32206.8750 - mae: 32206.8730 - val_loss: 46998.8008 - val_mae: 46998.8008\n",
      "Epoch 27/50\n",
      "201/201 [==============================] - 0s 796us/step - loss: 32750.0117 - mae: 32750.0117 - val_loss: 47509.8203 - val_mae: 47509.8203\n",
      "Epoch 28/50\n",
      "201/201 [==============================] - 0s 794us/step - loss: 32106.6738 - mae: 32106.6738 - val_loss: 47453.7344 - val_mae: 47453.7344\n",
      "Epoch 29/50\n",
      "201/201 [==============================] - 0s 816us/step - loss: 31628.6562 - mae: 31628.6562 - val_loss: 47242.3750 - val_mae: 47242.3750\n",
      "Epoch 30/50\n",
      "201/201 [==============================] - 0s 801us/step - loss: 31954.7578 - mae: 31954.7578 - val_loss: 47293.8398 - val_mae: 47293.8398\n",
      "Epoch 31/50\n",
      "201/201 [==============================] - 0s 863us/step - loss: 30970.1289 - mae: 30970.1289 - val_loss: 47414.6445 - val_mae: 47414.6445\n",
      "Epoch 32/50\n",
      "201/201 [==============================] - 0s 799us/step - loss: 30938.6094 - mae: 30938.6094 - val_loss: 47373.4219 - val_mae: 47373.4219\n",
      "Epoch 33/50\n",
      "201/201 [==============================] - 0s 799us/step - loss: 30799.7031 - mae: 30799.7031 - val_loss: 48088.6016 - val_mae: 48088.6016\n",
      "Epoch 34/50\n",
      "201/201 [==============================] - 0s 804us/step - loss: 30745.9121 - mae: 30745.9141 - val_loss: 48640.2695 - val_mae: 48640.2695\n",
      "Epoch 35/50\n",
      "201/201 [==============================] - 0s 813us/step - loss: 29760.3203 - mae: 29760.3203 - val_loss: 48883.2383 - val_mae: 48883.2383\n",
      "Epoch 36/50\n",
      "201/201 [==============================] - 0s 796us/step - loss: 29682.6719 - mae: 29682.6719 - val_loss: 49197.1992 - val_mae: 49197.1992\n",
      "Epoch 37/50\n",
      "201/201 [==============================] - 0s 833us/step - loss: 29929.9746 - mae: 29929.9746 - val_loss: 49084.7539 - val_mae: 49084.7539\n",
      "Epoch 38/50\n",
      "201/201 [==============================] - 0s 801us/step - loss: 29208.2227 - mae: 29208.2227 - val_loss: 49178.5195 - val_mae: 49178.5195\n",
      "Epoch 39/50\n",
      "201/201 [==============================] - 0s 791us/step - loss: 29958.2930 - mae: 29958.2930 - val_loss: 49222.6562 - val_mae: 49222.6562\n",
      "Epoch 40/50\n",
      "201/201 [==============================] - 0s 878us/step - loss: 29416.5703 - mae: 29416.5703 - val_loss: 49303.4297 - val_mae: 49303.4297\n",
      "Epoch 41/50\n",
      "201/201 [==============================] - 0s 823us/step - loss: 28809.0664 - mae: 28809.0664 - val_loss: 49471.8242 - val_mae: 49471.8242\n",
      "Epoch 42/50\n",
      "201/201 [==============================] - 0s 816us/step - loss: 28946.7754 - mae: 28946.7754 - val_loss: 49859.9648 - val_mae: 49859.9648\n",
      "Epoch 43/50\n",
      "201/201 [==============================] - 0s 784us/step - loss: 27918.3711 - mae: 27918.3711 - val_loss: 49456.7109 - val_mae: 49456.7109\n",
      "Epoch 44/50\n",
      "201/201 [==============================] - 0s 965us/step - loss: 28317.6992 - mae: 28317.6992 - val_loss: 50156.0156 - val_mae: 50156.0156\n",
      "Epoch 45/50\n",
      "201/201 [==============================] - 0s 856us/step - loss: 27605.9688 - mae: 27605.9688 - val_loss: 50573.5781 - val_mae: 50573.5781\n",
      "Epoch 46/50\n",
      "201/201 [==============================] - 0s 766us/step - loss: 27974.1855 - mae: 27974.1855 - val_loss: 50443.1758 - val_mae: 50443.1719\n",
      "Epoch 47/50\n",
      "201/201 [==============================] - 0s 833us/step - loss: 28085.5430 - mae: 28085.5430 - val_loss: 50414.4492 - val_mae: 50414.4492\n",
      "Epoch 48/50\n",
      "201/201 [==============================] - 0s 801us/step - loss: 27878.8242 - mae: 27878.8242 - val_loss: 51193.6289 - val_mae: 51193.6289\n",
      "Epoch 49/50\n",
      "201/201 [==============================] - 0s 891us/step - loss: 27928.1113 - mae: 27928.1113 - val_loss: 51329.0938 - val_mae: 51329.0938\n",
      "Epoch 50/50\n",
      "201/201 [==============================] - 0s 806us/step - loss: 27450.4922 - mae: 27450.4922 - val_loss: 51086.7812 - val_mae: 51086.7812\n"
     ]
    }
   ],
   "source": [
    "# Training Step\n",
    "history_mae = model_mae.fit(X_train_f, y_train_f, batch_size=5,epochs=50,validation_data=(X_val,y_val))"
   ]
  },
  {
   "cell_type": "code",
   "execution_count": 9,
   "metadata": {},
   "outputs": [
    {
     "data": {
      "image/png": "[encoded data removed]",
      "text/plain": [
       "<Figure size 864x576 with 1 Axes>"
      ]
     },
     "metadata": {
      "needs_background": "light"
     },
     "output_type": "display_data"
    }
   ],
   "source": [
    "# Plotting Loss\n",
    "fig, ax = plt.subplots(figsize=(12, 8))\n",
    "\n",
    "model_dict = history_mae.history\n",
    "\n",
    "mae_values = model_dict['mae']\n",
    "val_mae_values = model_dict['val_mae']\n",
    "\n",
    "epochs = range(1, len(mae_values) + 1)\n",
    "ax.plot(epochs, mae_values, label='Training MAE')\n",
    "ax.plot(epochs, val_mae_values, label='Validation MAE')\n",
    "plt.legend()\n",
    "plt.title('Word Data MAE')\n",
    "plt.xlabel('Epochs')\n",
    "plt.ylabel('MAE')\n",
    "plt.show()"
   ]
  },
  {
   "cell_type": "markdown",
   "metadata": {},
   "source": [
    "# Model After Removing Outliers"
   ]
  },
  {
   "cell_type": "markdown",
   "metadata": {},
   "source": [
    "## Outlier Removal using IQR along with Train Test Validation Split"
   ]
  },
  {
   "cell_type": "code",
   "execution_count": 10,
   "metadata": {
    "scrolled": true
   },
   "outputs": [
    {
     "data": {
      "text/plain": [
       "count       1102.00\n",
       "mean      107397.09\n",
       "std       106641.20\n",
       "min         8088.00\n",
       "25%        54421.00\n",
       "50%        81922.00\n",
       "75%       127335.75\n",
       "max      1783323.00\n",
       "Name: views, dtype: float64"
      ]
     },
     "execution_count": 10,
     "metadata": {},
     "output_type": "execute_result"
    }
   ],
   "source": [
    "round(y_train.describe(),2)"
   ]
  },
  {
   "cell_type": "code",
   "execution_count": 11,
   "metadata": {},
   "outputs": [],
   "source": [
    "iqr_df = pickle.load(open(r\"Data\\tf_df.pickle\",\"rb\"))"
   ]
  },
  {
   "cell_type": "code",
   "execution_count": 12,
   "metadata": {},
   "outputs": [],
   "source": [
    "X_iqr = iqr_df.drop('views',axis=1)\n",
    "y_iqr = iqr_df[['views']]\n",
    "\n",
    "X_train_iqr,X_test_iqr,y_train_iqr,y_test_iqr = train_test_split(X_iqr,y_iqr,test_size=150,random_state=4521)"
   ]
  },
  {
   "cell_type": "code",
   "execution_count": 13,
   "metadata": {},
   "outputs": [],
   "source": [
    "# Obtaining Lower and Upper Limits using IQR\n",
    "q25 = y_train_iqr['views'].describe()['25%']\n",
    "q75 = y_train_iqr['views'].describe()['75%']\n",
    "iqr = q75-q25\n",
    "low_lim = q25-1.5*iqr\n",
    "upp_lim = q75+1.5*iqr"
   ]
  },
  {
   "cell_type": "code",
   "execution_count": 14,
   "metadata": {},
   "outputs": [],
   "source": [
    "# Resetting Index to use to help filtering out locations of outliers\n",
    "X_train_iqr.reset_index(inplace=True)\n",
    "X_test_iqr.reset_index(inplace=True)\n",
    "y_train_iqr.reset_index(inplace=True)\n",
    "y_test_iqr.reset_index(inplace=True)"
   ]
  },
  {
   "cell_type": "code",
   "execution_count": 15,
   "metadata": {},
   "outputs": [],
   "source": [
    "# Finding Indexes within range\n",
    "train_keep_in = y_train_iqr['views'].index[(low_lim < y_train_iqr['views']) & (y_train_iqr['views'] < upp_lim)]\n",
    "test_keep_in = y_test_iqr['views'].index[(low_lim < y_test_iqr['views']) & (y_test_iqr['views'] < upp_lim)]"
   ]
  },
  {
   "cell_type": "code",
   "execution_count": 16,
   "metadata": {},
   "outputs": [],
   "source": [
    "# New Train and Test data after removing outliers based on train\n",
    "X_train_iqrf = X_train_iqr.iloc[train_keep_in].drop('index',axis=1)\n",
    "y_train_iqrf = y_train_iqr.iloc[train_keep_in].drop('index',axis=1)\n",
    "X_test_iqrf = X_test_iqr.iloc[test_keep_in].drop('index',axis=1)\n",
    "y_test_iqrf = y_test_iqr.iloc[test_keep_in].drop('index',axis=1)"
   ]
  },
  {
   "cell_type": "code",
   "execution_count": 17,
   "metadata": {},
   "outputs": [],
   "source": [
    "# Validation Split\n",
    "X_train_val_iqr,X_val_iqr,y_train_val_iqr,y_val_iqr = train_test_split(X_train_iqrf,\n",
    "                                                                       y_train_iqrf,\n",
    "                                                                       test_size=100,random_state=4521)"
   ]
  },
  {
   "cell_type": "markdown",
   "metadata": {},
   "source": [
    "## Modeling P2"
   ]
  },
  {
   "cell_type": "markdown",
   "metadata": {},
   "source": [
    "### Loss on RMSE"
   ]
  },
  {
   "cell_type": "code",
   "execution_count": 18,
   "metadata": {},
   "outputs": [],
   "source": [
    "# Building Model\n",
    "model_mse_iqr = models.Sequential()\n",
    "model_mse_iqr.add(layers.Dense(units=100,activation='relu',input_shape=(1813,)))\n",
    "model_mse_iqr.add(layers.Dense(units=50,activation='relu'))\n",
    "model_mse_iqr.add(layers.Dropout(rate=0.3))\n",
    "model_mse_iqr.add(layers.Dense(units=50,activation='relu'))\n",
    "model_mse_iqr.add(layers.Dropout(rate=0.3))\n",
    "model_mse_iqr.add(layers.Dense(units=1,activation='linear'))\n",
    "\n",
    "# Compilation Step\n",
    "model_mse_iqr.compile(optimizer='adam',\n",
    "             loss='mse',\n",
    "             metrics=['mse'])"
   ]
  },
  {
   "cell_type": "code",
   "execution_count": 19,
   "metadata": {
    "scrolled": true
   },
   "outputs": [
    {
     "name": "stdout",
     "output_type": "stream",
     "text": [
      "Epoch 1/50\n",
      "186/186 [==============================] - 0s 1ms/step - loss: 9682907136.0000 - mse: 9682907136.0000 - val_loss: 9275584512.0000 - val_mse: 9275582464.0000\n",
      "Epoch 2/50\n",
      "186/186 [==============================] - 0s 823us/step - loss: 7786053632.0000 - mse: 7786053632.0000 - val_loss: 4718100992.0000 - val_mse: 4718100992.0000\n",
      "Epoch 3/50\n",
      "186/186 [==============================] - 0s 828us/step - loss: 2897130496.0000 - mse: 2897130496.0000 - val_loss: 1579954560.0000 - val_mse: 1579954560.0000\n",
      "Epoch 4/50\n",
      "186/186 [==============================] - 0s 863us/step - loss: 1953101440.0000 - mse: 1953101440.0000 - val_loss: 1468049280.0000 - val_mse: 1468049280.0000\n",
      "Epoch 5/50\n",
      "186/186 [==============================] - 0s 903us/step - loss: 1848628992.0000 - mse: 1848628992.0000 - val_loss: 1356195456.0000 - val_mse: 1356195456.0000\n",
      "Epoch 6/50\n",
      "186/186 [==============================] - 0s 833us/step - loss: 1766126720.0000 - mse: 1766126720.0000 - val_loss: 1330060416.0000 - val_mse: 1330060416.0000\n",
      "Epoch 7/50\n",
      "186/186 [==============================] - 0s 823us/step - loss: 1627094016.0000 - mse: 1627094016.0000 - val_loss: 1265897856.0000 - val_mse: 1265897984.0000\n",
      "Epoch 8/50\n",
      "186/186 [==============================] - 0s 836us/step - loss: 1547117952.0000 - mse: 1547117952.0000 - val_loss: 1230605056.0000 - val_mse: 1230605056.0000\n",
      "Epoch 9/50\n",
      "186/186 [==============================] - 0s 833us/step - loss: 1449187584.0000 - mse: 1449187584.0000 - val_loss: 1207518848.0000 - val_mse: 1207518848.0000\n",
      "Epoch 10/50\n",
      "186/186 [==============================] - 0s 901us/step - loss: 1392339456.0000 - mse: 1392339456.0000 - val_loss: 1178115328.0000 - val_mse: 1178115072.0000\n",
      "Epoch 11/50\n",
      "186/186 [==============================] - 0s 906us/step - loss: 1348475264.0000 - mse: 1348475264.0000 - val_loss: 1158782464.0000 - val_mse: 1158782464.0000\n",
      "Epoch 12/50\n",
      "186/186 [==============================] - 0s 954us/step - loss: 1200528384.0000 - mse: 1200528384.0000 - val_loss: 1136686336.0000 - val_mse: 1136686336.0000\n",
      "Epoch 13/50\n",
      "186/186 [==============================] - 0s 839us/step - loss: 1160879104.0000 - mse: 1160879104.0000 - val_loss: 1115486720.0000 - val_mse: 1115486720.0000\n",
      "Epoch 14/50\n",
      "186/186 [==============================] - 0s 927us/step - loss: 1083540736.0000 - mse: 1083540736.0000 - val_loss: 1122700416.0000 - val_mse: 1122700416.0000\n",
      "Epoch 15/50\n",
      "186/186 [==============================] - 0s 965us/step - loss: 1071998976.0000 - mse: 1071998976.0000 - val_loss: 1127952768.0000 - val_mse: 1127952768.0000\n",
      "Epoch 16/50\n",
      "186/186 [==============================] - 0s 844us/step - loss: 1029690560.0000 - mse: 1029690560.0000 - val_loss: 1121828352.0000 - val_mse: 1121828352.0000\n",
      "Epoch 17/50\n",
      "186/186 [==============================] - 0s 901us/step - loss: 968076096.0000 - mse: 968076096.0000 - val_loss: 1098791808.0000 - val_mse: 1098791808.0000\n",
      "Epoch 18/50\n",
      "186/186 [==============================] - 0s 876us/step - loss: 938278208.0000 - mse: 938278208.0000 - val_loss: 1101957120.0000 - val_mse: 1101957120.0000\n",
      "Epoch 19/50\n",
      "186/186 [==============================] - 0s 938us/step - loss: 918437568.0000 - mse: 918437504.0000 - val_loss: 1088031360.0000 - val_mse: 1088031360.0000\n",
      "Epoch 20/50\n",
      "186/186 [==============================] - 0s 1ms/step - loss: 819237376.0000 - mse: 819237376.0000 - val_loss: 1102206208.0000 - val_mse: 1102206208.0000\n",
      "Epoch 21/50\n",
      "186/186 [==============================] - 0s 836us/step - loss: 854693760.0000 - mse: 854693760.0000 - val_loss: 1098916224.0000 - val_mse: 1098916224.0000\n",
      "Epoch 22/50\n",
      "186/186 [==============================] - 0s 828us/step - loss: 707151680.0000 - mse: 707151680.0000 - val_loss: 1101211904.0000 - val_mse: 1101211904.0000\n",
      "Epoch 23/50\n",
      "186/186 [==============================] - 0s 938us/step - loss: 732541120.0000 - mse: 732541120.0000 - val_loss: 1110238464.0000 - val_mse: 1110238464.0000\n",
      "Epoch 24/50\n",
      "186/186 [==============================] - 0s 882us/step - loss: 736501120.0000 - mse: 736501120.0000 - val_loss: 1147436032.0000 - val_mse: 1147436032.0000\n",
      "Epoch 25/50\n",
      "186/186 [==============================] - 0s 839us/step - loss: 714175424.0000 - mse: 714175424.0000 - val_loss: 1117568640.0000 - val_mse: 1117568640.0000\n",
      "Epoch 26/50\n",
      "186/186 [==============================] - 0s 879us/step - loss: 714057408.0000 - mse: 714057408.0000 - val_loss: 1122419968.0000 - val_mse: 1122419968.0000\n",
      "Epoch 27/50\n",
      "186/186 [==============================] - 0s 1ms/step - loss: 652925184.0000 - mse: 652925184.0000 - val_loss: 1176268416.0000 - val_mse: 1176268416.0000\n",
      "Epoch 28/50\n",
      "186/186 [==============================] - 0s 995us/step - loss: 677836992.0000 - mse: 677836992.0000 - val_loss: 1144729088.0000 - val_mse: 1144729088.0000\n",
      "Epoch 29/50\n",
      "186/186 [==============================] - 0s 1ms/step - loss: 587961856.0000 - mse: 587961856.0000 - val_loss: 1161961984.0000 - val_mse: 1161961984.0000\n",
      "Epoch 30/50\n",
      "186/186 [==============================] - 0s 1ms/step - loss: 644132480.0000 - mse: 644132480.0000 - val_loss: 1203276288.0000 - val_mse: 1203276288.0000\n",
      "Epoch 31/50\n",
      "186/186 [==============================] - 0s 962us/step - loss: 551359552.0000 - mse: 551359552.0000 - val_loss: 1234845312.0000 - val_mse: 1234845312.0000\n",
      "Epoch 32/50\n",
      "186/186 [==============================] - 0s 1ms/step - loss: 586626752.0000 - mse: 586626752.0000 - val_loss: 1202832640.0000 - val_mse: 1202832640.0000\n",
      "Epoch 33/50\n",
      "186/186 [==============================] - 0s 1ms/step - loss: 620587328.0000 - mse: 620587328.0000 - val_loss: 1220624000.0000 - val_mse: 1220624000.0000\n",
      "Epoch 34/50\n",
      "186/186 [==============================] - 0s 995us/step - loss: 597448000.0000 - mse: 597448000.0000 - val_loss: 1218197120.0000 - val_mse: 1218196992.0000\n",
      "Epoch 35/50\n",
      "186/186 [==============================] - 0s 968us/step - loss: 581931520.0000 - mse: 581931520.0000 - val_loss: 1226746368.0000 - val_mse: 1226746496.0000\n",
      "Epoch 36/50\n",
      "186/186 [==============================] - 0s 957us/step - loss: 575851072.0000 - mse: 575851072.0000 - val_loss: 1257219072.0000 - val_mse: 1257219072.0000\n",
      "Epoch 37/50\n",
      "186/186 [==============================] - 0s 973us/step - loss: 576519232.0000 - mse: 576519232.0000 - val_loss: 1290376448.0000 - val_mse: 1290376448.0000\n",
      "Epoch 38/50\n",
      "186/186 [==============================] - 0s 995us/step - loss: 507587456.0000 - mse: 507587456.0000 - val_loss: 1246683264.0000 - val_mse: 1246683264.0000\n",
      "Epoch 39/50\n",
      "186/186 [==============================] - 0s 976us/step - loss: 540926848.0000 - mse: 540926848.0000 - val_loss: 1259017216.0000 - val_mse: 1259017216.0000\n",
      "Epoch 40/50\n",
      "186/186 [==============================] - 0s 987us/step - loss: 536170048.0000 - mse: 536170048.0000 - val_loss: 1307722624.0000 - val_mse: 1307722624.0000\n",
      "Epoch 41/50\n",
      "186/186 [==============================] - 0s 1ms/step - loss: 511266272.0000 - mse: 511266272.0000 - val_loss: 1349067136.0000 - val_mse: 1349067136.0000\n",
      "Epoch 42/50\n",
      "186/186 [==============================] - 0s 1ms/step - loss: 493569312.0000 - mse: 493569312.0000 - val_loss: 1330233984.0000 - val_mse: 1330233984.0000\n",
      "Epoch 43/50\n",
      "186/186 [==============================] - 0s 1ms/step - loss: 530433632.0000 - mse: 530433632.0000 - val_loss: 1348190080.0000 - val_mse: 1348190080.0000\n",
      "Epoch 44/50\n",
      "186/186 [==============================] - 0s 973us/step - loss: 507236480.0000 - mse: 507236480.0000 - val_loss: 1319453824.0000 - val_mse: 1319453824.0000\n",
      "Epoch 45/50\n",
      "186/186 [==============================] - 0s 1ms/step - loss: 508885440.0000 - mse: 508885440.0000 - val_loss: 1334001152.0000 - val_mse: 1334001152.0000\n",
      "Epoch 46/50\n",
      "186/186 [==============================] - 0s 952us/step - loss: 525071712.0000 - mse: 525071712.0000 - val_loss: 1347622528.0000 - val_mse: 1347622528.0000\n",
      "Epoch 47/50\n",
      "186/186 [==============================] - 0s 949us/step - loss: 514680416.0000 - mse: 514680416.0000 - val_loss: 1365888896.0000 - val_mse: 1365888896.0000\n",
      "Epoch 48/50\n",
      "186/186 [==============================] - 0s 981us/step - loss: 464722656.0000 - mse: 464722656.0000 - val_loss: 1341236352.0000 - val_mse: 1341236352.0000\n",
      "Epoch 49/50\n"
     ]
    },
    {
     "name": "stdout",
     "output_type": "stream",
     "text": [
      "186/186 [==============================] - 0s 985us/step - loss: 475054912.0000 - mse: 475054912.0000 - val_loss: 1344807680.0000 - val_mse: 1344807680.0000\n",
      "Epoch 50/50\n",
      "186/186 [==============================] - 0s 1ms/step - loss: 427874304.0000 - mse: 427874304.0000 - val_loss: 1334922496.0000 - val_mse: 1334922496.0000\n"
     ]
    }
   ],
   "source": [
    "# Training Step\n",
    "history_mse_iqr = model_mse_iqr.fit(np.array(X_train_val_iqr), y_train_val_iqr,\n",
    "                                    batch_size=5,epochs=50,\n",
    "                                    validation_data=(np.array(X_val_iqr),y_val_iqr))"
   ]
  },
  {
   "cell_type": "code",
   "execution_count": 20,
   "metadata": {},
   "outputs": [
    {
     "data": {
      "image/png": "[encoded data removed]",
      "text/plain": [
       "<Figure size 864x576 with 1 Axes>"
      ]
     },
     "metadata": {
      "needs_background": "light"
     },
     "output_type": "display_data"
    }
   ],
   "source": [
    "# Plotting Loss\n",
    "fig, ax = plt.subplots(figsize=(12, 8))\n",
    "\n",
    "model_dict = history_mse_iqr.history\n",
    "\n",
    "rmse_values = np.sqrt(model_dict['mse']) \n",
    "val_rmse_values = np.sqrt(model_dict['val_mse'])\n",
    "\n",
    "epochs = range(1, len(rmse_values) + 1)\n",
    "ax.plot(epochs, rmse_values, label='Training RMSE')\n",
    "ax.plot(epochs, val_rmse_values, label='Validation RMSE')\n",
    "plt.legend()\n",
    "plt.title('Word Data RMSE without Outliers')\n",
    "plt.xlabel('Epochs')\n",
    "plt.ylabel('RMSE')\n",
    "plt.show()"
   ]
  },
  {
   "cell_type": "markdown",
   "metadata": {},
   "source": [
    "### Loss on MAE"
   ]
  },
  {
   "cell_type": "code",
   "execution_count": 21,
   "metadata": {},
   "outputs": [],
   "source": [
    "# Building Model\n",
    "model_mae_iqr = models.Sequential()\n",
    "model_mae_iqr.add(layers.Dense(units=100,activation='relu',input_shape=(1813,)))\n",
    "model_mae_iqr.add(layers.Dense(units=50,activation='relu'))\n",
    "model_mae_iqr.add(layers.Dropout(rate=0.3))\n",
    "model_mae_iqr.add(layers.Dense(units=50,activation='relu'))\n",
    "model_mae_iqr.add(layers.Dropout(rate=0.3))\n",
    "model_mae_iqr.add(layers.Dense(units=1,activation='linear'))\n",
    "\n",
    "# Compilation Step\n",
    "model_mae_iqr.compile(optimizer='adam',\n",
    "             loss='mae',\n",
    "             metrics=['mae'])"
   ]
  },
  {
   "cell_type": "code",
   "execution_count": 22,
   "metadata": {},
   "outputs": [
    {
     "name": "stdout",
     "output_type": "stream",
     "text": [
      "Epoch 1/50\n",
      "186/186 [==============================] - 0s 1ms/step - loss: 86253.6250 - mae: 86253.6250 - val_loss: 86637.1094 - val_mae: 86637.1094\n",
      "Epoch 2/50\n",
      "186/186 [==============================] - 0s 809us/step - loss: 67564.2188 - mae: 67564.2109 - val_loss: 42367.6211 - val_mae: 42367.6211\n",
      "Epoch 3/50\n",
      "186/186 [==============================] - 0s 831us/step - loss: 36151.0664 - mae: 36151.0664 - val_loss: 30777.2422 - val_mae: 30777.2422\n",
      "Epoch 4/50\n",
      "186/186 [==============================] - 0s 871us/step - loss: 33378.9336 - mae: 33378.9336 - val_loss: 29607.4551 - val_mae: 29607.4551\n",
      "Epoch 5/50\n",
      "186/186 [==============================] - 0s 793us/step - loss: 31694.2832 - mae: 31694.2832 - val_loss: 29999.0977 - val_mae: 29999.0977\n",
      "Epoch 6/50\n",
      "186/186 [==============================] - 0s 833us/step - loss: 30260.9023 - mae: 30260.9023 - val_loss: 28922.1074 - val_mae: 28922.1074\n",
      "Epoch 7/50\n",
      "186/186 [==============================] - 0s 809us/step - loss: 28682.0703 - mae: 28682.0703 - val_loss: 27981.2246 - val_mae: 27981.2246\n",
      "Epoch 8/50\n",
      "186/186 [==============================] - 0s 828us/step - loss: 27600.4473 - mae: 27600.4473 - val_loss: 28223.2656 - val_mae: 28223.2656\n",
      "Epoch 9/50\n",
      "186/186 [==============================] - 0s 839us/step - loss: 26297.0254 - mae: 26297.0254 - val_loss: 27161.5000 - val_mae: 27161.5000\n",
      "Epoch 10/50\n",
      "186/186 [==============================] - 0s 801us/step - loss: 24972.8789 - mae: 24972.8789 - val_loss: 27732.5703 - val_mae: 27732.5703\n",
      "Epoch 11/50\n",
      "186/186 [==============================] - 0s 887us/step - loss: 24525.5742 - mae: 24525.5742 - val_loss: 27870.5527 - val_mae: 27870.5527\n",
      "Epoch 12/50\n",
      "186/186 [==============================] - 0s 825us/step - loss: 23759.8906 - mae: 23759.8906 - val_loss: 26783.1816 - val_mae: 26783.1816\n",
      "Epoch 13/50\n",
      "186/186 [==============================] - 0s 938us/step - loss: 23427.1562 - mae: 23427.1562 - val_loss: 26677.7949 - val_mae: 26677.7949\n",
      "Epoch 14/50\n",
      "186/186 [==============================] - 0s 944us/step - loss: 22152.4082 - mae: 22152.4082 - val_loss: 26405.1367 - val_mae: 26405.1367\n",
      "Epoch 15/50\n",
      "186/186 [==============================] - 0s 973us/step - loss: 21624.3945 - mae: 21624.3945 - val_loss: 26354.7148 - val_mae: 26354.7148\n",
      "Epoch 16/50\n",
      "186/186 [==============================] - 0s 874us/step - loss: 21043.3848 - mae: 21043.3848 - val_loss: 26358.4434 - val_mae: 26358.4434\n",
      "Epoch 17/50\n",
      "186/186 [==============================] - 0s 987us/step - loss: 20276.0820 - mae: 20276.0820 - val_loss: 26048.6504 - val_mae: 26048.6504\n",
      "Epoch 18/50\n",
      "186/186 [==============================] - 0s 798us/step - loss: 20807.4980 - mae: 20807.4980 - val_loss: 26179.2656 - val_mae: 26179.2656\n",
      "Epoch 19/50\n",
      "186/186 [==============================] - 0s 801us/step - loss: 20215.0762 - mae: 20215.0762 - val_loss: 25818.0117 - val_mae: 25818.0117\n",
      "Epoch 20/50\n",
      "186/186 [==============================] - 0s 860us/step - loss: 19205.4551 - mae: 19205.4551 - val_loss: 26224.6699 - val_mae: 26224.6699\n",
      "Epoch 21/50\n",
      "186/186 [==============================] - 0s 831us/step - loss: 18649.5410 - mae: 18649.5410 - val_loss: 25825.5527 - val_mae: 25825.5527\n",
      "Epoch 22/50\n",
      "186/186 [==============================] - 0s 820us/step - loss: 17763.3223 - mae: 17763.3223 - val_loss: 26086.5176 - val_mae: 26086.5176\n",
      "Epoch 23/50\n",
      "186/186 [==============================] - 0s 812us/step - loss: 18317.1172 - mae: 18317.1172 - val_loss: 25908.8730 - val_mae: 25908.8730\n",
      "Epoch 24/50\n",
      "186/186 [==============================] - 0s 823us/step - loss: 17742.6230 - mae: 17742.6230 - val_loss: 26168.7324 - val_mae: 26168.7324\n",
      "Epoch 25/50\n",
      "186/186 [==============================] - 0s 876us/step - loss: 17736.1992 - mae: 17736.1992 - val_loss: 25968.8906 - val_mae: 25968.8906\n",
      "Epoch 26/50\n",
      "186/186 [==============================] - 0s 804us/step - loss: 17403.0605 - mae: 17403.0605 - val_loss: 26133.1934 - val_mae: 26133.1934\n",
      "Epoch 27/50\n",
      "186/186 [==============================] - 0s 828us/step - loss: 17483.3184 - mae: 17483.3184 - val_loss: 25876.3125 - val_mae: 25876.3125\n",
      "Epoch 28/50\n",
      "186/186 [==============================] - 0s 868us/step - loss: 16966.0293 - mae: 16966.0293 - val_loss: 26334.1875 - val_mae: 26334.1875\n",
      "Epoch 29/50\n",
      "186/186 [==============================] - 0s 796us/step - loss: 16684.6953 - mae: 16684.6953 - val_loss: 26390.3555 - val_mae: 26390.3555\n",
      "Epoch 30/50\n",
      "186/186 [==============================] - 0s 852us/step - loss: 17061.8438 - mae: 17061.8438 - val_loss: 26354.2207 - val_mae: 26354.2207\n",
      "Epoch 31/50\n",
      "186/186 [==============================] - 0s 849us/step - loss: 16901.2246 - mae: 16901.2246 - val_loss: 26865.7109 - val_mae: 26865.7109\n",
      "Epoch 32/50\n",
      "186/186 [==============================] - 0s 868us/step - loss: 17266.9531 - mae: 17266.9531 - val_loss: 26208.7383 - val_mae: 26208.7383\n",
      "Epoch 33/50\n",
      "186/186 [==============================] - 0s 884us/step - loss: 16502.2559 - mae: 16502.2559 - val_loss: 26365.0098 - val_mae: 26365.0098\n",
      "Epoch 34/50\n",
      "186/186 [==============================] - 0s 976us/step - loss: 15728.5420 - mae: 15728.5420 - val_loss: 26340.0430 - val_mae: 26340.0430\n",
      "Epoch 35/50\n",
      "186/186 [==============================] - 0s 901us/step - loss: 15892.3223 - mae: 15892.3223 - val_loss: 26591.8652 - val_mae: 26591.8652\n",
      "Epoch 36/50\n",
      "186/186 [==============================] - 0s 890us/step - loss: 16333.6328 - mae: 16333.6328 - val_loss: 26432.5977 - val_mae: 26432.5977\n",
      "Epoch 37/50\n",
      "186/186 [==============================] - 0s 833us/step - loss: 15661.5752 - mae: 15661.5752 - val_loss: 26478.9766 - val_mae: 26478.9766\n",
      "Epoch 38/50\n",
      "186/186 [==============================] - 0s 925us/step - loss: 15488.4102 - mae: 15488.4102 - val_loss: 26569.1074 - val_mae: 26569.1074\n",
      "Epoch 39/50\n",
      "186/186 [==============================] - 0s 882us/step - loss: 15661.2520 - mae: 15661.2520 - val_loss: 26527.9023 - val_mae: 26527.9023\n",
      "Epoch 40/50\n",
      "186/186 [==============================] - 0s 892us/step - loss: 15657.6436 - mae: 15657.6436 - val_loss: 26818.9629 - val_mae: 26818.9629\n",
      "Epoch 41/50\n",
      "186/186 [==============================] - 0s 833us/step - loss: 15220.4551 - mae: 15220.4551 - val_loss: 26322.7383 - val_mae: 26322.7383\n",
      "Epoch 42/50\n",
      "186/186 [==============================] - 0s 879us/step - loss: 15022.5908 - mae: 15022.5908 - val_loss: 26200.5918 - val_mae: 26200.5918\n",
      "Epoch 43/50\n",
      "186/186 [==============================] - 0s 949us/step - loss: 15290.3604 - mae: 15290.3604 - val_loss: 26457.7168 - val_mae: 26457.7168\n",
      "Epoch 44/50\n",
      "186/186 [==============================] - 0s 809us/step - loss: 15828.1504 - mae: 15828.1504 - val_loss: 26460.2520 - val_mae: 26460.2520\n",
      "Epoch 45/50\n",
      "186/186 [==============================] - 0s 863us/step - loss: 15373.9922 - mae: 15373.9932 - val_loss: 26279.7969 - val_mae: 26279.7969\n",
      "Epoch 46/50\n",
      "186/186 [==============================] - 0s 833us/step - loss: 15186.6533 - mae: 15186.6533 - val_loss: 26447.9180 - val_mae: 26447.9180\n",
      "Epoch 47/50\n",
      "186/186 [==============================] - 0s 790us/step - loss: 15265.8262 - mae: 15265.8262 - val_loss: 26211.9648 - val_mae: 26211.9648\n",
      "Epoch 48/50\n",
      "186/186 [==============================] - 0s 796us/step - loss: 14801.1572 - mae: 14801.1572 - val_loss: 26313.1699 - val_mae: 26313.1699\n",
      "Epoch 49/50\n",
      "186/186 [==============================] - 0s 882us/step - loss: 14507.8213 - mae: 14507.8213 - val_loss: 26800.2207 - val_mae: 26800.2207\n",
      "Epoch 50/50\n",
      "186/186 [==============================] - 0s 812us/step - loss: 14496.1104 - mae: 14496.1104 - val_loss: 26906.7324 - val_mae: 26906.7324\n"
     ]
    }
   ],
   "source": [
    "# Training Step\n",
    "history_mae_iqr = model_mae_iqr.fit(np.array(X_train_val_iqr), y_train_val_iqr,\n",
    "                                    batch_size=5,epochs=50,\n",
    "                                    validation_data=(np.array(X_val_iqr),y_val_iqr))"
   ]
  },
  {
   "cell_type": "code",
   "execution_count": 23,
   "metadata": {},
   "outputs": [
    {
     "data": {
      "image/png": "[encoded data removed]",
      "text/plain": [
       "<Figure size 864x576 with 1 Axes>"
      ]
     },
     "metadata": {
      "needs_background": "light"
     },
     "output_type": "display_data"
    }
   ],
   "source": [
    "# Plotting Loss\n",
    "fig, ax = plt.subplots(figsize=(12, 8))\n",
    "\n",
    "model_dict = history_mae_iqr.history\n",
    "\n",
    "mae_values = model_dict['mae']\n",
    "val_mae_values = model_dict['val_mae']\n",
    "\n",
    "epochs = range(1, len(mae_values) + 1)\n",
    "ax.plot(epochs, mae_values, label='Training MAE')\n",
    "ax.plot(epochs, val_mae_values, label='Validation MAE')\n",
    "plt.legend()\n",
    "plt.title('Word Data MAE without Outliers')\n",
    "plt.xlabel('Epochs')\n",
    "plt.ylabel('MAE')\n",
    "plt.show()"
   ]
  },
  {
   "cell_type": "markdown",
   "metadata": {},
   "source": [
    "# Findings\n",
    "- Loss on MAE produced the lowest error overall\n",
    "- Removing outliers improved model performance"
   ]
  },
  {
   "cell_type": "markdown",
   "metadata": {},
   "source": [
    "# Final Stats"
   ]
  },
  {
   "cell_type": "code",
   "execution_count": 24,
   "metadata": {},
   "outputs": [],
   "source": [
    "y_test_preds = model_mae_iqr.predict(np.array(X_test_iqrf))\n",
    "y_train_preds = model_mae_iqr.predict(np.array(X_train_val_iqr))"
   ]
  },
  {
   "cell_type": "code",
   "execution_count": 25,
   "metadata": {
    "scrolled": true
   },
   "outputs": [
    {
     "name": "stdout",
     "output_type": "stream",
     "text": [
      "Average Views: 107615\n",
      "Train MAE: 9218\n",
      "Test MAE: 31406\n"
     ]
    }
   ],
   "source": [
    "print(\"Average Views:\",round(y_iqr.mean()[0]))\n",
    "print(\"Train MAE:\",round(mean_absolute_error(y_train_val_iqr,y_train_preds)))\n",
    "print(\"Test MAE:\",round(mean_absolute_error(y_test_iqrf,y_test_preds)))"
   ]
  },
  {
   "cell_type": "markdown",
   "metadata": {},
   "source": [
    "# Exporting MAE Model without Outliers"
   ]
  },
  {
   "cell_type": "code",
   "execution_count": 28,
   "metadata": {},
   "outputs": [],
   "source": [
    "model_mae_iqr.save(r'Data\\model.h5')\n",
    "model_mae_iqr.save_weights(r'Data\\model_weights.h5')"
   ]
  }
 ],
 "metadata": {
  "kernelspec": {
   "display_name": "Python 3",
   "language": "python",
   "name": "python3"
  },
  "language_info": {
   "codemirror_mode": {
    "name": "ipython",
    "version": 3
   },
   "file_extension": ".py",
   "mimetype": "text/x-python",
   "name": "python",
   "nbconvert_exporter": "python",
   "pygments_lexer": "ipython3",
   "version": "3.8.5"
  },
  "toc": {
   "base_numbering": 1,
   "nav_menu": {},
   "number_sections": true,
   "sideBar": true,
   "skip_h1_title": false,
   "title_cell": "Table of Contents",
   "title_sidebar": "Contents",
   "toc_cell": false,
   "toc_position": {},
   "toc_section_display": true,
   "toc_window_display": true
  }
 },
 "nbformat": 4,
 "nbformat_minor": 4
}
